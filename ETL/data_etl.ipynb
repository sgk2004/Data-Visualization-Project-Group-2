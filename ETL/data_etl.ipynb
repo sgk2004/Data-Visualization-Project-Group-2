{
 "cells": [
  {
   "cell_type": "code",
   "execution_count": 4,
   "metadata": {},
   "outputs": [],
   "source": [
    "#Dependencies\n",
    "import pymongo\n",
    "import pandas as pd\n",
    "import csv\n",
    "import os\n",
    "from pymongo import MongoClient\n",
    "\n",
    "from datetime import datetime as dt\n",
    "\n",
    "#Web scraping\n",
    "from bs4 import BeautifulSoup as bs\n",
    "from splinter import Browser\n",
    "import time"
   ]
  },
  {
   "cell_type": "markdown",
   "metadata": {},
   "source": [
    "## Data Extraction"
   ]
  },
  {
   "cell_type": "markdown",
   "metadata": {},
   "source": [
    "Data Extracted from CSV to DataFrame"
   ]
  },
  {
   "cell_type": "code",
   "execution_count": 3,
   "metadata": {},
   "outputs": [],
   "source": [
    "# Financial Data 2014-2018 C:\\Users\\sruth\\LearnJS\\Projects\\Draft_Ideas\\Data\\Financial\n",
    "# https://www.kaggle.com/cnic92/200-financial-indicators-of-us-stocks-20142018\n",
    "    \n",
    "data1= os.path.join('Data','Financial','2018_Financial_Data.csv')\n",
    "finanace2018_df = pd.read_csv(data1)\n",
    "\n",
    "\n",
    "data2= os.path.join('Data','Financial','2017_Financial_Data.csv')\n",
    "finanace2017_df = pd.read_csv(data2)\n",
    "\n",
    "data3= os.path.join('Data','Financial','2016_Financial_Data.csv')\n",
    "finanace2016_df = pd.read_csv(data3)\n",
    "\n",
    "data4= os.path.join('Data','Financial','2015_Financial_Data.csv')\n",
    "finanace2015_df = pd.read_csv(data4)\n",
    "\n",
    "data5= os.path.join('Data','Financial','2014_Financial_Data.csv')\n",
    "finanace2014_df = pd.read_csv(data5)\n",
    "\n"
   ]
  },
  {
   "cell_type": "code",
   "execution_count": 4,
   "metadata": {},
   "outputs": [],
   "source": [
    "# Selecting columns needed\n",
    "finanace2018_df = finanace2018_df[['Unnamed: 0','Revenue','Revenue Growth','Gross Profit', 'Profit Margin',  'grossProfitMargin', 'netProfitMargin','Total assets','Total debt' ,'Total liabilities','EPS','Dividend per Share','Sector']]\n",
    "finanace2018_df=finanace2018_df.rename(columns={'Unnamed: 0': 'ticker'})\n",
    "# finanace2018_df"
   ]
  },
  {
   "cell_type": "code",
   "execution_count": 5,
   "metadata": {},
   "outputs": [],
   "source": [
    "finanace2017_df = finanace2017_df[['Unnamed: 0','Revenue','Revenue Growth','Gross Profit', 'Profit Margin',  'grossProfitMargin', 'netProfitMargin','Total assets','Total debt' ,'Total liabilities','EPS','Dividend per Share','Sector']]\n",
    "finanace2017_df=finanace2017_df.rename(columns={'Unnamed: 0': 'ticker'})\n",
    "# finanace2017_df"
   ]
  },
  {
   "cell_type": "code",
   "execution_count": 6,
   "metadata": {},
   "outputs": [],
   "source": [
    "finanace2016_df = finanace2016_df[['Unnamed: 0','Revenue','Revenue Growth','Gross Profit', 'Profit Margin',  'grossProfitMargin', 'netProfitMargin','Total assets','Total debt' ,'Total liabilities','EPS','Dividend per Share','Sector']]\n",
    "finanace2016_df=finanace2016_df.rename(columns={'Unnamed: 0': 'ticker'})\n",
    "# finanace2016_df"
   ]
  },
  {
   "cell_type": "code",
   "execution_count": 7,
   "metadata": {},
   "outputs": [],
   "source": [
    "finanace2015_df = finanace2015_df[['Unnamed: 0','Revenue','Revenue Growth','Gross Profit', 'Profit Margin',  'grossProfitMargin', 'netProfitMargin','Total assets','Total debt' ,'Total liabilities','EPS','Dividend per Share','Sector']]\n",
    "finanace2015_df=finanace2015_df.rename(columns={'Unnamed: 0': 'ticker'})\n",
    "# finanace2015_df"
   ]
  },
  {
   "cell_type": "code",
   "execution_count": 8,
   "metadata": {},
   "outputs": [],
   "source": [
    "finanace2014_df = finanace2014_df[['Unnamed: 0','Revenue','Revenue Growth','Gross Profit', 'Profit Margin',  'grossProfitMargin', 'netProfitMargin','Total assets','Total debt' ,'Total liabilities','EPS','Dividend per Share','Sector']]\n",
    "finanace2014_df=finanace2014_df.rename(columns={'Unnamed: 0': 'ticker'})\n",
    "# finanace2014_df"
   ]
  },
  {
   "cell_type": "markdown",
   "metadata": {},
   "source": [
    "Top 500 stock tickers based on S&P 2019"
   ]
  },
  {
   "cell_type": "code",
   "execution_count": 18,
   "metadata": {},
   "outputs": [],
   "source": [
    "# https://datahub.io/core/s-and-p-500-companies#resource-s-and-p-500-companies_zip\n",
    "# Top 500 companies as listed by S& P 500 in 2019\n",
    "top500= os.path.join('Data','S&P500','S&P500.csv')\n",
    "top500_df = pd.read_csv(top500)\n",
    "# top500_df\n"
   ]
  },
  {
   "cell_type": "code",
   "execution_count": 10,
   "metadata": {},
   "outputs": [],
   "source": [
    "# # Top 500 Stock tickers to list\n",
    "list_topstocks=top500_df['Symbol'].tolist()"
   ]
  },
  {
   "cell_type": "markdown",
   "metadata": {},
   "source": [
    "## Transform the data extracted"
   ]
  },
  {
   "cell_type": "markdown",
   "metadata": {},
   "source": [
    "## 2018 Financial Indicator of Top 500 shares (based on S&P500)"
   ]
  },
  {
   "cell_type": "code",
   "execution_count": 11,
   "metadata": {},
   "outputs": [
    {
     "data": {
      "text/html": [
       "<div>\n",
       "<style scoped>\n",
       "    .dataframe tbody tr th:only-of-type {\n",
       "        vertical-align: middle;\n",
       "    }\n",
       "\n",
       "    .dataframe tbody tr th {\n",
       "        vertical-align: top;\n",
       "    }\n",
       "\n",
       "    .dataframe thead th {\n",
       "        text-align: right;\n",
       "    }\n",
       "</style>\n",
       "<table border=\"1\" class=\"dataframe\">\n",
       "  <thead>\n",
       "    <tr style=\"text-align: right;\">\n",
       "      <th></th>\n",
       "      <th>ticker</th>\n",
       "      <th>Revenue</th>\n",
       "      <th>Revenue Growth</th>\n",
       "      <th>Gross Profit</th>\n",
       "      <th>Profit Margin</th>\n",
       "      <th>grossProfitMargin</th>\n",
       "      <th>netProfitMargin</th>\n",
       "      <th>Total assets</th>\n",
       "      <th>Total debt</th>\n",
       "      <th>Total liabilities</th>\n",
       "      <th>EPS</th>\n",
       "      <th>Dividend per Share</th>\n",
       "      <th>Sector</th>\n",
       "    </tr>\n",
       "  </thead>\n",
       "  <tbody>\n",
       "    <tr>\n",
       "      <td>0</td>\n",
       "      <td>CMCSA</td>\n",
       "      <td>9.450700e+10</td>\n",
       "      <td>0.1115</td>\n",
       "      <td>9.450700e+10</td>\n",
       "      <td>0.124</td>\n",
       "      <td>1.000000</td>\n",
       "      <td>0.124128</td>\n",
       "      <td>2.516840e+11</td>\n",
       "      <td>1.117430e+11</td>\n",
       "      <td>1.791820e+11</td>\n",
       "      <td>2.56</td>\n",
       "      <td>0.917</td>\n",
       "      <td>Consumer Cyclical</td>\n",
       "    </tr>\n",
       "    <tr>\n",
       "      <td>1</td>\n",
       "      <td>KMI</td>\n",
       "      <td>1.414400e+10</td>\n",
       "      <td>0.0320</td>\n",
       "      <td>6.856000e+09</td>\n",
       "      <td>0.105</td>\n",
       "      <td>0.484729</td>\n",
       "      <td>0.113758</td>\n",
       "      <td>7.886600e+10</td>\n",
       "      <td>3.732400e+10</td>\n",
       "      <td>4.366900e+10</td>\n",
       "      <td>0.66</td>\n",
       "      <td>0.725</td>\n",
       "      <td>Energy</td>\n",
       "    </tr>\n",
       "    <tr>\n",
       "      <td>2</td>\n",
       "      <td>INTC</td>\n",
       "      <td>7.084800e+10</td>\n",
       "      <td>0.1289</td>\n",
       "      <td>4.373700e+10</td>\n",
       "      <td>0.297</td>\n",
       "      <td>0.617336</td>\n",
       "      <td>0.297157</td>\n",
       "      <td>1.279630e+11</td>\n",
       "      <td>2.635900e+10</td>\n",
       "      <td>5.340000e+10</td>\n",
       "      <td>4.57</td>\n",
       "      <td>1.200</td>\n",
       "      <td>Technology</td>\n",
       "    </tr>\n",
       "    <tr>\n",
       "      <td>3</td>\n",
       "      <td>MU</td>\n",
       "      <td>3.039100e+10</td>\n",
       "      <td>0.4955</td>\n",
       "      <td>1.789100e+10</td>\n",
       "      <td>0.465</td>\n",
       "      <td>0.588694</td>\n",
       "      <td>0.465105</td>\n",
       "      <td>4.337600e+10</td>\n",
       "      <td>4.639000e+09</td>\n",
       "      <td>1.011200e+10</td>\n",
       "      <td>12.27</td>\n",
       "      <td>0.000</td>\n",
       "      <td>Technology</td>\n",
       "    </tr>\n",
       "    <tr>\n",
       "      <td>4</td>\n",
       "      <td>GE</td>\n",
       "      <td>1.216150e+11</td>\n",
       "      <td>0.0285</td>\n",
       "      <td>2.615400e+10</td>\n",
       "      <td>-0.187</td>\n",
       "      <td>0.215056</td>\n",
       "      <td>-0.183818</td>\n",
       "      <td>3.110720e+11</td>\n",
       "      <td>1.036000e+11</td>\n",
       "      <td>2.595910e+11</td>\n",
       "      <td>-2.62</td>\n",
       "      <td>0.370</td>\n",
       "      <td>Industrials</td>\n",
       "    </tr>\n",
       "    <tr>\n",
       "      <td>...</td>\n",
       "      <td>...</td>\n",
       "      <td>...</td>\n",
       "      <td>...</td>\n",
       "      <td>...</td>\n",
       "      <td>...</td>\n",
       "      <td>...</td>\n",
       "      <td>...</td>\n",
       "      <td>...</td>\n",
       "      <td>...</td>\n",
       "      <td>...</td>\n",
       "      <td>...</td>\n",
       "      <td>...</td>\n",
       "      <td>...</td>\n",
       "    </tr>\n",
       "    <tr>\n",
       "      <td>2052</td>\n",
       "      <td>AZO</td>\n",
       "      <td>1.122108e+10</td>\n",
       "      <td>0.0305</td>\n",
       "      <td>5.973746e+09</td>\n",
       "      <td>0.119</td>\n",
       "      <td>0.532368</td>\n",
       "      <td>0.119199</td>\n",
       "      <td>9.346980e+09</td>\n",
       "      <td>5.005930e+09</td>\n",
       "      <td>1.086734e+10</td>\n",
       "      <td>49.59</td>\n",
       "      <td>0.000</td>\n",
       "      <td>Consumer Cyclical</td>\n",
       "    </tr>\n",
       "    <tr>\n",
       "      <td>2079</td>\n",
       "      <td>ANSS</td>\n",
       "      <td>1.293636e+09</td>\n",
       "      <td>0.1811</td>\n",
       "      <td>1.137751e+09</td>\n",
       "      <td>0.324</td>\n",
       "      <td>0.879499</td>\n",
       "      <td>0.324183</td>\n",
       "      <td>3.265964e+09</td>\n",
       "      <td>0.000000e+00</td>\n",
       "      <td>6.164170e+08</td>\n",
       "      <td>4.99</td>\n",
       "      <td>0.000</td>\n",
       "      <td>Technology</td>\n",
       "    </tr>\n",
       "    <tr>\n",
       "      <td>2173</td>\n",
       "      <td>AMG</td>\n",
       "      <td>2.378400e+09</td>\n",
       "      <td>0.0318</td>\n",
       "      <td>2.378400e+09</td>\n",
       "      <td>0.102</td>\n",
       "      <td>1.000000</td>\n",
       "      <td>0.102422</td>\n",
       "      <td>8.219100e+09</td>\n",
       "      <td>1.829600e+09</td>\n",
       "      <td>3.250500e+09</td>\n",
       "      <td>4.55</td>\n",
       "      <td>1.200</td>\n",
       "      <td>Financial Services</td>\n",
       "    </tr>\n",
       "    <tr>\n",
       "      <td>2228</td>\n",
       "      <td>SNPS</td>\n",
       "      <td>3.121058e+09</td>\n",
       "      <td>0.1454</td>\n",
       "      <td>2.385160e+09</td>\n",
       "      <td>0.139</td>\n",
       "      <td>0.764215</td>\n",
       "      <td>0.138581</td>\n",
       "      <td>6.145974e+09</td>\n",
       "      <td>4.693040e+08</td>\n",
       "      <td>2.660959e+09</td>\n",
       "      <td>2.90</td>\n",
       "      <td>0.000</td>\n",
       "      <td>Technology</td>\n",
       "    </tr>\n",
       "    <tr>\n",
       "      <td>2558</td>\n",
       "      <td>IPGP</td>\n",
       "      <td>1.459874e+09</td>\n",
       "      <td>0.0362</td>\n",
       "      <td>8.002680e+08</td>\n",
       "      <td>0.277</td>\n",
       "      <td>0.548176</td>\n",
       "      <td>0.276755</td>\n",
       "      <td>2.574450e+09</td>\n",
       "      <td>4.537800e+07</td>\n",
       "      <td>3.682150e+08</td>\n",
       "      <td>7.55</td>\n",
       "      <td>0.000</td>\n",
       "      <td>Technology</td>\n",
       "    </tr>\n",
       "  </tbody>\n",
       "</table>\n",
       "<p>476 rows × 13 columns</p>\n",
       "</div>"
      ],
      "text/plain": [
       "     ticker       Revenue  Revenue Growth  Gross Profit  Profit Margin  \\\n",
       "0     CMCSA  9.450700e+10          0.1115  9.450700e+10          0.124   \n",
       "1       KMI  1.414400e+10          0.0320  6.856000e+09          0.105   \n",
       "2      INTC  7.084800e+10          0.1289  4.373700e+10          0.297   \n",
       "3        MU  3.039100e+10          0.4955  1.789100e+10          0.465   \n",
       "4        GE  1.216150e+11          0.0285  2.615400e+10         -0.187   \n",
       "...     ...           ...             ...           ...            ...   \n",
       "2052    AZO  1.122108e+10          0.0305  5.973746e+09          0.119   \n",
       "2079   ANSS  1.293636e+09          0.1811  1.137751e+09          0.324   \n",
       "2173    AMG  2.378400e+09          0.0318  2.378400e+09          0.102   \n",
       "2228   SNPS  3.121058e+09          0.1454  2.385160e+09          0.139   \n",
       "2558   IPGP  1.459874e+09          0.0362  8.002680e+08          0.277   \n",
       "\n",
       "      grossProfitMargin  netProfitMargin  Total assets    Total debt  \\\n",
       "0              1.000000         0.124128  2.516840e+11  1.117430e+11   \n",
       "1              0.484729         0.113758  7.886600e+10  3.732400e+10   \n",
       "2              0.617336         0.297157  1.279630e+11  2.635900e+10   \n",
       "3              0.588694         0.465105  4.337600e+10  4.639000e+09   \n",
       "4              0.215056        -0.183818  3.110720e+11  1.036000e+11   \n",
       "...                 ...              ...           ...           ...   \n",
       "2052           0.532368         0.119199  9.346980e+09  5.005930e+09   \n",
       "2079           0.879499         0.324183  3.265964e+09  0.000000e+00   \n",
       "2173           1.000000         0.102422  8.219100e+09  1.829600e+09   \n",
       "2228           0.764215         0.138581  6.145974e+09  4.693040e+08   \n",
       "2558           0.548176         0.276755  2.574450e+09  4.537800e+07   \n",
       "\n",
       "      Total liabilities    EPS  Dividend per Share              Sector  \n",
       "0          1.791820e+11   2.56               0.917   Consumer Cyclical  \n",
       "1          4.366900e+10   0.66               0.725              Energy  \n",
       "2          5.340000e+10   4.57               1.200          Technology  \n",
       "3          1.011200e+10  12.27               0.000          Technology  \n",
       "4          2.595910e+11  -2.62               0.370         Industrials  \n",
       "...                 ...    ...                 ...                 ...  \n",
       "2052       1.086734e+10  49.59               0.000   Consumer Cyclical  \n",
       "2079       6.164170e+08   4.99               0.000          Technology  \n",
       "2173       3.250500e+09   4.55               1.200  Financial Services  \n",
       "2228       2.660959e+09   2.90               0.000          Technology  \n",
       "2558       3.682150e+08   7.55               0.000          Technology  \n",
       "\n",
       "[476 rows x 13 columns]"
      ]
     },
     "execution_count": 11,
     "metadata": {},
     "output_type": "execute_result"
    }
   ],
   "source": [
    "#2018 Financial indicator of top 500 stocks \n",
    "top500_2018 =finanace2018_df.loc[finanace2018_df['ticker'].isin(list_topstocks)]\n",
    "top500_2018"
   ]
  },
  {
   "cell_type": "markdown",
   "metadata": {},
   "source": [
    "Dropping the rows which has null values in Revenue column"
   ]
  },
  {
   "cell_type": "code",
   "execution_count": 12,
   "metadata": {},
   "outputs": [
    {
     "data": {
      "text/html": [
       "<div>\n",
       "<style scoped>\n",
       "    .dataframe tbody tr th:only-of-type {\n",
       "        vertical-align: middle;\n",
       "    }\n",
       "\n",
       "    .dataframe tbody tr th {\n",
       "        vertical-align: top;\n",
       "    }\n",
       "\n",
       "    .dataframe thead th {\n",
       "        text-align: right;\n",
       "    }\n",
       "</style>\n",
       "<table border=\"1\" class=\"dataframe\">\n",
       "  <thead>\n",
       "    <tr style=\"text-align: right;\">\n",
       "      <th></th>\n",
       "      <th>ticker</th>\n",
       "      <th>Revenue</th>\n",
       "      <th>Revenue Growth</th>\n",
       "      <th>Gross Profit</th>\n",
       "      <th>Profit Margin</th>\n",
       "      <th>grossProfitMargin</th>\n",
       "      <th>netProfitMargin</th>\n",
       "      <th>Total assets</th>\n",
       "      <th>Total debt</th>\n",
       "      <th>Total liabilities</th>\n",
       "      <th>EPS</th>\n",
       "      <th>Dividend per Share</th>\n",
       "      <th>Sector</th>\n",
       "    </tr>\n",
       "  </thead>\n",
       "  <tbody>\n",
       "    <tr>\n",
       "      <td>177</td>\n",
       "      <td>FOX</td>\n",
       "      <td>NaN</td>\n",
       "      <td>NaN</td>\n",
       "      <td>3.648000e+09</td>\n",
       "      <td>0.147</td>\n",
       "      <td>NaN</td>\n",
       "      <td>NaN</td>\n",
       "      <td>1.312100e+10</td>\n",
       "      <td>1.952300e+10</td>\n",
       "      <td>3.252000e+09</td>\n",
       "      <td>NaN</td>\n",
       "      <td>0.36</td>\n",
       "      <td>Consumer Cyclical</td>\n",
       "    </tr>\n",
       "  </tbody>\n",
       "</table>\n",
       "</div>"
      ],
      "text/plain": [
       "    ticker  Revenue  Revenue Growth  Gross Profit  Profit Margin  \\\n",
       "177    FOX      NaN             NaN  3.648000e+09          0.147   \n",
       "\n",
       "     grossProfitMargin  netProfitMargin  Total assets    Total debt  \\\n",
       "177                NaN              NaN  1.312100e+10  1.952300e+10   \n",
       "\n",
       "     Total liabilities  EPS  Dividend per Share             Sector  \n",
       "177       3.252000e+09  NaN                0.36  Consumer Cyclical  "
      ]
     },
     "execution_count": 12,
     "metadata": {},
     "output_type": "execute_result"
    }
   ],
   "source": [
    "top500_2018.loc[top500_2018['EPS'].isna()]"
   ]
  },
  {
   "cell_type": "code",
   "execution_count": 13,
   "metadata": {},
   "outputs": [],
   "source": [
    "top500_2018= top500_2018.dropna(subset = [\"Revenue\"])"
   ]
  },
  {
   "cell_type": "markdown",
   "metadata": {},
   "source": [
    "Fill NaN with NULL to get a valid JSON format"
   ]
  },
  {
   "cell_type": "code",
   "execution_count": 14,
   "metadata": {},
   "outputs": [],
   "source": [
    "top500_2018=top500_2018.fillna('NULL')"
   ]
  },
  {
   "cell_type": "code",
   "execution_count": 15,
   "metadata": {},
   "outputs": [
    {
     "name": "stdout",
     "output_type": "stream",
     "text": [
      "<class 'pandas.core.frame.DataFrame'>\n",
      "Int64Index: 475 entries, 0 to 2558\n",
      "Data columns (total 13 columns):\n",
      "ticker                475 non-null object\n",
      "Revenue               475 non-null float64\n",
      "Revenue Growth        475 non-null object\n",
      "Gross Profit          475 non-null float64\n",
      "Profit Margin         475 non-null object\n",
      "grossProfitMargin     475 non-null object\n",
      "netProfitMargin       475 non-null object\n",
      "Total assets          475 non-null float64\n",
      "Total debt            475 non-null object\n",
      "Total liabilities     475 non-null float64\n",
      "EPS                   475 non-null float64\n",
      "Dividend per Share    475 non-null object\n",
      "Sector                475 non-null object\n",
      "dtypes: float64(5), object(8)\n",
      "memory usage: 52.0+ KB\n"
     ]
    }
   ],
   "source": [
    "top500_2018.info()"
   ]
  },
  {
   "cell_type": "code",
   "execution_count": 16,
   "metadata": {},
   "outputs": [],
   "source": [
    "# path2018= os.path.join('Data', 'output', 'financial_data2018.csv')\n",
    "# top500_2018.to_csv(path2018)"
   ]
  },
  {
   "cell_type": "markdown",
   "metadata": {},
   "source": [
    "## 2017 Financial Indicator of Top 500 shares (based on S&P500)"
   ]
  },
  {
   "cell_type": "code",
   "execution_count": 17,
   "metadata": {},
   "outputs": [
    {
     "data": {
      "text/html": [
       "<div>\n",
       "<style scoped>\n",
       "    .dataframe tbody tr th:only-of-type {\n",
       "        vertical-align: middle;\n",
       "    }\n",
       "\n",
       "    .dataframe tbody tr th {\n",
       "        vertical-align: top;\n",
       "    }\n",
       "\n",
       "    .dataframe thead th {\n",
       "        text-align: right;\n",
       "    }\n",
       "</style>\n",
       "<table border=\"1\" class=\"dataframe\">\n",
       "  <thead>\n",
       "    <tr style=\"text-align: right;\">\n",
       "      <th></th>\n",
       "      <th>ticker</th>\n",
       "      <th>Revenue</th>\n",
       "      <th>Revenue Growth</th>\n",
       "      <th>Gross Profit</th>\n",
       "      <th>Profit Margin</th>\n",
       "      <th>grossProfitMargin</th>\n",
       "      <th>netProfitMargin</th>\n",
       "      <th>Total assets</th>\n",
       "      <th>Total debt</th>\n",
       "      <th>Total liabilities</th>\n",
       "      <th>EPS</th>\n",
       "      <th>Dividend per Share</th>\n",
       "      <th>Sector</th>\n",
       "    </tr>\n",
       "  </thead>\n",
       "  <tbody>\n",
       "    <tr>\n",
       "      <td>0</td>\n",
       "      <td>PG</td>\n",
       "      <td>6.505800e+10</td>\n",
       "      <td>-0.0037</td>\n",
       "      <td>3.242000e+10</td>\n",
       "      <td>0.236</td>\n",
       "      <td>0.498325</td>\n",
       "      <td>0.235574</td>\n",
       "      <td>1.204060e+11</td>\n",
       "      <td>3.159200e+10</td>\n",
       "      <td>6.462800e+10</td>\n",
       "      <td>5.800</td>\n",
       "      <td>2.698</td>\n",
       "      <td>Consumer Defensive</td>\n",
       "    </tr>\n",
       "    <tr>\n",
       "      <td>2</td>\n",
       "      <td>KR</td>\n",
       "      <td>1.153370e+11</td>\n",
       "      <td>0.0501</td>\n",
       "      <td>2.583500e+10</td>\n",
       "      <td>0.017</td>\n",
       "      <td>0.223996</td>\n",
       "      <td>0.017124</td>\n",
       "      <td>3.650500e+10</td>\n",
       "      <td>1.407700e+10</td>\n",
       "      <td>2.979500e+10</td>\n",
       "      <td>2.080</td>\n",
       "      <td>0.450</td>\n",
       "      <td>Consumer Defensive</td>\n",
       "    </tr>\n",
       "    <tr>\n",
       "      <td>4</td>\n",
       "      <td>GIS</td>\n",
       "      <td>1.561980e+10</td>\n",
       "      <td>-0.0570</td>\n",
       "      <td>5.567800e+09</td>\n",
       "      <td>0.106</td>\n",
       "      <td>0.356458</td>\n",
       "      <td>0.106115</td>\n",
       "      <td>2.181260e+10</td>\n",
       "      <td>9.481700e+09</td>\n",
       "      <td>1.621620e+10</td>\n",
       "      <td>2.820</td>\n",
       "      <td>1.920</td>\n",
       "      <td>Consumer Defensive</td>\n",
       "    </tr>\n",
       "    <tr>\n",
       "      <td>5</td>\n",
       "      <td>PM</td>\n",
       "      <td>7.809800e+10</td>\n",
       "      <td>0.0420</td>\n",
       "      <td>1.831600e+10</td>\n",
       "      <td>0.077</td>\n",
       "      <td>0.234526</td>\n",
       "      <td>0.077275</td>\n",
       "      <td>4.296800e+10</td>\n",
       "      <td>3.433900e+10</td>\n",
       "      <td>5.319800e+10</td>\n",
       "      <td>3.880</td>\n",
       "      <td>4.220</td>\n",
       "      <td>Consumer Defensive</td>\n",
       "    </tr>\n",
       "    <tr>\n",
       "      <td>6</td>\n",
       "      <td>KO</td>\n",
       "      <td>3.541000e+10</td>\n",
       "      <td>-0.1541</td>\n",
       "      <td>2.215500e+10</td>\n",
       "      <td>0.035</td>\n",
       "      <td>0.625671</td>\n",
       "      <td>0.035244</td>\n",
       "      <td>8.789600e+10</td>\n",
       "      <td>4.768500e+10</td>\n",
       "      <td>6.891900e+10</td>\n",
       "      <td>0.293</td>\n",
       "      <td>1.480</td>\n",
       "      <td>Consumer Defensive</td>\n",
       "    </tr>\n",
       "    <tr>\n",
       "      <td>...</td>\n",
       "      <td>...</td>\n",
       "      <td>...</td>\n",
       "      <td>...</td>\n",
       "      <td>...</td>\n",
       "      <td>...</td>\n",
       "      <td>...</td>\n",
       "      <td>...</td>\n",
       "      <td>...</td>\n",
       "      <td>...</td>\n",
       "      <td>...</td>\n",
       "      <td>...</td>\n",
       "      <td>...</td>\n",
       "      <td>...</td>\n",
       "    </tr>\n",
       "    <tr>\n",
       "      <td>4590</td>\n",
       "      <td>GRMN</td>\n",
       "      <td>3.121560e+09</td>\n",
       "      <td>0.0249</td>\n",
       "      <td>1.797941e+09</td>\n",
       "      <td>0.227</td>\n",
       "      <td>0.575975</td>\n",
       "      <td>0.227132</td>\n",
       "      <td>4.948289e+09</td>\n",
       "      <td>0.000000e+00</td>\n",
       "      <td>1.095870e+09</td>\n",
       "      <td>3.770</td>\n",
       "      <td>2.550</td>\n",
       "      <td>Technology</td>\n",
       "    </tr>\n",
       "    <tr>\n",
       "      <td>4610</td>\n",
       "      <td>AME</td>\n",
       "      <td>4.300170e+09</td>\n",
       "      <td>0.1198</td>\n",
       "      <td>1.438800e+09</td>\n",
       "      <td>0.158</td>\n",
       "      <td>0.334591</td>\n",
       "      <td>0.158475</td>\n",
       "      <td>7.796064e+09</td>\n",
       "      <td>2.174289e+09</td>\n",
       "      <td>3.768431e+09</td>\n",
       "      <td>2.960</td>\n",
       "      <td>0.360</td>\n",
       "      <td>Technology</td>\n",
       "    </tr>\n",
       "    <tr>\n",
       "      <td>4636</td>\n",
       "      <td>ANSS</td>\n",
       "      <td>1.095250e+09</td>\n",
       "      <td>0.1080</td>\n",
       "      <td>9.450860e+08</td>\n",
       "      <td>0.237</td>\n",
       "      <td>0.862895</td>\n",
       "      <td>0.236705</td>\n",
       "      <td>2.941623e+09</td>\n",
       "      <td>0.000000e+00</td>\n",
       "      <td>6.957920e+08</td>\n",
       "      <td>3.050</td>\n",
       "      <td>0.000</td>\n",
       "      <td>Technology</td>\n",
       "    </tr>\n",
       "    <tr>\n",
       "      <td>4661</td>\n",
       "      <td>SNPS</td>\n",
       "      <td>2.724880e+09</td>\n",
       "      <td>0.1248</td>\n",
       "      <td>2.070696e+09</td>\n",
       "      <td>0.050</td>\n",
       "      <td>0.759922</td>\n",
       "      <td>0.050117</td>\n",
       "      <td>5.396414e+09</td>\n",
       "      <td>1.439870e+08</td>\n",
       "      <td>2.116690e+09</td>\n",
       "      <td>0.910</td>\n",
       "      <td>0.000</td>\n",
       "      <td>Technology</td>\n",
       "    </tr>\n",
       "    <tr>\n",
       "      <td>4718</td>\n",
       "      <td>IPGP</td>\n",
       "      <td>1.408889e+09</td>\n",
       "      <td>0.4002</td>\n",
       "      <td>7.969110e+08</td>\n",
       "      <td>0.247</td>\n",
       "      <td>0.565631</td>\n",
       "      <td>0.246729</td>\n",
       "      <td>2.367255e+09</td>\n",
       "      <td>4.898200e+07</td>\n",
       "      <td>3.449330e+08</td>\n",
       "      <td>6.500</td>\n",
       "      <td>0.000</td>\n",
       "      <td>Technology</td>\n",
       "    </tr>\n",
       "  </tbody>\n",
       "</table>\n",
       "<p>478 rows × 13 columns</p>\n",
       "</div>"
      ],
      "text/plain": [
       "     ticker       Revenue  Revenue Growth  Gross Profit  Profit Margin  \\\n",
       "0        PG  6.505800e+10         -0.0037  3.242000e+10          0.236   \n",
       "2        KR  1.153370e+11          0.0501  2.583500e+10          0.017   \n",
       "4       GIS  1.561980e+10         -0.0570  5.567800e+09          0.106   \n",
       "5        PM  7.809800e+10          0.0420  1.831600e+10          0.077   \n",
       "6        KO  3.541000e+10         -0.1541  2.215500e+10          0.035   \n",
       "...     ...           ...             ...           ...            ...   \n",
       "4590   GRMN  3.121560e+09          0.0249  1.797941e+09          0.227   \n",
       "4610    AME  4.300170e+09          0.1198  1.438800e+09          0.158   \n",
       "4636   ANSS  1.095250e+09          0.1080  9.450860e+08          0.237   \n",
       "4661   SNPS  2.724880e+09          0.1248  2.070696e+09          0.050   \n",
       "4718   IPGP  1.408889e+09          0.4002  7.969110e+08          0.247   \n",
       "\n",
       "      grossProfitMargin  netProfitMargin  Total assets    Total debt  \\\n",
       "0              0.498325         0.235574  1.204060e+11  3.159200e+10   \n",
       "2              0.223996         0.017124  3.650500e+10  1.407700e+10   \n",
       "4              0.356458         0.106115  2.181260e+10  9.481700e+09   \n",
       "5              0.234526         0.077275  4.296800e+10  3.433900e+10   \n",
       "6              0.625671         0.035244  8.789600e+10  4.768500e+10   \n",
       "...                 ...              ...           ...           ...   \n",
       "4590           0.575975         0.227132  4.948289e+09  0.000000e+00   \n",
       "4610           0.334591         0.158475  7.796064e+09  2.174289e+09   \n",
       "4636           0.862895         0.236705  2.941623e+09  0.000000e+00   \n",
       "4661           0.759922         0.050117  5.396414e+09  1.439870e+08   \n",
       "4718           0.565631         0.246729  2.367255e+09  4.898200e+07   \n",
       "\n",
       "      Total liabilities    EPS  Dividend per Share              Sector  \n",
       "0          6.462800e+10  5.800               2.698  Consumer Defensive  \n",
       "2          2.979500e+10  2.080               0.450  Consumer Defensive  \n",
       "4          1.621620e+10  2.820               1.920  Consumer Defensive  \n",
       "5          5.319800e+10  3.880               4.220  Consumer Defensive  \n",
       "6          6.891900e+10  0.293               1.480  Consumer Defensive  \n",
       "...                 ...    ...                 ...                 ...  \n",
       "4590       1.095870e+09  3.770               2.550          Technology  \n",
       "4610       3.768431e+09  2.960               0.360          Technology  \n",
       "4636       6.957920e+08  3.050               0.000          Technology  \n",
       "4661       2.116690e+09  0.910               0.000          Technology  \n",
       "4718       3.449330e+08  6.500               0.000          Technology  \n",
       "\n",
       "[478 rows x 13 columns]"
      ]
     },
     "execution_count": 17,
     "metadata": {},
     "output_type": "execute_result"
    }
   ],
   "source": [
    "#2017 Financial indicator of top 500 stocks \n",
    "top500_2017 =finanace2017_df.loc[finanace2017_df['ticker'].isin(list_topstocks)]\n",
    "top500_2017"
   ]
  },
  {
   "cell_type": "code",
   "execution_count": 18,
   "metadata": {},
   "outputs": [
    {
     "data": {
      "text/html": [
       "<div>\n",
       "<style scoped>\n",
       "    .dataframe tbody tr th:only-of-type {\n",
       "        vertical-align: middle;\n",
       "    }\n",
       "\n",
       "    .dataframe tbody tr th {\n",
       "        vertical-align: top;\n",
       "    }\n",
       "\n",
       "    .dataframe thead th {\n",
       "        text-align: right;\n",
       "    }\n",
       "</style>\n",
       "<table border=\"1\" class=\"dataframe\">\n",
       "  <thead>\n",
       "    <tr style=\"text-align: right;\">\n",
       "      <th></th>\n",
       "      <th>ticker</th>\n",
       "      <th>Revenue</th>\n",
       "      <th>Revenue Growth</th>\n",
       "      <th>Gross Profit</th>\n",
       "      <th>Profit Margin</th>\n",
       "      <th>grossProfitMargin</th>\n",
       "      <th>netProfitMargin</th>\n",
       "      <th>Total assets</th>\n",
       "      <th>Total debt</th>\n",
       "      <th>Total liabilities</th>\n",
       "      <th>EPS</th>\n",
       "      <th>Dividend per Share</th>\n",
       "      <th>Sector</th>\n",
       "    </tr>\n",
       "  </thead>\n",
       "  <tbody>\n",
       "    <tr>\n",
       "      <td>494</td>\n",
       "      <td>ESRX</td>\n",
       "      <td>NaN</td>\n",
       "      <td>NaN</td>\n",
       "      <td>NaN</td>\n",
       "      <td>NaN</td>\n",
       "      <td>NaN</td>\n",
       "      <td>NaN</td>\n",
       "      <td>5.425600e+10</td>\n",
       "      <td>1.498200e+10</td>\n",
       "      <td>3.613000e+10</td>\n",
       "      <td>7.79</td>\n",
       "      <td>NaN</td>\n",
       "      <td>Healthcare</td>\n",
       "    </tr>\n",
       "    <tr>\n",
       "      <td>524</td>\n",
       "      <td>AET</td>\n",
       "      <td>NaN</td>\n",
       "      <td>NaN</td>\n",
       "      <td>NaN</td>\n",
       "      <td>NaN</td>\n",
       "      <td>NaN</td>\n",
       "      <td>NaN</td>\n",
       "      <td>5.515100e+10</td>\n",
       "      <td>8.160000e+09</td>\n",
       "      <td>3.931400e+10</td>\n",
       "      <td>5.71</td>\n",
       "      <td>NaN</td>\n",
       "      <td>Healthcare</td>\n",
       "    </tr>\n",
       "    <tr>\n",
       "      <td>540</td>\n",
       "      <td>EVHC</td>\n",
       "      <td>NaN</td>\n",
       "      <td>NaN</td>\n",
       "      <td>NaN</td>\n",
       "      <td>NaN</td>\n",
       "      <td>NaN</td>\n",
       "      <td>NaN</td>\n",
       "      <td>NaN</td>\n",
       "      <td>NaN</td>\n",
       "      <td>NaN</td>\n",
       "      <td>NaN</td>\n",
       "      <td>NaN</td>\n",
       "      <td>Healthcare</td>\n",
       "    </tr>\n",
       "  </tbody>\n",
       "</table>\n",
       "</div>"
      ],
      "text/plain": [
       "    ticker  Revenue  Revenue Growth  Gross Profit  Profit Margin  \\\n",
       "494   ESRX      NaN             NaN           NaN            NaN   \n",
       "524    AET      NaN             NaN           NaN            NaN   \n",
       "540   EVHC      NaN             NaN           NaN            NaN   \n",
       "\n",
       "     grossProfitMargin  netProfitMargin  Total assets    Total debt  \\\n",
       "494                NaN              NaN  5.425600e+10  1.498200e+10   \n",
       "524                NaN              NaN  5.515100e+10  8.160000e+09   \n",
       "540                NaN              NaN           NaN           NaN   \n",
       "\n",
       "     Total liabilities   EPS  Dividend per Share      Sector  \n",
       "494       3.613000e+10  7.79                 NaN  Healthcare  \n",
       "524       3.931400e+10  5.71                 NaN  Healthcare  \n",
       "540                NaN   NaN                 NaN  Healthcare  "
      ]
     },
     "execution_count": 18,
     "metadata": {},
     "output_type": "execute_result"
    }
   ],
   "source": [
    "top500_2017.loc[top500_2017['Revenue'].isna()]"
   ]
  },
  {
   "cell_type": "code",
   "execution_count": 19,
   "metadata": {},
   "outputs": [],
   "source": [
    "top500_2017= top500_2017.dropna(subset = [\"Revenue\"])"
   ]
  },
  {
   "cell_type": "code",
   "execution_count": 20,
   "metadata": {},
   "outputs": [
    {
     "name": "stdout",
     "output_type": "stream",
     "text": [
      "<class 'pandas.core.frame.DataFrame'>\n",
      "Int64Index: 475 entries, 0 to 4718\n",
      "Data columns (total 13 columns):\n",
      "ticker                475 non-null object\n",
      "Revenue               475 non-null float64\n",
      "Revenue Growth        475 non-null object\n",
      "Gross Profit          475 non-null float64\n",
      "Profit Margin         475 non-null object\n",
      "grossProfitMargin     475 non-null object\n",
      "netProfitMargin       475 non-null object\n",
      "Total assets          475 non-null float64\n",
      "Total debt            475 non-null object\n",
      "Total liabilities     475 non-null float64\n",
      "EPS                   475 non-null float64\n",
      "Dividend per Share    475 non-null object\n",
      "Sector                475 non-null object\n",
      "dtypes: float64(5), object(8)\n",
      "memory usage: 52.0+ KB\n"
     ]
    }
   ],
   "source": [
    "top500_2017=top500_2017.fillna('NULL')\n",
    "top500_2017.info()"
   ]
  },
  {
   "cell_type": "markdown",
   "metadata": {},
   "source": [
    "## 2016 Financial Indicator of Top 500 shares (based on S&P500)"
   ]
  },
  {
   "cell_type": "code",
   "execution_count": 21,
   "metadata": {},
   "outputs": [
    {
     "data": {
      "text/html": [
       "<div>\n",
       "<style scoped>\n",
       "    .dataframe tbody tr th:only-of-type {\n",
       "        vertical-align: middle;\n",
       "    }\n",
       "\n",
       "    .dataframe tbody tr th {\n",
       "        vertical-align: top;\n",
       "    }\n",
       "\n",
       "    .dataframe thead th {\n",
       "        text-align: right;\n",
       "    }\n",
       "</style>\n",
       "<table border=\"1\" class=\"dataframe\">\n",
       "  <thead>\n",
       "    <tr style=\"text-align: right;\">\n",
       "      <th></th>\n",
       "      <th>ticker</th>\n",
       "      <th>Revenue</th>\n",
       "      <th>Revenue Growth</th>\n",
       "      <th>Gross Profit</th>\n",
       "      <th>Profit Margin</th>\n",
       "      <th>grossProfitMargin</th>\n",
       "      <th>netProfitMargin</th>\n",
       "      <th>Total assets</th>\n",
       "      <th>Total debt</th>\n",
       "      <th>Total liabilities</th>\n",
       "      <th>EPS</th>\n",
       "      <th>Dividend per Share</th>\n",
       "      <th>Sector</th>\n",
       "    </tr>\n",
       "  </thead>\n",
       "  <tbody>\n",
       "    <tr>\n",
       "      <td>0</td>\n",
       "      <td>PG</td>\n",
       "      <td>6.529900e+10</td>\n",
       "      <td>-0.0770</td>\n",
       "      <td>3.239000e+10</td>\n",
       "      <td>0.161</td>\n",
       "      <td>0.496026</td>\n",
       "      <td>0.160921</td>\n",
       "      <td>1.271360e+11</td>\n",
       "      <td>3.059800e+10</td>\n",
       "      <td>6.915300e+10</td>\n",
       "      <td>3.80</td>\n",
       "      <td>2.658</td>\n",
       "      <td>Consumer Defensive</td>\n",
       "    </tr>\n",
       "    <tr>\n",
       "      <td>2</td>\n",
       "      <td>KR</td>\n",
       "      <td>1.098300e+11</td>\n",
       "      <td>0.0126</td>\n",
       "      <td>2.433400e+10</td>\n",
       "      <td>0.019</td>\n",
       "      <td>0.221561</td>\n",
       "      <td>0.018565</td>\n",
       "      <td>3.389700e+10</td>\n",
       "      <td>1.207900e+10</td>\n",
       "      <td>2.709900e+10</td>\n",
       "      <td>2.09</td>\n",
       "      <td>0.500</td>\n",
       "      <td>Consumer Defensive</td>\n",
       "    </tr>\n",
       "    <tr>\n",
       "      <td>4</td>\n",
       "      <td>GIS</td>\n",
       "      <td>1.656310e+10</td>\n",
       "      <td>-0.0605</td>\n",
       "      <td>5.829500e+09</td>\n",
       "      <td>0.102</td>\n",
       "      <td>0.351957</td>\n",
       "      <td>0.102481</td>\n",
       "      <td>2.171230e+10</td>\n",
       "      <td>8.430900e+09</td>\n",
       "      <td>1.555960e+10</td>\n",
       "      <td>2.83</td>\n",
       "      <td>1.780</td>\n",
       "      <td>Consumer Defensive</td>\n",
       "    </tr>\n",
       "    <tr>\n",
       "      <td>5</td>\n",
       "      <td>PM</td>\n",
       "      <td>7.495300e+10</td>\n",
       "      <td>0.0141</td>\n",
       "      <td>1.729400e+10</td>\n",
       "      <td>0.093</td>\n",
       "      <td>0.230731</td>\n",
       "      <td>0.092952</td>\n",
       "      <td>3.685100e+10</td>\n",
       "      <td>2.906700e+10</td>\n",
       "      <td>4.775100e+10</td>\n",
       "      <td>4.48</td>\n",
       "      <td>4.120</td>\n",
       "      <td>Consumer Defensive</td>\n",
       "    </tr>\n",
       "    <tr>\n",
       "      <td>6</td>\n",
       "      <td>KO</td>\n",
       "      <td>4.186300e+10</td>\n",
       "      <td>-0.0549</td>\n",
       "      <td>2.539800e+10</td>\n",
       "      <td>0.156</td>\n",
       "      <td>0.606693</td>\n",
       "      <td>0.155913</td>\n",
       "      <td>8.727000e+10</td>\n",
       "      <td>4.570900e+10</td>\n",
       "      <td>6.405000e+10</td>\n",
       "      <td>1.51</td>\n",
       "      <td>1.400</td>\n",
       "      <td>Consumer Defensive</td>\n",
       "    </tr>\n",
       "    <tr>\n",
       "      <td>...</td>\n",
       "      <td>...</td>\n",
       "      <td>...</td>\n",
       "      <td>...</td>\n",
       "      <td>...</td>\n",
       "      <td>...</td>\n",
       "      <td>...</td>\n",
       "      <td>...</td>\n",
       "      <td>...</td>\n",
       "      <td>...</td>\n",
       "      <td>...</td>\n",
       "      <td>...</td>\n",
       "      <td>...</td>\n",
       "      <td>...</td>\n",
       "    </tr>\n",
       "    <tr>\n",
       "      <td>4443</td>\n",
       "      <td>GRMN</td>\n",
       "      <td>3.045797e+09</td>\n",
       "      <td>0.0800</td>\n",
       "      <td>1.688525e+09</td>\n",
       "      <td>0.170</td>\n",
       "      <td>0.554379</td>\n",
       "      <td>0.169980</td>\n",
       "      <td>4.525133e+09</td>\n",
       "      <td>0.000000e+00</td>\n",
       "      <td>1.107130e+09</td>\n",
       "      <td>2.74</td>\n",
       "      <td>2.550</td>\n",
       "      <td>Technology</td>\n",
       "    </tr>\n",
       "    <tr>\n",
       "      <td>4462</td>\n",
       "      <td>AME</td>\n",
       "      <td>3.840087e+09</td>\n",
       "      <td>-0.0338</td>\n",
       "      <td>1.254588e+09</td>\n",
       "      <td>0.133</td>\n",
       "      <td>0.326708</td>\n",
       "      <td>0.133371</td>\n",
       "      <td>7.100674e+09</td>\n",
       "      <td>2.341565e+09</td>\n",
       "      <td>3.844161e+09</td>\n",
       "      <td>2.20</td>\n",
       "      <td>0.360</td>\n",
       "      <td>Technology</td>\n",
       "    </tr>\n",
       "    <tr>\n",
       "      <td>4487</td>\n",
       "      <td>ANSS</td>\n",
       "      <td>9.884650e+08</td>\n",
       "      <td>0.0485</td>\n",
       "      <td>8.416050e+08</td>\n",
       "      <td>0.269</td>\n",
       "      <td>0.851426</td>\n",
       "      <td>0.268736</td>\n",
       "      <td>2.800526e+09</td>\n",
       "      <td>0.000000e+00</td>\n",
       "      <td>5.921210e+08</td>\n",
       "      <td>3.05</td>\n",
       "      <td>0.000</td>\n",
       "      <td>Technology</td>\n",
       "    </tr>\n",
       "    <tr>\n",
       "      <td>4511</td>\n",
       "      <td>SNPS</td>\n",
       "      <td>2.422532e+09</td>\n",
       "      <td>0.0804</td>\n",
       "      <td>1.879570e+09</td>\n",
       "      <td>0.110</td>\n",
       "      <td>0.775870</td>\n",
       "      <td>0.110143</td>\n",
       "      <td>5.240365e+09</td>\n",
       "      <td>2.050000e+08</td>\n",
       "      <td>2.045219e+09</td>\n",
       "      <td>1.76</td>\n",
       "      <td>0.000</td>\n",
       "      <td>Technology</td>\n",
       "    </tr>\n",
       "    <tr>\n",
       "      <td>4565</td>\n",
       "      <td>IPGP</td>\n",
       "      <td>1.006173e+09</td>\n",
       "      <td>0.1164</td>\n",
       "      <td>5.522400e+08</td>\n",
       "      <td>0.259</td>\n",
       "      <td>0.548852</td>\n",
       "      <td>0.259152</td>\n",
       "      <td>1.789999e+09</td>\n",
       "      <td>4.082300e+07</td>\n",
       "      <td>2.322750e+08</td>\n",
       "      <td>4.91</td>\n",
       "      <td>0.000</td>\n",
       "      <td>Technology</td>\n",
       "    </tr>\n",
       "  </tbody>\n",
       "</table>\n",
       "<p>475 rows × 13 columns</p>\n",
       "</div>"
      ],
      "text/plain": [
       "     ticker       Revenue  Revenue Growth  Gross Profit  Profit Margin  \\\n",
       "0        PG  6.529900e+10         -0.0770  3.239000e+10          0.161   \n",
       "2        KR  1.098300e+11          0.0126  2.433400e+10          0.019   \n",
       "4       GIS  1.656310e+10         -0.0605  5.829500e+09          0.102   \n",
       "5        PM  7.495300e+10          0.0141  1.729400e+10          0.093   \n",
       "6        KO  4.186300e+10         -0.0549  2.539800e+10          0.156   \n",
       "...     ...           ...             ...           ...            ...   \n",
       "4443   GRMN  3.045797e+09          0.0800  1.688525e+09          0.170   \n",
       "4462    AME  3.840087e+09         -0.0338  1.254588e+09          0.133   \n",
       "4487   ANSS  9.884650e+08          0.0485  8.416050e+08          0.269   \n",
       "4511   SNPS  2.422532e+09          0.0804  1.879570e+09          0.110   \n",
       "4565   IPGP  1.006173e+09          0.1164  5.522400e+08          0.259   \n",
       "\n",
       "      grossProfitMargin  netProfitMargin  Total assets    Total debt  \\\n",
       "0              0.496026         0.160921  1.271360e+11  3.059800e+10   \n",
       "2              0.221561         0.018565  3.389700e+10  1.207900e+10   \n",
       "4              0.351957         0.102481  2.171230e+10  8.430900e+09   \n",
       "5              0.230731         0.092952  3.685100e+10  2.906700e+10   \n",
       "6              0.606693         0.155913  8.727000e+10  4.570900e+10   \n",
       "...                 ...              ...           ...           ...   \n",
       "4443           0.554379         0.169980  4.525133e+09  0.000000e+00   \n",
       "4462           0.326708         0.133371  7.100674e+09  2.341565e+09   \n",
       "4487           0.851426         0.268736  2.800526e+09  0.000000e+00   \n",
       "4511           0.775870         0.110143  5.240365e+09  2.050000e+08   \n",
       "4565           0.548852         0.259152  1.789999e+09  4.082300e+07   \n",
       "\n",
       "      Total liabilities   EPS  Dividend per Share              Sector  \n",
       "0          6.915300e+10  3.80               2.658  Consumer Defensive  \n",
       "2          2.709900e+10  2.09               0.500  Consumer Defensive  \n",
       "4          1.555960e+10  2.83               1.780  Consumer Defensive  \n",
       "5          4.775100e+10  4.48               4.120  Consumer Defensive  \n",
       "6          6.405000e+10  1.51               1.400  Consumer Defensive  \n",
       "...                 ...   ...                 ...                 ...  \n",
       "4443       1.107130e+09  2.74               2.550          Technology  \n",
       "4462       3.844161e+09  2.20               0.360          Technology  \n",
       "4487       5.921210e+08  3.05               0.000          Technology  \n",
       "4511       2.045219e+09  1.76               0.000          Technology  \n",
       "4565       2.322750e+08  4.91               0.000          Technology  \n",
       "\n",
       "[475 rows x 13 columns]"
      ]
     },
     "execution_count": 21,
     "metadata": {},
     "output_type": "execute_result"
    }
   ],
   "source": [
    "#2016 Financial indicator of top 500 stocks \n",
    "top500_2016 =finanace2016_df.loc[finanace2016_df['ticker'].isin(list_topstocks)]\n",
    "top500_2016"
   ]
  },
  {
   "cell_type": "code",
   "execution_count": 22,
   "metadata": {},
   "outputs": [
    {
     "data": {
      "text/html": [
       "<div>\n",
       "<style scoped>\n",
       "    .dataframe tbody tr th:only-of-type {\n",
       "        vertical-align: middle;\n",
       "    }\n",
       "\n",
       "    .dataframe tbody tr th {\n",
       "        vertical-align: top;\n",
       "    }\n",
       "\n",
       "    .dataframe thead th {\n",
       "        text-align: right;\n",
       "    }\n",
       "</style>\n",
       "<table border=\"1\" class=\"dataframe\">\n",
       "  <thead>\n",
       "    <tr style=\"text-align: right;\">\n",
       "      <th></th>\n",
       "      <th>ticker</th>\n",
       "      <th>Revenue</th>\n",
       "      <th>Revenue Growth</th>\n",
       "      <th>Gross Profit</th>\n",
       "      <th>Profit Margin</th>\n",
       "      <th>grossProfitMargin</th>\n",
       "      <th>netProfitMargin</th>\n",
       "      <th>Total assets</th>\n",
       "      <th>Total debt</th>\n",
       "      <th>Total liabilities</th>\n",
       "      <th>EPS</th>\n",
       "      <th>Dividend per Share</th>\n",
       "      <th>Sector</th>\n",
       "    </tr>\n",
       "  </thead>\n",
       "  <tbody>\n",
       "    <tr>\n",
       "      <td>528</td>\n",
       "      <td>EVHC</td>\n",
       "      <td>NaN</td>\n",
       "      <td>NaN</td>\n",
       "      <td>NaN</td>\n",
       "      <td>NaN</td>\n",
       "      <td>NaN</td>\n",
       "      <td>NaN</td>\n",
       "      <td>NaN</td>\n",
       "      <td>NaN</td>\n",
       "      <td>NaN</td>\n",
       "      <td>NaN</td>\n",
       "      <td>NaN</td>\n",
       "      <td>Healthcare</td>\n",
       "    </tr>\n",
       "    <tr>\n",
       "      <td>1845</td>\n",
       "      <td>GPN</td>\n",
       "      <td>NaN</td>\n",
       "      <td>NaN</td>\n",
       "      <td>1.057859e+09</td>\n",
       "      <td>NaN</td>\n",
       "      <td>NaN</td>\n",
       "      <td>NaN</td>\n",
       "      <td>1.066435e+10</td>\n",
       "      <td>4.893722e+09</td>\n",
       "      <td>7.885008e+09</td>\n",
       "      <td>NaN</td>\n",
       "      <td>NaN</td>\n",
       "      <td>Industrials</td>\n",
       "    </tr>\n",
       "  </tbody>\n",
       "</table>\n",
       "</div>"
      ],
      "text/plain": [
       "     ticker  Revenue  Revenue Growth  Gross Profit  Profit Margin  \\\n",
       "528    EVHC      NaN             NaN           NaN            NaN   \n",
       "1845    GPN      NaN             NaN  1.057859e+09            NaN   \n",
       "\n",
       "      grossProfitMargin  netProfitMargin  Total assets    Total debt  \\\n",
       "528                 NaN              NaN           NaN           NaN   \n",
       "1845                NaN              NaN  1.066435e+10  4.893722e+09   \n",
       "\n",
       "      Total liabilities  EPS  Dividend per Share       Sector  \n",
       "528                 NaN  NaN                 NaN   Healthcare  \n",
       "1845       7.885008e+09  NaN                 NaN  Industrials  "
      ]
     },
     "execution_count": 22,
     "metadata": {},
     "output_type": "execute_result"
    }
   ],
   "source": [
    "top500_2016.loc[top500_2016['Revenue'].isna()]"
   ]
  },
  {
   "cell_type": "code",
   "execution_count": 23,
   "metadata": {},
   "outputs": [],
   "source": [
    "top500_2016= top500_2016.dropna(subset = [\"Revenue\"])"
   ]
  },
  {
   "cell_type": "code",
   "execution_count": 24,
   "metadata": {},
   "outputs": [
    {
     "name": "stdout",
     "output_type": "stream",
     "text": [
      "<class 'pandas.core.frame.DataFrame'>\n",
      "Int64Index: 473 entries, 0 to 4565\n",
      "Data columns (total 13 columns):\n",
      "ticker                473 non-null object\n",
      "Revenue               473 non-null float64\n",
      "Revenue Growth        473 non-null object\n",
      "Gross Profit          473 non-null float64\n",
      "Profit Margin         473 non-null object\n",
      "grossProfitMargin     473 non-null object\n",
      "netProfitMargin       473 non-null object\n",
      "Total assets          473 non-null float64\n",
      "Total debt            473 non-null object\n",
      "Total liabilities     473 non-null float64\n",
      "EPS                   473 non-null float64\n",
      "Dividend per Share    473 non-null object\n",
      "Sector                473 non-null object\n",
      "dtypes: float64(5), object(8)\n",
      "memory usage: 51.7+ KB\n"
     ]
    }
   ],
   "source": [
    "top500_2016=top500_2016.fillna('NULL')\n",
    "top500_2016.info()"
   ]
  },
  {
   "cell_type": "markdown",
   "metadata": {},
   "source": [
    "## 2015 Financial Indicator of Top 500 shares (based on S&P500)"
   ]
  },
  {
   "cell_type": "code",
   "execution_count": 25,
   "metadata": {},
   "outputs": [
    {
     "data": {
      "text/html": [
       "<div>\n",
       "<style scoped>\n",
       "    .dataframe tbody tr th:only-of-type {\n",
       "        vertical-align: middle;\n",
       "    }\n",
       "\n",
       "    .dataframe tbody tr th {\n",
       "        vertical-align: top;\n",
       "    }\n",
       "\n",
       "    .dataframe thead th {\n",
       "        text-align: right;\n",
       "    }\n",
       "</style>\n",
       "<table border=\"1\" class=\"dataframe\">\n",
       "  <thead>\n",
       "    <tr style=\"text-align: right;\">\n",
       "      <th></th>\n",
       "      <th>ticker</th>\n",
       "      <th>Revenue</th>\n",
       "      <th>Revenue Growth</th>\n",
       "      <th>Gross Profit</th>\n",
       "      <th>Profit Margin</th>\n",
       "      <th>grossProfitMargin</th>\n",
       "      <th>netProfitMargin</th>\n",
       "      <th>Total assets</th>\n",
       "      <th>Total debt</th>\n",
       "      <th>Total liabilities</th>\n",
       "      <th>EPS</th>\n",
       "      <th>Dividend per Share</th>\n",
       "      <th>Sector</th>\n",
       "    </tr>\n",
       "  </thead>\n",
       "  <tbody>\n",
       "    <tr>\n",
       "      <td>0</td>\n",
       "      <td>PG</td>\n",
       "      <td>7.074900e+10</td>\n",
       "      <td>-0.0491</td>\n",
       "      <td>3.369300e+10</td>\n",
       "      <td>0.099</td>\n",
       "      <td>0.476233</td>\n",
       "      <td>0.099450</td>\n",
       "      <td>1.294950e+11</td>\n",
       "      <td>3.034500e+10</td>\n",
       "      <td>6.644500e+10</td>\n",
       "      <td>2.50</td>\n",
       "      <td>2.595</td>\n",
       "      <td>Consumer Defensive</td>\n",
       "    </tr>\n",
       "    <tr>\n",
       "      <td>2</td>\n",
       "      <td>KR</td>\n",
       "      <td>1.084650e+11</td>\n",
       "      <td>0.1026</td>\n",
       "      <td>2.295300e+10</td>\n",
       "      <td>0.016</td>\n",
       "      <td>0.211617</td>\n",
       "      <td>0.015931</td>\n",
       "      <td>3.049700e+10</td>\n",
       "      <td>1.159700e+10</td>\n",
       "      <td>2.505500e+10</td>\n",
       "      <td>1.74</td>\n",
       "      <td>0.340</td>\n",
       "      <td>Consumer Defensive</td>\n",
       "    </tr>\n",
       "    <tr>\n",
       "      <td>4</td>\n",
       "      <td>GIS</td>\n",
       "      <td>1.763030e+10</td>\n",
       "      <td>-0.0156</td>\n",
       "      <td>5.949200e+09</td>\n",
       "      <td>0.069</td>\n",
       "      <td>0.337442</td>\n",
       "      <td>0.069273</td>\n",
       "      <td>2.183200e+10</td>\n",
       "      <td>9.191500e+09</td>\n",
       "      <td>1.566040e+10</td>\n",
       "      <td>2.02</td>\n",
       "      <td>1.670</td>\n",
       "      <td>Consumer Defensive</td>\n",
       "    </tr>\n",
       "    <tr>\n",
       "      <td>5</td>\n",
       "      <td>PM</td>\n",
       "      <td>7.390800e+10</td>\n",
       "      <td>-0.0774</td>\n",
       "      <td>1.742900e+10</td>\n",
       "      <td>0.093</td>\n",
       "      <td>0.235820</td>\n",
       "      <td>0.092994</td>\n",
       "      <td>3.395600e+10</td>\n",
       "      <td>2.848000e+10</td>\n",
       "      <td>4.543200e+10</td>\n",
       "      <td>4.42</td>\n",
       "      <td>4.040</td>\n",
       "      <td>Consumer Defensive</td>\n",
       "    </tr>\n",
       "    <tr>\n",
       "      <td>6</td>\n",
       "      <td>KO</td>\n",
       "      <td>4.429400e+10</td>\n",
       "      <td>-0.0370</td>\n",
       "      <td>2.681200e+10</td>\n",
       "      <td>0.166</td>\n",
       "      <td>0.605319</td>\n",
       "      <td>0.165959</td>\n",
       "      <td>8.999600e+10</td>\n",
       "      <td>4.411600e+10</td>\n",
       "      <td>6.423200e+10</td>\n",
       "      <td>1.69</td>\n",
       "      <td>1.320</td>\n",
       "      <td>Consumer Defensive</td>\n",
       "    </tr>\n",
       "    <tr>\n",
       "      <td>...</td>\n",
       "      <td>...</td>\n",
       "      <td>...</td>\n",
       "      <td>...</td>\n",
       "      <td>...</td>\n",
       "      <td>...</td>\n",
       "      <td>...</td>\n",
       "      <td>...</td>\n",
       "      <td>...</td>\n",
       "      <td>...</td>\n",
       "      <td>...</td>\n",
       "      <td>...</td>\n",
       "      <td>...</td>\n",
       "      <td>...</td>\n",
       "    </tr>\n",
       "    <tr>\n",
       "      <td>3782</td>\n",
       "      <td>GRMN</td>\n",
       "      <td>2.820270e+09</td>\n",
       "      <td>-0.0176</td>\n",
       "      <td>1.538704e+09</td>\n",
       "      <td>0.162</td>\n",
       "      <td>0.545587</td>\n",
       "      <td>0.161767</td>\n",
       "      <td>4.499391e+09</td>\n",
       "      <td>0.000000e+00</td>\n",
       "      <td>1.154265e+09</td>\n",
       "      <td>2.39</td>\n",
       "      <td>2.010</td>\n",
       "      <td>Technology</td>\n",
       "    </tr>\n",
       "    <tr>\n",
       "      <td>3799</td>\n",
       "      <td>AME</td>\n",
       "      <td>3.974295e+09</td>\n",
       "      <td>-0.0119</td>\n",
       "      <td>1.356308e+09</td>\n",
       "      <td>0.149</td>\n",
       "      <td>0.341270</td>\n",
       "      <td>0.148670</td>\n",
       "      <td>6.660450e+09</td>\n",
       "      <td>1.938040e+09</td>\n",
       "      <td>3.405824e+09</td>\n",
       "      <td>2.46</td>\n",
       "      <td>0.360</td>\n",
       "      <td>Technology</td>\n",
       "    </tr>\n",
       "    <tr>\n",
       "      <td>3823</td>\n",
       "      <td>ANSS</td>\n",
       "      <td>9.427530e+08</td>\n",
       "      <td>0.0072</td>\n",
       "      <td>7.955070e+08</td>\n",
       "      <td>0.268</td>\n",
       "      <td>0.843813</td>\n",
       "      <td>0.267855</td>\n",
       "      <td>2.729904e+09</td>\n",
       "      <td>0.000000e+00</td>\n",
       "      <td>5.354770e+08</td>\n",
       "      <td>2.82</td>\n",
       "      <td>0.000</td>\n",
       "      <td>Technology</td>\n",
       "    </tr>\n",
       "    <tr>\n",
       "      <td>3847</td>\n",
       "      <td>SNPS</td>\n",
       "      <td>2.242211e+09</td>\n",
       "      <td>0.0898</td>\n",
       "      <td>1.723291e+09</td>\n",
       "      <td>0.101</td>\n",
       "      <td>0.768568</td>\n",
       "      <td>0.100764</td>\n",
       "      <td>5.045739e+09</td>\n",
       "      <td>2.050000e+08</td>\n",
       "      <td>1.911750e+09</td>\n",
       "      <td>1.46</td>\n",
       "      <td>0.000</td>\n",
       "      <td>Technology</td>\n",
       "    </tr>\n",
       "    <tr>\n",
       "      <td>3900</td>\n",
       "      <td>IPGP</td>\n",
       "      <td>9.012650e+08</td>\n",
       "      <td>0.1707</td>\n",
       "      <td>4.918770e+08</td>\n",
       "      <td>0.269</td>\n",
       "      <td>0.545763</td>\n",
       "      <td>0.268682</td>\n",
       "      <td>1.453429e+09</td>\n",
       "      <td>1.966700e+07</td>\n",
       "      <td>1.927640e+08</td>\n",
       "      <td>4.60</td>\n",
       "      <td>0.000</td>\n",
       "      <td>Technology</td>\n",
       "    </tr>\n",
       "  </tbody>\n",
       "</table>\n",
       "<p>469 rows × 13 columns</p>\n",
       "</div>"
      ],
      "text/plain": [
       "     ticker       Revenue  Revenue Growth  Gross Profit  Profit Margin  \\\n",
       "0        PG  7.074900e+10         -0.0491  3.369300e+10          0.099   \n",
       "2        KR  1.084650e+11          0.1026  2.295300e+10          0.016   \n",
       "4       GIS  1.763030e+10         -0.0156  5.949200e+09          0.069   \n",
       "5        PM  7.390800e+10         -0.0774  1.742900e+10          0.093   \n",
       "6        KO  4.429400e+10         -0.0370  2.681200e+10          0.166   \n",
       "...     ...           ...             ...           ...            ...   \n",
       "3782   GRMN  2.820270e+09         -0.0176  1.538704e+09          0.162   \n",
       "3799    AME  3.974295e+09         -0.0119  1.356308e+09          0.149   \n",
       "3823   ANSS  9.427530e+08          0.0072  7.955070e+08          0.268   \n",
       "3847   SNPS  2.242211e+09          0.0898  1.723291e+09          0.101   \n",
       "3900   IPGP  9.012650e+08          0.1707  4.918770e+08          0.269   \n",
       "\n",
       "      grossProfitMargin  netProfitMargin  Total assets    Total debt  \\\n",
       "0              0.476233         0.099450  1.294950e+11  3.034500e+10   \n",
       "2              0.211617         0.015931  3.049700e+10  1.159700e+10   \n",
       "4              0.337442         0.069273  2.183200e+10  9.191500e+09   \n",
       "5              0.235820         0.092994  3.395600e+10  2.848000e+10   \n",
       "6              0.605319         0.165959  8.999600e+10  4.411600e+10   \n",
       "...                 ...              ...           ...           ...   \n",
       "3782           0.545587         0.161767  4.499391e+09  0.000000e+00   \n",
       "3799           0.341270         0.148670  6.660450e+09  1.938040e+09   \n",
       "3823           0.843813         0.267855  2.729904e+09  0.000000e+00   \n",
       "3847           0.768568         0.100764  5.045739e+09  2.050000e+08   \n",
       "3900           0.545763         0.268682  1.453429e+09  1.966700e+07   \n",
       "\n",
       "      Total liabilities   EPS  Dividend per Share              Sector  \n",
       "0          6.644500e+10  2.50               2.595  Consumer Defensive  \n",
       "2          2.505500e+10  1.74               0.340  Consumer Defensive  \n",
       "4          1.566040e+10  2.02               1.670  Consumer Defensive  \n",
       "5          4.543200e+10  4.42               4.040  Consumer Defensive  \n",
       "6          6.423200e+10  1.69               1.320  Consumer Defensive  \n",
       "...                 ...   ...                 ...                 ...  \n",
       "3782       1.154265e+09  2.39               2.010          Technology  \n",
       "3799       3.405824e+09  2.46               0.360          Technology  \n",
       "3823       5.354770e+08  2.82               0.000          Technology  \n",
       "3847       1.911750e+09  1.46               0.000          Technology  \n",
       "3900       1.927640e+08  4.60               0.000          Technology  \n",
       "\n",
       "[469 rows x 13 columns]"
      ]
     },
     "execution_count": 25,
     "metadata": {},
     "output_type": "execute_result"
    }
   ],
   "source": [
    "#2015 Financial indicator of top 500 stocks \n",
    "top500_2015 =finanace2015_df.loc[finanace2015_df['ticker'].isin(list_topstocks)]\n",
    "top500_2015"
   ]
  },
  {
   "cell_type": "code",
   "execution_count": 26,
   "metadata": {},
   "outputs": [
    {
     "data": {
      "text/html": [
       "<div>\n",
       "<style scoped>\n",
       "    .dataframe tbody tr th:only-of-type {\n",
       "        vertical-align: middle;\n",
       "    }\n",
       "\n",
       "    .dataframe tbody tr th {\n",
       "        vertical-align: top;\n",
       "    }\n",
       "\n",
       "    .dataframe thead th {\n",
       "        text-align: right;\n",
       "    }\n",
       "</style>\n",
       "<table border=\"1\" class=\"dataframe\">\n",
       "  <thead>\n",
       "    <tr style=\"text-align: right;\">\n",
       "      <th></th>\n",
       "      <th>ticker</th>\n",
       "      <th>Revenue</th>\n",
       "      <th>Revenue Growth</th>\n",
       "      <th>Gross Profit</th>\n",
       "      <th>Profit Margin</th>\n",
       "      <th>grossProfitMargin</th>\n",
       "      <th>netProfitMargin</th>\n",
       "      <th>Total assets</th>\n",
       "      <th>Total debt</th>\n",
       "      <th>Total liabilities</th>\n",
       "      <th>EPS</th>\n",
       "      <th>Dividend per Share</th>\n",
       "      <th>Sector</th>\n",
       "    </tr>\n",
       "  </thead>\n",
       "  <tbody>\n",
       "    <tr>\n",
       "      <td>603</td>\n",
       "      <td>PRGO</td>\n",
       "      <td>NaN</td>\n",
       "      <td>NaN</td>\n",
       "      <td>7.462330e+08</td>\n",
       "      <td>NaN</td>\n",
       "      <td>NaN</td>\n",
       "      <td>NaN</td>\n",
       "      <td>1.934960e+10</td>\n",
       "      <td>5.400200e+09</td>\n",
       "      <td>9.242800e+09</td>\n",
       "      <td>NaN</td>\n",
       "      <td>NaN</td>\n",
       "      <td>Healthcare</td>\n",
       "    </tr>\n",
       "    <tr>\n",
       "      <td>1559</td>\n",
       "      <td>DE</td>\n",
       "      <td>NaN</td>\n",
       "      <td>NaN</td>\n",
       "      <td>8.605800e+09</td>\n",
       "      <td>NaN</td>\n",
       "      <td>NaN</td>\n",
       "      <td>NaN</td>\n",
       "      <td>5.794760e+10</td>\n",
       "      <td>3.695840e+10</td>\n",
       "      <td>5.119000e+10</td>\n",
       "      <td>NaN</td>\n",
       "      <td>NaN</td>\n",
       "      <td>Industrials</td>\n",
       "    </tr>\n",
       "  </tbody>\n",
       "</table>\n",
       "</div>"
      ],
      "text/plain": [
       "     ticker  Revenue  Revenue Growth  Gross Profit  Profit Margin  \\\n",
       "603    PRGO      NaN             NaN  7.462330e+08            NaN   \n",
       "1559     DE      NaN             NaN  8.605800e+09            NaN   \n",
       "\n",
       "      grossProfitMargin  netProfitMargin  Total assets    Total debt  \\\n",
       "603                 NaN              NaN  1.934960e+10  5.400200e+09   \n",
       "1559                NaN              NaN  5.794760e+10  3.695840e+10   \n",
       "\n",
       "      Total liabilities  EPS  Dividend per Share       Sector  \n",
       "603        9.242800e+09  NaN                 NaN   Healthcare  \n",
       "1559       5.119000e+10  NaN                 NaN  Industrials  "
      ]
     },
     "execution_count": 26,
     "metadata": {},
     "output_type": "execute_result"
    }
   ],
   "source": [
    "top500_2015.loc[top500_2015['Revenue'].isna()]"
   ]
  },
  {
   "cell_type": "code",
   "execution_count": 27,
   "metadata": {},
   "outputs": [],
   "source": [
    "top500_2015= top500_2015.dropna(subset = [\"Revenue\"])"
   ]
  },
  {
   "cell_type": "code",
   "execution_count": 28,
   "metadata": {},
   "outputs": [
    {
     "name": "stdout",
     "output_type": "stream",
     "text": [
      "<class 'pandas.core.frame.DataFrame'>\n",
      "Int64Index: 467 entries, 0 to 3900\n",
      "Data columns (total 13 columns):\n",
      "ticker                467 non-null object\n",
      "Revenue               467 non-null float64\n",
      "Revenue Growth        467 non-null object\n",
      "Gross Profit          467 non-null float64\n",
      "Profit Margin         467 non-null object\n",
      "grossProfitMargin     467 non-null object\n",
      "netProfitMargin       467 non-null object\n",
      "Total assets          467 non-null float64\n",
      "Total debt            467 non-null object\n",
      "Total liabilities     467 non-null float64\n",
      "EPS                   467 non-null object\n",
      "Dividend per Share    467 non-null object\n",
      "Sector                467 non-null object\n",
      "dtypes: float64(4), object(9)\n",
      "memory usage: 51.1+ KB\n"
     ]
    }
   ],
   "source": [
    "top500_2015=top500_2015.fillna('NULL')\n",
    "top500_2015.info()"
   ]
  },
  {
   "cell_type": "markdown",
   "metadata": {},
   "source": [
    "## 2014 Financial Indicator of Top 500 shares (based on S&P500)"
   ]
  },
  {
   "cell_type": "code",
   "execution_count": 29,
   "metadata": {},
   "outputs": [
    {
     "data": {
      "text/html": [
       "<div>\n",
       "<style scoped>\n",
       "    .dataframe tbody tr th:only-of-type {\n",
       "        vertical-align: middle;\n",
       "    }\n",
       "\n",
       "    .dataframe tbody tr th {\n",
       "        vertical-align: top;\n",
       "    }\n",
       "\n",
       "    .dataframe thead th {\n",
       "        text-align: right;\n",
       "    }\n",
       "</style>\n",
       "<table border=\"1\" class=\"dataframe\">\n",
       "  <thead>\n",
       "    <tr style=\"text-align: right;\">\n",
       "      <th></th>\n",
       "      <th>ticker</th>\n",
       "      <th>Revenue</th>\n",
       "      <th>Revenue Growth</th>\n",
       "      <th>Gross Profit</th>\n",
       "      <th>Profit Margin</th>\n",
       "      <th>grossProfitMargin</th>\n",
       "      <th>netProfitMargin</th>\n",
       "      <th>Total assets</th>\n",
       "      <th>Total debt</th>\n",
       "      <th>Total liabilities</th>\n",
       "      <th>EPS</th>\n",
       "      <th>Dividend per Share</th>\n",
       "      <th>Sector</th>\n",
       "    </tr>\n",
       "  </thead>\n",
       "  <tbody>\n",
       "    <tr>\n",
       "      <td>0</td>\n",
       "      <td>PG</td>\n",
       "      <td>7.440100e+10</td>\n",
       "      <td>-0.0713</td>\n",
       "      <td>3.537100e+10</td>\n",
       "      <td>0.156</td>\n",
       "      <td>0.475410</td>\n",
       "      <td>0.156490</td>\n",
       "      <td>1.442660e+11</td>\n",
       "      <td>3.541700e+10</td>\n",
       "      <td>7.429000e+10</td>\n",
       "      <td>4.19</td>\n",
       "      <td>2.448</td>\n",
       "      <td>Consumer Defensive</td>\n",
       "    </tr>\n",
       "    <tr>\n",
       "      <td>2</td>\n",
       "      <td>KR</td>\n",
       "      <td>9.837500e+10</td>\n",
       "      <td>0.0182</td>\n",
       "      <td>2.023700e+10</td>\n",
       "      <td>0.015</td>\n",
       "      <td>0.205713</td>\n",
       "      <td>0.015441</td>\n",
       "      <td>2.928100e+10</td>\n",
       "      <td>1.131000e+10</td>\n",
       "      <td>2.388600e+10</td>\n",
       "      <td>1.47</td>\n",
       "      <td>0.307</td>\n",
       "      <td>Consumer Defensive</td>\n",
       "    </tr>\n",
       "    <tr>\n",
       "      <td>4</td>\n",
       "      <td>GIS</td>\n",
       "      <td>1.790960e+10</td>\n",
       "      <td>0.0076</td>\n",
       "      <td>6.369800e+09</td>\n",
       "      <td>0.102</td>\n",
       "      <td>0.355664</td>\n",
       "      <td>0.101867</td>\n",
       "      <td>2.314570e+10</td>\n",
       "      <td>8.785800e+09</td>\n",
       "      <td>1.515620e+10</td>\n",
       "      <td>2.90</td>\n",
       "      <td>1.550</td>\n",
       "      <td>Consumer Defensive</td>\n",
       "    </tr>\n",
       "    <tr>\n",
       "      <td>5</td>\n",
       "      <td>PM</td>\n",
       "      <td>8.010600e+10</td>\n",
       "      <td>0.0010</td>\n",
       "      <td>1.933100e+10</td>\n",
       "      <td>0.094</td>\n",
       "      <td>0.241318</td>\n",
       "      <td>0.093539</td>\n",
       "      <td>3.518700e+10</td>\n",
       "      <td>2.945500e+10</td>\n",
       "      <td>4.639000e+10</td>\n",
       "      <td>4.76</td>\n",
       "      <td>3.880</td>\n",
       "      <td>Consumer Defensive</td>\n",
       "    </tr>\n",
       "    <tr>\n",
       "      <td>6</td>\n",
       "      <td>KO</td>\n",
       "      <td>4.599800e+10</td>\n",
       "      <td>-0.0183</td>\n",
       "      <td>2.810900e+10</td>\n",
       "      <td>0.154</td>\n",
       "      <td>0.611092</td>\n",
       "      <td>0.154311</td>\n",
       "      <td>9.202300e+10</td>\n",
       "      <td>4.174500e+10</td>\n",
       "      <td>6.146200e+10</td>\n",
       "      <td>1.62</td>\n",
       "      <td>1.220</td>\n",
       "      <td>Consumer Defensive</td>\n",
       "    </tr>\n",
       "    <tr>\n",
       "      <td>...</td>\n",
       "      <td>...</td>\n",
       "      <td>...</td>\n",
       "      <td>...</td>\n",
       "      <td>...</td>\n",
       "      <td>...</td>\n",
       "      <td>...</td>\n",
       "      <td>...</td>\n",
       "      <td>...</td>\n",
       "      <td>...</td>\n",
       "      <td>...</td>\n",
       "      <td>...</td>\n",
       "      <td>...</td>\n",
       "      <td>...</td>\n",
       "    </tr>\n",
       "    <tr>\n",
       "      <td>3490</td>\n",
       "      <td>GRMN</td>\n",
       "      <td>2.870658e+09</td>\n",
       "      <td>0.0907</td>\n",
       "      <td>1.604412e+09</td>\n",
       "      <td>0.127</td>\n",
       "      <td>0.558900</td>\n",
       "      <td>0.126874</td>\n",
       "      <td>4.693303e+09</td>\n",
       "      <td>0.000000e+00</td>\n",
       "      <td>1.289936e+09</td>\n",
       "      <td>1.89</td>\n",
       "      <td>1.890</td>\n",
       "      <td>Technology</td>\n",
       "    </tr>\n",
       "    <tr>\n",
       "      <td>3506</td>\n",
       "      <td>AME</td>\n",
       "      <td>4.021964e+09</td>\n",
       "      <td>0.1190</td>\n",
       "      <td>1.361223e+09</td>\n",
       "      <td>0.145</td>\n",
       "      <td>0.338447</td>\n",
       "      <td>0.145317</td>\n",
       "      <td>6.420963e+09</td>\n",
       "      <td>1.714026e+09</td>\n",
       "      <td>3.181402e+09</td>\n",
       "      <td>2.39</td>\n",
       "      <td>0.330</td>\n",
       "      <td>Technology</td>\n",
       "    </tr>\n",
       "    <tr>\n",
       "      <td>3529</td>\n",
       "      <td>ANSS</td>\n",
       "      <td>9.360210e+08</td>\n",
       "      <td>0.0868</td>\n",
       "      <td>7.826350e+08</td>\n",
       "      <td>0.272</td>\n",
       "      <td>0.836130</td>\n",
       "      <td>0.272099</td>\n",
       "      <td>2.752879e+09</td>\n",
       "      <td>0.000000e+00</td>\n",
       "      <td>5.353780e+08</td>\n",
       "      <td>2.77</td>\n",
       "      <td>0.000</td>\n",
       "      <td>Technology</td>\n",
       "    </tr>\n",
       "    <tr>\n",
       "      <td>3550</td>\n",
       "      <td>SNPS</td>\n",
       "      <td>2.057472e+09</td>\n",
       "      <td>0.0485</td>\n",
       "      <td>1.600587e+09</td>\n",
       "      <td>0.126</td>\n",
       "      <td>0.777939</td>\n",
       "      <td>0.125943</td>\n",
       "      <td>4.775499e+09</td>\n",
       "      <td>7.500000e+07</td>\n",
       "      <td>1.719329e+09</td>\n",
       "      <td>1.67</td>\n",
       "      <td>0.000</td>\n",
       "      <td>Technology</td>\n",
       "    </tr>\n",
       "    <tr>\n",
       "      <td>3598</td>\n",
       "      <td>IPGP</td>\n",
       "      <td>7.698320e+08</td>\n",
       "      <td>0.1880</td>\n",
       "      <td>4.165180e+08</td>\n",
       "      <td>0.260</td>\n",
       "      <td>0.541051</td>\n",
       "      <td>0.260375</td>\n",
       "      <td>1.210887e+09</td>\n",
       "      <td>3.563100e+07</td>\n",
       "      <td>1.643260e+08</td>\n",
       "      <td>3.85</td>\n",
       "      <td>0.000</td>\n",
       "      <td>Technology</td>\n",
       "    </tr>\n",
       "  </tbody>\n",
       "</table>\n",
       "<p>463 rows × 13 columns</p>\n",
       "</div>"
      ],
      "text/plain": [
       "     ticker       Revenue  Revenue Growth  Gross Profit  Profit Margin  \\\n",
       "0        PG  7.440100e+10         -0.0713  3.537100e+10          0.156   \n",
       "2        KR  9.837500e+10          0.0182  2.023700e+10          0.015   \n",
       "4       GIS  1.790960e+10          0.0076  6.369800e+09          0.102   \n",
       "5        PM  8.010600e+10          0.0010  1.933100e+10          0.094   \n",
       "6        KO  4.599800e+10         -0.0183  2.810900e+10          0.154   \n",
       "...     ...           ...             ...           ...            ...   \n",
       "3490   GRMN  2.870658e+09          0.0907  1.604412e+09          0.127   \n",
       "3506    AME  4.021964e+09          0.1190  1.361223e+09          0.145   \n",
       "3529   ANSS  9.360210e+08          0.0868  7.826350e+08          0.272   \n",
       "3550   SNPS  2.057472e+09          0.0485  1.600587e+09          0.126   \n",
       "3598   IPGP  7.698320e+08          0.1880  4.165180e+08          0.260   \n",
       "\n",
       "      grossProfitMargin  netProfitMargin  Total assets    Total debt  \\\n",
       "0              0.475410         0.156490  1.442660e+11  3.541700e+10   \n",
       "2              0.205713         0.015441  2.928100e+10  1.131000e+10   \n",
       "4              0.355664         0.101867  2.314570e+10  8.785800e+09   \n",
       "5              0.241318         0.093539  3.518700e+10  2.945500e+10   \n",
       "6              0.611092         0.154311  9.202300e+10  4.174500e+10   \n",
       "...                 ...              ...           ...           ...   \n",
       "3490           0.558900         0.126874  4.693303e+09  0.000000e+00   \n",
       "3506           0.338447         0.145317  6.420963e+09  1.714026e+09   \n",
       "3529           0.836130         0.272099  2.752879e+09  0.000000e+00   \n",
       "3550           0.777939         0.125943  4.775499e+09  7.500000e+07   \n",
       "3598           0.541051         0.260375  1.210887e+09  3.563100e+07   \n",
       "\n",
       "      Total liabilities   EPS  Dividend per Share              Sector  \n",
       "0          7.429000e+10  4.19               2.448  Consumer Defensive  \n",
       "2          2.388600e+10  1.47               0.307  Consumer Defensive  \n",
       "4          1.515620e+10  2.90               1.550  Consumer Defensive  \n",
       "5          4.639000e+10  4.76               3.880  Consumer Defensive  \n",
       "6          6.146200e+10  1.62               1.220  Consumer Defensive  \n",
       "...                 ...   ...                 ...                 ...  \n",
       "3490       1.289936e+09  1.89               1.890          Technology  \n",
       "3506       3.181402e+09  2.39               0.330          Technology  \n",
       "3529       5.353780e+08  2.77               0.000          Technology  \n",
       "3550       1.719329e+09  1.67               0.000          Technology  \n",
       "3598       1.643260e+08  3.85               0.000          Technology  \n",
       "\n",
       "[463 rows x 13 columns]"
      ]
     },
     "execution_count": 29,
     "metadata": {},
     "output_type": "execute_result"
    }
   ],
   "source": [
    "#2014 Financial indicator of top 500 stocks \n",
    "top500_2014 =finanace2014_df.loc[finanace2014_df['ticker'].isin(list_topstocks)]\n",
    "top500_2014"
   ]
  },
  {
   "cell_type": "code",
   "execution_count": 30,
   "metadata": {},
   "outputs": [
    {
     "data": {
      "text/html": [
       "<div>\n",
       "<style scoped>\n",
       "    .dataframe tbody tr th:only-of-type {\n",
       "        vertical-align: middle;\n",
       "    }\n",
       "\n",
       "    .dataframe tbody tr th {\n",
       "        vertical-align: top;\n",
       "    }\n",
       "\n",
       "    .dataframe thead th {\n",
       "        text-align: right;\n",
       "    }\n",
       "</style>\n",
       "<table border=\"1\" class=\"dataframe\">\n",
       "  <thead>\n",
       "    <tr style=\"text-align: right;\">\n",
       "      <th></th>\n",
       "      <th>ticker</th>\n",
       "      <th>Revenue</th>\n",
       "      <th>Revenue Growth</th>\n",
       "      <th>Gross Profit</th>\n",
       "      <th>Profit Margin</th>\n",
       "      <th>grossProfitMargin</th>\n",
       "      <th>netProfitMargin</th>\n",
       "      <th>Total assets</th>\n",
       "      <th>Total debt</th>\n",
       "      <th>Total liabilities</th>\n",
       "      <th>EPS</th>\n",
       "      <th>Dividend per Share</th>\n",
       "      <th>Sector</th>\n",
       "    </tr>\n",
       "  </thead>\n",
       "  <tbody>\n",
       "  </tbody>\n",
       "</table>\n",
       "</div>"
      ],
      "text/plain": [
       "Empty DataFrame\n",
       "Columns: [ticker, Revenue, Revenue Growth, Gross Profit, Profit Margin, grossProfitMargin, netProfitMargin, Total assets, Total debt, Total liabilities, EPS, Dividend per Share, Sector]\n",
       "Index: []"
      ]
     },
     "execution_count": 30,
     "metadata": {},
     "output_type": "execute_result"
    }
   ],
   "source": [
    "top500_2014.loc[top500_2014['Revenue'].isna()]"
   ]
  },
  {
   "cell_type": "code",
   "execution_count": 31,
   "metadata": {},
   "outputs": [],
   "source": [
    "top500_2014= top500_2014.dropna(subset = [\"Revenue\"])"
   ]
  },
  {
   "cell_type": "code",
   "execution_count": 32,
   "metadata": {},
   "outputs": [
    {
     "name": "stdout",
     "output_type": "stream",
     "text": [
      "<class 'pandas.core.frame.DataFrame'>\n",
      "Int64Index: 463 entries, 0 to 3598\n",
      "Data columns (total 13 columns):\n",
      "ticker                463 non-null object\n",
      "Revenue               463 non-null float64\n",
      "Revenue Growth        463 non-null object\n",
      "Gross Profit          463 non-null float64\n",
      "Profit Margin         463 non-null float64\n",
      "grossProfitMargin     463 non-null object\n",
      "netProfitMargin       463 non-null object\n",
      "Total assets          463 non-null object\n",
      "Total debt            463 non-null object\n",
      "Total liabilities     463 non-null object\n",
      "EPS                   463 non-null object\n",
      "Dividend per Share    463 non-null object\n",
      "Sector                463 non-null object\n",
      "dtypes: float64(3), object(10)\n",
      "memory usage: 50.6+ KB\n"
     ]
    }
   ],
   "source": [
    "top500_2014=top500_2014.fillna('NULL')\n",
    "top500_2014.info()"
   ]
  },
  {
   "cell_type": "markdown",
   "metadata": {},
   "source": [
    "## Read individual stock data from CSV (filter them to top 500) and append them to a single DataFrame and filter for dates 2014-18"
   ]
  },
  {
   "cell_type": "code",
   "execution_count": 33,
   "metadata": {
    "scrolled": false
   },
   "outputs": [],
   "source": [
    "stocklist_2018= top500_2018['ticker'].tolist()\n",
    "# stocklist_2018"
   ]
  },
  {
   "cell_type": "code",
   "execution_count": 34,
   "metadata": {},
   "outputs": [
    {
     "name": "stdout",
     "output_type": "stream",
     "text": [
      "Individual stock CA file not found!\n",
      "Individual stock COL file not found!\n"
     ]
    }
   ],
   "source": [
    "stock_df = pd.DataFrame()\n",
    "for i in range(len(stocklist_2018)):\n",
    "    data= f'Data/Individual_stocks/{stocklist_2018[i]}.csv'\n",
    "    try:\n",
    "        df = pd.read_csv(data)\n",
    "        df[\"Year\"]=pd.DatetimeIndex(df['date']).year\n",
    "        df[\"ticker\"]= stocklist_2018[i]\n",
    "        df1=df.loc[df['Year']> 2013 ]\n",
    "        stock_df=stock_df.append(df1)\n",
    "    except:\n",
    "        print(f\"Individual stock {stocklist_2018[i] } file not found!\")\n",
    "        pass"
   ]
  },
  {
   "cell_type": "code",
   "execution_count": 35,
   "metadata": {},
   "outputs": [
    {
     "data": {
      "text/html": [
       "<div>\n",
       "<style scoped>\n",
       "    .dataframe tbody tr th:only-of-type {\n",
       "        vertical-align: middle;\n",
       "    }\n",
       "\n",
       "    .dataframe tbody tr th {\n",
       "        vertical-align: top;\n",
       "    }\n",
       "\n",
       "    .dataframe thead th {\n",
       "        text-align: right;\n",
       "    }\n",
       "</style>\n",
       "<table border=\"1\" class=\"dataframe\">\n",
       "  <thead>\n",
       "    <tr style=\"text-align: right;\">\n",
       "      <th></th>\n",
       "      <th>date</th>\n",
       "      <th>volume</th>\n",
       "      <th>open</th>\n",
       "      <th>close</th>\n",
       "      <th>high</th>\n",
       "      <th>low</th>\n",
       "      <th>adjclose</th>\n",
       "      <th>Year</th>\n",
       "      <th>ticker</th>\n",
       "    </tr>\n",
       "  </thead>\n",
       "  <tbody>\n",
       "    <tr>\n",
       "      <td>0</td>\n",
       "      <td>2019-04-18</td>\n",
       "      <td>13959300</td>\n",
       "      <td>42.740002</td>\n",
       "      <td>42.430000</td>\n",
       "      <td>42.830002</td>\n",
       "      <td>42.040001</td>\n",
       "      <td>42.430000</td>\n",
       "      <td>2019</td>\n",
       "      <td>CMCSA</td>\n",
       "    </tr>\n",
       "    <tr>\n",
       "      <td>1</td>\n",
       "      <td>2019-04-17</td>\n",
       "      <td>15338700</td>\n",
       "      <td>42.139999</td>\n",
       "      <td>42.570000</td>\n",
       "      <td>42.639999</td>\n",
       "      <td>41.889999</td>\n",
       "      <td>42.570000</td>\n",
       "      <td>2019</td>\n",
       "      <td>CMCSA</td>\n",
       "    </tr>\n",
       "    <tr>\n",
       "      <td>2</td>\n",
       "      <td>2019-04-16</td>\n",
       "      <td>10053600</td>\n",
       "      <td>41.840000</td>\n",
       "      <td>41.970001</td>\n",
       "      <td>42.180000</td>\n",
       "      <td>41.509998</td>\n",
       "      <td>41.970001</td>\n",
       "      <td>2019</td>\n",
       "      <td>CMCSA</td>\n",
       "    </tr>\n",
       "    <tr>\n",
       "      <td>3</td>\n",
       "      <td>2019-04-15</td>\n",
       "      <td>12729100</td>\n",
       "      <td>41.320000</td>\n",
       "      <td>41.779999</td>\n",
       "      <td>41.799999</td>\n",
       "      <td>41.259998</td>\n",
       "      <td>41.779999</td>\n",
       "      <td>2019</td>\n",
       "      <td>CMCSA</td>\n",
       "    </tr>\n",
       "    <tr>\n",
       "      <td>4</td>\n",
       "      <td>2019-04-12</td>\n",
       "      <td>11536400</td>\n",
       "      <td>41.070000</td>\n",
       "      <td>41.299999</td>\n",
       "      <td>41.330002</td>\n",
       "      <td>40.950001</td>\n",
       "      <td>41.299999</td>\n",
       "      <td>2019</td>\n",
       "      <td>CMCSA</td>\n",
       "    </tr>\n",
       "    <tr>\n",
       "      <td>...</td>\n",
       "      <td>...</td>\n",
       "      <td>...</td>\n",
       "      <td>...</td>\n",
       "      <td>...</td>\n",
       "      <td>...</td>\n",
       "      <td>...</td>\n",
       "      <td>...</td>\n",
       "      <td>...</td>\n",
       "      <td>...</td>\n",
       "    </tr>\n",
       "    <tr>\n",
       "      <td>1328</td>\n",
       "      <td>2014-01-08</td>\n",
       "      <td>313900</td>\n",
       "      <td>74.089996</td>\n",
       "      <td>73.739998</td>\n",
       "      <td>74.550003</td>\n",
       "      <td>73.480003</td>\n",
       "      <td>73.739998</td>\n",
       "      <td>2014</td>\n",
       "      <td>IPGP</td>\n",
       "    </tr>\n",
       "    <tr>\n",
       "      <td>1329</td>\n",
       "      <td>2014-01-07</td>\n",
       "      <td>293500</td>\n",
       "      <td>74.599998</td>\n",
       "      <td>74.089996</td>\n",
       "      <td>75.099998</td>\n",
       "      <td>73.790001</td>\n",
       "      <td>74.089996</td>\n",
       "      <td>2014</td>\n",
       "      <td>IPGP</td>\n",
       "    </tr>\n",
       "    <tr>\n",
       "      <td>1330</td>\n",
       "      <td>2014-01-06</td>\n",
       "      <td>529700</td>\n",
       "      <td>75.099998</td>\n",
       "      <td>74.419998</td>\n",
       "      <td>75.980003</td>\n",
       "      <td>73.820000</td>\n",
       "      <td>74.419998</td>\n",
       "      <td>2014</td>\n",
       "      <td>IPGP</td>\n",
       "    </tr>\n",
       "    <tr>\n",
       "      <td>1331</td>\n",
       "      <td>2014-01-03</td>\n",
       "      <td>292000</td>\n",
       "      <td>76.459999</td>\n",
       "      <td>75.110001</td>\n",
       "      <td>76.730003</td>\n",
       "      <td>75.000000</td>\n",
       "      <td>75.110001</td>\n",
       "      <td>2014</td>\n",
       "      <td>IPGP</td>\n",
       "    </tr>\n",
       "    <tr>\n",
       "      <td>1332</td>\n",
       "      <td>2014-01-02</td>\n",
       "      <td>204200</td>\n",
       "      <td>76.889999</td>\n",
       "      <td>76.160004</td>\n",
       "      <td>77.570000</td>\n",
       "      <td>75.330002</td>\n",
       "      <td>76.160004</td>\n",
       "      <td>2014</td>\n",
       "      <td>IPGP</td>\n",
       "    </tr>\n",
       "  </tbody>\n",
       "</table>\n",
       "<p>625608 rows × 9 columns</p>\n",
       "</div>"
      ],
      "text/plain": [
       "            date    volume       open      close       high        low  \\\n",
       "0     2019-04-18  13959300  42.740002  42.430000  42.830002  42.040001   \n",
       "1     2019-04-17  15338700  42.139999  42.570000  42.639999  41.889999   \n",
       "2     2019-04-16  10053600  41.840000  41.970001  42.180000  41.509998   \n",
       "3     2019-04-15  12729100  41.320000  41.779999  41.799999  41.259998   \n",
       "4     2019-04-12  11536400  41.070000  41.299999  41.330002  40.950001   \n",
       "...          ...       ...        ...        ...        ...        ...   \n",
       "1328  2014-01-08    313900  74.089996  73.739998  74.550003  73.480003   \n",
       "1329  2014-01-07    293500  74.599998  74.089996  75.099998  73.790001   \n",
       "1330  2014-01-06    529700  75.099998  74.419998  75.980003  73.820000   \n",
       "1331  2014-01-03    292000  76.459999  75.110001  76.730003  75.000000   \n",
       "1332  2014-01-02    204200  76.889999  76.160004  77.570000  75.330002   \n",
       "\n",
       "       adjclose  Year ticker  \n",
       "0     42.430000  2019  CMCSA  \n",
       "1     42.570000  2019  CMCSA  \n",
       "2     41.970001  2019  CMCSA  \n",
       "3     41.779999  2019  CMCSA  \n",
       "4     41.299999  2019  CMCSA  \n",
       "...         ...   ...    ...  \n",
       "1328  73.739998  2014   IPGP  \n",
       "1329  74.089996  2014   IPGP  \n",
       "1330  74.419998  2014   IPGP  \n",
       "1331  75.110001  2014   IPGP  \n",
       "1332  76.160004  2014   IPGP  \n",
       "\n",
       "[625608 rows x 9 columns]"
      ]
     },
     "execution_count": 35,
     "metadata": {},
     "output_type": "execute_result"
    }
   ],
   "source": [
    "stock_df"
   ]
  },
  {
   "cell_type": "code",
   "execution_count": 36,
   "metadata": {},
   "outputs": [
    {
     "name": "stdout",
     "output_type": "stream",
     "text": [
      "<class 'pandas.core.frame.DataFrame'>\n",
      "Int64Index: 625608 entries, 0 to 1332\n",
      "Data columns (total 9 columns):\n",
      "date        625608 non-null object\n",
      "volume      625608 non-null int64\n",
      "open        625608 non-null float64\n",
      "close       625608 non-null float64\n",
      "high        625608 non-null float64\n",
      "low         625608 non-null float64\n",
      "adjclose    625608 non-null float64\n",
      "Year        625608 non-null int64\n",
      "ticker      625608 non-null object\n",
      "dtypes: float64(5), int64(2), object(2)\n",
      "memory usage: 47.7+ MB\n"
     ]
    }
   ],
   "source": [
    "stock_df.info()"
   ]
  },
  {
   "cell_type": "markdown",
   "metadata": {},
   "source": [
    "Codes used for testing Flask app"
   ]
  },
  {
   "cell_type": "code",
   "execution_count": 29,
   "metadata": {},
   "outputs": [],
   "source": [
    "# stock_df_amzn=stock_df.loc[stock_df['ticker']== 'PG']\n",
    "# stock_df_amzn"
   ]
  },
  {
   "cell_type": "code",
   "execution_count": 30,
   "metadata": {},
   "outputs": [],
   "source": [
    "# stock_df_amzn.info()"
   ]
  },
  {
   "cell_type": "code",
   "execution_count": 31,
   "metadata": {},
   "outputs": [],
   "source": [
    "# type(stock_df_amzn['date'][0])"
   ]
  },
  {
   "cell_type": "code",
   "execution_count": 32,
   "metadata": {},
   "outputs": [],
   "source": [
    "#  stock_df_amzn['date']  = pd.to_datetime(stock_df_amzn['date'], format='%Y-%m-%d', errors='coerce')"
   ]
  },
  {
   "cell_type": "code",
   "execution_count": 33,
   "metadata": {},
   "outputs": [],
   "source": [
    "#  stock_df_amzn['date']"
   ]
  },
  {
   "cell_type": "code",
   "execution_count": 34,
   "metadata": {},
   "outputs": [],
   "source": [
    "#  pd.DataFrame(stock_df_amzn['date']).info()"
   ]
  },
  {
   "cell_type": "code",
   "execution_count": 35,
   "metadata": {},
   "outputs": [],
   "source": [
    "# resample_df = amzn_df.resample('M',on ='date').mean()\n",
    "# stock_df_amzn_mean=stock_df_amzn.resample('M', on = 'date').mean()\n",
    "# stock_df_amzn_mean"
   ]
  },
  {
   "cell_type": "code",
   "execution_count": 36,
   "metadata": {},
   "outputs": [],
   "source": [
    "# stock_df_amzn_mean.info()"
   ]
  },
  {
   "cell_type": "code",
   "execution_count": 37,
   "metadata": {},
   "outputs": [],
   "source": [
    "# stock_df_amzn_mean_dict= stock_df_amzn_mean.to_dict('records')\n",
    "# stock_df_amzn_mean_dict"
   ]
  },
  {
   "cell_type": "code",
   "execution_count": 38,
   "metadata": {},
   "outputs": [],
   "source": [
    "# print(jsonify(stock_df_amzn_mean_dict))"
   ]
  },
  {
   "cell_type": "code",
   "execution_count": 39,
   "metadata": {},
   "outputs": [],
   "source": [
    "# type(stock_df_amzn['date'][0])"
   ]
  },
  {
   "cell_type": "code",
   "execution_count": 40,
   "metadata": {},
   "outputs": [],
   "source": [
    "# stock_df_amzn['date']  =  pd.to_datetime(stock_df_amzn['date'],unit='s')"
   ]
  },
  {
   "cell_type": "code",
   "execution_count": 41,
   "metadata": {},
   "outputs": [],
   "source": [
    "# pd.date_range(start='1/1/2018', periods=5, freq='M')\n",
    "# DatetimeIndex(['2018-01-31', '2018-02-28', '2018-03-31', '2018-04-30',\n",
    "#                '2018-05-31'],\n",
    "#               dtype='datetime64[ns]', freq='M')"
   ]
  },
  {
   "cell_type": "code",
   "execution_count": 42,
   "metadata": {},
   "outputs": [],
   "source": [
    "# filtered= stock_df_amzn.resample('D', level = 0).mean()"
   ]
  },
  {
   "cell_type": "code",
   "execution_count": 44,
   "metadata": {},
   "outputs": [],
   "source": [
    "#TEST \n",
    "# data= f'Data/Individual_stocks/{stocklist_2018[1]}.csv'\n",
    "# #   stock_df.append(pd.read_csv(data))\n",
    "# df = pd.read_csv(data)\n",
    "# df[\"Year\"]=pd.DatetimeIndex(df['date']).year\n",
    "# df[\"ticker\"]= stocklist_2018[1]\n",
    "# df1=df.loc[df['Year']> 2013 ]\n",
    "# df1"
   ]
  },
  {
   "cell_type": "markdown",
   "metadata": {},
   "source": [
    "Writing the dataframe to a CSV"
   ]
  },
  {
   "cell_type": "code",
   "execution_count": 36,
   "metadata": {},
   "outputs": [],
   "source": [
    "# path1= os.path.join('Data', 'output', 'stock.csv')\n",
    "# stock_df.to_csv(path1)"
   ]
  },
  {
   "cell_type": "markdown",
   "metadata": {},
   "source": [
    "Convert the DataFrames of 500 stock to a dictionary"
   ]
  },
  {
   "cell_type": "code",
   "execution_count": 37,
   "metadata": {},
   "outputs": [],
   "source": [
    "stock_dict = stock_df.to_dict('records')\n",
    "# stock_dict"
   ]
  },
  {
   "cell_type": "code",
   "execution_count": 38,
   "metadata": {},
   "outputs": [],
   "source": [
    "financial2018_dict=top500_2018.to_dict('records')\n",
    "# financial2018_dict"
   ]
  },
  {
   "cell_type": "code",
   "execution_count": 39,
   "metadata": {},
   "outputs": [],
   "source": [
    "financial2017_dict=top500_2017.to_dict('records')\n",
    "# financial2017_dict"
   ]
  },
  {
   "cell_type": "code",
   "execution_count": 40,
   "metadata": {},
   "outputs": [],
   "source": [
    "financial2016_dict=top500_2016.to_dict('records')\n",
    "# financial2016_dict"
   ]
  },
  {
   "cell_type": "code",
   "execution_count": 41,
   "metadata": {},
   "outputs": [],
   "source": [
    "financial2015_dict=top500_2015.to_dict('records')\n",
    "# financial2015_dict"
   ]
  },
  {
   "cell_type": "code",
   "execution_count": 29,
   "metadata": {},
   "outputs": [
    {
     "ename": "NameError",
     "evalue": "name 'top500_2014' is not defined",
     "output_type": "error",
     "traceback": [
      "\u001b[1;31m---------------------------------------------------------------------------\u001b[0m",
      "\u001b[1;31mNameError\u001b[0m                                 Traceback (most recent call last)",
      "\u001b[1;32m<ipython-input-29-040c67d90268>\u001b[0m in \u001b[0;36m<module>\u001b[1;34m\u001b[0m\n\u001b[1;32m----> 1\u001b[1;33m \u001b[0mfinancial2014_dict\u001b[0m\u001b[1;33m=\u001b[0m\u001b[0mtop500_2014\u001b[0m\u001b[1;33m.\u001b[0m\u001b[0mto_dict\u001b[0m\u001b[1;33m(\u001b[0m\u001b[1;34m'records'\u001b[0m\u001b[1;33m,\u001b[0m \u001b[0mdrop\u001b[0m\u001b[1;33m=\u001b[0m \u001b[1;32mTrue\u001b[0m\u001b[1;33m)\u001b[0m\u001b[1;33m\u001b[0m\u001b[1;33m\u001b[0m\u001b[0m\n\u001b[0m\u001b[0;32m      2\u001b[0m \u001b[1;31m# financial2014_dict\u001b[0m\u001b[1;33m\u001b[0m\u001b[1;33m\u001b[0m\u001b[1;33m\u001b[0m\u001b[0m\n",
      "\u001b[1;31mNameError\u001b[0m: name 'top500_2014' is not defined"
     ]
    }
   ],
   "source": [
    "financial2014_dict=top500_2014.to_dict('records')\n",
    "# financial2014_dict"
   ]
  },
  {
   "cell_type": "markdown",
   "metadata": {},
   "source": [
    "## S&P 500 dataset"
   ]
  },
  {
   "cell_type": "code",
   "execution_count": 33,
   "metadata": {},
   "outputs": [
    {
     "data": {
      "text/html": [
       "<div>\n",
       "<style scoped>\n",
       "    .dataframe tbody tr th:only-of-type {\n",
       "        vertical-align: middle;\n",
       "    }\n",
       "\n",
       "    .dataframe tbody tr th {\n",
       "        vertical-align: top;\n",
       "    }\n",
       "\n",
       "    .dataframe thead th {\n",
       "        text-align: right;\n",
       "    }\n",
       "</style>\n",
       "<table border=\"1\" class=\"dataframe\">\n",
       "  <thead>\n",
       "    <tr style=\"text-align: right;\">\n",
       "      <th></th>\n",
       "      <th>index</th>\n",
       "      <th>Name</th>\n",
       "      <th>Sector</th>\n",
       "    </tr>\n",
       "    <tr>\n",
       "      <th>Symbol</th>\n",
       "      <th></th>\n",
       "      <th></th>\n",
       "      <th></th>\n",
       "    </tr>\n",
       "  </thead>\n",
       "  <tbody>\n",
       "    <tr>\n",
       "      <td>MMM</td>\n",
       "      <td>0</td>\n",
       "      <td>3M Company</td>\n",
       "      <td>Industrials</td>\n",
       "    </tr>\n",
       "    <tr>\n",
       "      <td>AOS</td>\n",
       "      <td>1</td>\n",
       "      <td>A.O. Smith Corp</td>\n",
       "      <td>Industrials</td>\n",
       "    </tr>\n",
       "    <tr>\n",
       "      <td>ABT</td>\n",
       "      <td>2</td>\n",
       "      <td>Abbott Laboratories</td>\n",
       "      <td>Health Care</td>\n",
       "    </tr>\n",
       "    <tr>\n",
       "      <td>ABBV</td>\n",
       "      <td>3</td>\n",
       "      <td>AbbVie Inc.</td>\n",
       "      <td>Health Care</td>\n",
       "    </tr>\n",
       "    <tr>\n",
       "      <td>ACN</td>\n",
       "      <td>4</td>\n",
       "      <td>Accenture plc</td>\n",
       "      <td>Information Technology</td>\n",
       "    </tr>\n",
       "    <tr>\n",
       "      <td>...</td>\n",
       "      <td>...</td>\n",
       "      <td>...</td>\n",
       "      <td>...</td>\n",
       "    </tr>\n",
       "    <tr>\n",
       "      <td>XYL</td>\n",
       "      <td>500</td>\n",
       "      <td>Xylem Inc.</td>\n",
       "      <td>Industrials</td>\n",
       "    </tr>\n",
       "    <tr>\n",
       "      <td>YUM</td>\n",
       "      <td>501</td>\n",
       "      <td>Yum! Brands Inc</td>\n",
       "      <td>Consumer Discretionary</td>\n",
       "    </tr>\n",
       "    <tr>\n",
       "      <td>ZBH</td>\n",
       "      <td>502</td>\n",
       "      <td>Zimmer Biomet Holdings</td>\n",
       "      <td>Health Care</td>\n",
       "    </tr>\n",
       "    <tr>\n",
       "      <td>ZION</td>\n",
       "      <td>503</td>\n",
       "      <td>Zions Bancorp</td>\n",
       "      <td>Financials</td>\n",
       "    </tr>\n",
       "    <tr>\n",
       "      <td>ZTS</td>\n",
       "      <td>504</td>\n",
       "      <td>Zoetis</td>\n",
       "      <td>Health Care</td>\n",
       "    </tr>\n",
       "  </tbody>\n",
       "</table>\n",
       "<p>505 rows × 3 columns</p>\n",
       "</div>"
      ],
      "text/plain": [
       "        index                    Name                  Sector\n",
       "Symbol                                                       \n",
       "MMM         0              3M Company             Industrials\n",
       "AOS         1         A.O. Smith Corp             Industrials\n",
       "ABT         2     Abbott Laboratories             Health Care\n",
       "ABBV        3             AbbVie Inc.             Health Care\n",
       "ACN         4           Accenture plc  Information Technology\n",
       "...       ...                     ...                     ...\n",
       "XYL       500              Xylem Inc.             Industrials\n",
       "YUM       501         Yum! Brands Inc  Consumer Discretionary\n",
       "ZBH       502  Zimmer Biomet Holdings             Health Care\n",
       "ZION      503           Zions Bancorp              Financials\n",
       "ZTS       504                  Zoetis             Health Care\n",
       "\n",
       "[505 rows x 3 columns]"
      ]
     },
     "execution_count": 33,
     "metadata": {},
     "output_type": "execute_result"
    }
   ],
   "source": [
    "top500_df"
   ]
  },
  {
   "cell_type": "code",
   "execution_count": 34,
   "metadata": {},
   "outputs": [],
   "source": [
    "top500_df=top500_df.drop(columns = ['index'])"
   ]
  },
  {
   "cell_type": "code",
   "execution_count": 35,
   "metadata": {},
   "outputs": [
    {
     "data": {
      "text/html": [
       "<div>\n",
       "<style scoped>\n",
       "    .dataframe tbody tr th:only-of-type {\n",
       "        vertical-align: middle;\n",
       "    }\n",
       "\n",
       "    .dataframe tbody tr th {\n",
       "        vertical-align: top;\n",
       "    }\n",
       "\n",
       "    .dataframe thead th {\n",
       "        text-align: right;\n",
       "    }\n",
       "</style>\n",
       "<table border=\"1\" class=\"dataframe\">\n",
       "  <thead>\n",
       "    <tr style=\"text-align: right;\">\n",
       "      <th></th>\n",
       "      <th>Name</th>\n",
       "      <th>Sector</th>\n",
       "    </tr>\n",
       "    <tr>\n",
       "      <th>Symbol</th>\n",
       "      <th></th>\n",
       "      <th></th>\n",
       "    </tr>\n",
       "  </thead>\n",
       "  <tbody>\n",
       "    <tr>\n",
       "      <td>MMM</td>\n",
       "      <td>3M Company</td>\n",
       "      <td>Industrials</td>\n",
       "    </tr>\n",
       "    <tr>\n",
       "      <td>AOS</td>\n",
       "      <td>A.O. Smith Corp</td>\n",
       "      <td>Industrials</td>\n",
       "    </tr>\n",
       "    <tr>\n",
       "      <td>ABT</td>\n",
       "      <td>Abbott Laboratories</td>\n",
       "      <td>Health Care</td>\n",
       "    </tr>\n",
       "    <tr>\n",
       "      <td>ABBV</td>\n",
       "      <td>AbbVie Inc.</td>\n",
       "      <td>Health Care</td>\n",
       "    </tr>\n",
       "    <tr>\n",
       "      <td>ACN</td>\n",
       "      <td>Accenture plc</td>\n",
       "      <td>Information Technology</td>\n",
       "    </tr>\n",
       "    <tr>\n",
       "      <td>...</td>\n",
       "      <td>...</td>\n",
       "      <td>...</td>\n",
       "    </tr>\n",
       "    <tr>\n",
       "      <td>XYL</td>\n",
       "      <td>Xylem Inc.</td>\n",
       "      <td>Industrials</td>\n",
       "    </tr>\n",
       "    <tr>\n",
       "      <td>YUM</td>\n",
       "      <td>Yum! Brands Inc</td>\n",
       "      <td>Consumer Discretionary</td>\n",
       "    </tr>\n",
       "    <tr>\n",
       "      <td>ZBH</td>\n",
       "      <td>Zimmer Biomet Holdings</td>\n",
       "      <td>Health Care</td>\n",
       "    </tr>\n",
       "    <tr>\n",
       "      <td>ZION</td>\n",
       "      <td>Zions Bancorp</td>\n",
       "      <td>Financials</td>\n",
       "    </tr>\n",
       "    <tr>\n",
       "      <td>ZTS</td>\n",
       "      <td>Zoetis</td>\n",
       "      <td>Health Care</td>\n",
       "    </tr>\n",
       "  </tbody>\n",
       "</table>\n",
       "<p>505 rows × 2 columns</p>\n",
       "</div>"
      ],
      "text/plain": [
       "                          Name                  Sector\n",
       "Symbol                                                \n",
       "MMM                 3M Company             Industrials\n",
       "AOS            A.O. Smith Corp             Industrials\n",
       "ABT        Abbott Laboratories             Health Care\n",
       "ABBV               AbbVie Inc.             Health Care\n",
       "ACN              Accenture plc  Information Technology\n",
       "...                        ...                     ...\n",
       "XYL                 Xylem Inc.             Industrials\n",
       "YUM            Yum! Brands Inc  Consumer Discretionary\n",
       "ZBH     Zimmer Biomet Holdings             Health Care\n",
       "ZION             Zions Bancorp              Financials\n",
       "ZTS                     Zoetis             Health Care\n",
       "\n",
       "[505 rows x 2 columns]"
      ]
     },
     "execution_count": 35,
     "metadata": {},
     "output_type": "execute_result"
    }
   ],
   "source": [
    "top500_df"
   ]
  },
  {
   "cell_type": "code",
   "execution_count": 36,
   "metadata": {},
   "outputs": [
    {
     "data": {
      "text/plain": [
       "'<table border=\"1\" class=\"dataframe\">\\n  <thead>\\n    <tr style=\"text-align: right;\">\\n      <th></th>\\n      <th>Name</th>\\n      <th>Sector</th>\\n    </tr>\\n    <tr>\\n      <th>Symbol</th>\\n      <th></th>\\n      <th></th>\\n    </tr>\\n  </thead>\\n  <tbody>\\n    <tr>\\n      <th>MMM</th>\\n      <td>3M Company</td>\\n      <td>Industrials</td>\\n    </tr>\\n    <tr>\\n      <th>AOS</th>\\n      <td>A.O. Smith Corp</td>\\n      <td>Industrials</td>\\n    </tr>\\n    <tr>\\n      <th>ABT</th>\\n      <td>Abbott Laboratories</td>\\n      <td>Health Care</td>\\n    </tr>\\n    <tr>\\n      <th>ABBV</th>\\n      <td>AbbVie Inc.</td>\\n      <td>Health Care</td>\\n    </tr>\\n    <tr>\\n      <th>ACN</th>\\n      <td>Accenture plc</td>\\n      <td>Information Technology</td>\\n    </tr>\\n    <tr>\\n      <th>ATVI</th>\\n      <td>Activision Blizzard</td>\\n      <td>Information Technology</td>\\n    </tr>\\n    <tr>\\n      <th>AYI</th>\\n      <td>Acuity Brands Inc</td>\\n      <td>Industrials</td>\\n    </tr>\\n    <tr>\\n      <th>ADBE</th>\\n      <td>Adobe Systems Inc</td>\\n      <td>Information Technology</td>\\n    </tr>\\n    <tr>\\n      <th>AAP</th>\\n      <td>Advance Auto Parts</td>\\n      <td>Consumer Discretionary</td>\\n    </tr>\\n    <tr>\\n      <th>AMD</th>\\n      <td>Advanced Micro Devices Inc</td>\\n      <td>Information Technology</td>\\n    </tr>\\n    <tr>\\n      <th>AES</th>\\n      <td>AES Corp</td>\\n      <td>Utilities</td>\\n    </tr>\\n    <tr>\\n      <th>AET</th>\\n      <td>Aetna Inc</td>\\n      <td>Health Care</td>\\n    </tr>\\n    <tr>\\n      <th>AMG</th>\\n      <td>Affiliated Managers Group Inc</td>\\n      <td>Financials</td>\\n    </tr>\\n    <tr>\\n      <th>AFL</th>\\n      <td>AFLAC Inc</td>\\n      <td>Financials</td>\\n    </tr>\\n    <tr>\\n      <th>A</th>\\n      <td>Agilent Technologies Inc</td>\\n      <td>Health Care</td>\\n    </tr>\\n    <tr>\\n      <th>APD</th>\\n      <td>Air Products &amp; Chemicals Inc</td>\\n      <td>Materials</td>\\n    </tr>\\n    <tr>\\n      <th>AKAM</th>\\n      <td>Akamai Technologies Inc</td>\\n      <td>Information Technology</td>\\n    </tr>\\n    <tr>\\n      <th>ALK</th>\\n      <td>Alaska Air Group Inc</td>\\n      <td>Industrials</td>\\n    </tr>\\n    <tr>\\n      <th>ALB</th>\\n      <td>Albemarle Corp</td>\\n      <td>Materials</td>\\n    </tr>\\n    <tr>\\n      <th>ARE</th>\\n      <td>Alexandria Real Estate Equities Inc</td>\\n      <td>Real Estate</td>\\n    </tr>\\n    <tr>\\n      <th>ALXN</th>\\n      <td>Alexion Pharmaceuticals</td>\\n      <td>Health Care</td>\\n    </tr>\\n    <tr>\\n      <th>ALGN</th>\\n      <td>Align Technology</td>\\n      <td>Health Care</td>\\n    </tr>\\n    <tr>\\n      <th>ALLE</th>\\n      <td>Allegion</td>\\n      <td>Industrials</td>\\n    </tr>\\n    <tr>\\n      <th>AGN</th>\\n      <td>Allergan, Plc</td>\\n      <td>Health Care</td>\\n    </tr>\\n    <tr>\\n      <th>ADS</th>\\n      <td>Alliance Data Systems</td>\\n      <td>Information Technology</td>\\n    </tr>\\n    <tr>\\n      <th>LNT</th>\\n      <td>Alliant Energy Corp</td>\\n      <td>Utilities</td>\\n    </tr>\\n    <tr>\\n      <th>ALL</th>\\n      <td>Allstate Corp</td>\\n      <td>Financials</td>\\n    </tr>\\n    <tr>\\n      <th>GOOGL</th>\\n      <td>Alphabet Inc Class A</td>\\n      <td>Information Technology</td>\\n    </tr>\\n    <tr>\\n      <th>GOOG</th>\\n      <td>Alphabet Inc Class C</td>\\n      <td>Information Technology</td>\\n    </tr>\\n    <tr>\\n      <th>MO</th>\\n      <td>Altria Group Inc</td>\\n      <td>Consumer Staples</td>\\n    </tr>\\n    <tr>\\n      <th>AMZN</th>\\n      <td>Amazon.com Inc.</td>\\n      <td>Consumer Discretionary</td>\\n    </tr>\\n    <tr>\\n      <th>AEE</th>\\n      <td>Ameren Corp</td>\\n      <td>Utilities</td>\\n    </tr>\\n    <tr>\\n      <th>AAL</th>\\n      <td>American Airlines Group</td>\\n      <td>Industrials</td>\\n    </tr>\\n    <tr>\\n      <th>AEP</th>\\n      <td>American Electric Power</td>\\n      <td>Utilities</td>\\n    </tr>\\n    <tr>\\n      <th>AXP</th>\\n      <td>American Express Co</td>\\n      <td>Financials</td>\\n    </tr>\\n    <tr>\\n      <th>AIG</th>\\n      <td>American International Group, Inc.</td>\\n      <td>Financials</td>\\n    </tr>\\n    <tr>\\n      <th>AMT</th>\\n      <td>American Tower Corp A</td>\\n      <td>Real Estate</td>\\n    </tr>\\n    <tr>\\n      <th>AWK</th>\\n      <td>American Water Works Company Inc</td>\\n      <td>Utilities</td>\\n    </tr>\\n    <tr>\\n      <th>AMP</th>\\n      <td>Ameriprise Financial</td>\\n      <td>Financials</td>\\n    </tr>\\n    <tr>\\n      <th>ABC</th>\\n      <td>AmerisourceBergen Corp</td>\\n      <td>Health Care</td>\\n    </tr>\\n    <tr>\\n      <th>AME</th>\\n      <td>AMETEK Inc.</td>\\n      <td>Industrials</td>\\n    </tr>\\n    <tr>\\n      <th>AMGN</th>\\n      <td>Amgen Inc.</td>\\n      <td>Health Care</td>\\n    </tr>\\n    <tr>\\n      <th>APH</th>\\n      <td>Amphenol Corp</td>\\n      <td>Information Technology</td>\\n    </tr>\\n    <tr>\\n      <th>APC</th>\\n      <td>Anadarko Petroleum Corp</td>\\n      <td>Energy</td>\\n    </tr>\\n    <tr>\\n      <th>ADI</th>\\n      <td>Analog Devices, Inc.</td>\\n      <td>Information Technology</td>\\n    </tr>\\n    <tr>\\n      <th>ANDV</th>\\n      <td>Andeavor</td>\\n      <td>Energy</td>\\n    </tr>\\n    <tr>\\n      <th>ANSS</th>\\n      <td>ANSYS</td>\\n      <td>Information Technology</td>\\n    </tr>\\n    <tr>\\n      <th>ANTM</th>\\n      <td>Anthem Inc.</td>\\n      <td>Health Care</td>\\n    </tr>\\n    <tr>\\n      <th>AON</th>\\n      <td>Aon plc</td>\\n      <td>Financials</td>\\n    </tr>\\n    <tr>\\n      <th>APA</th>\\n      <td>Apache Corporation</td>\\n      <td>Energy</td>\\n    </tr>\\n    <tr>\\n      <th>AIV</th>\\n      <td>Apartment Investment &amp; Management</td>\\n      <td>Real Estate</td>\\n    </tr>\\n    <tr>\\n      <th>AAPL</th>\\n      <td>Apple Inc.</td>\\n      <td>Information Technology</td>\\n    </tr>\\n    <tr>\\n      <th>AMAT</th>\\n      <td>Applied Materials Inc.</td>\\n      <td>Information Technology</td>\\n    </tr>\\n    <tr>\\n      <th>APTV</th>\\n      <td>Aptiv Plc</td>\\n      <td>Consumer Discretionary</td>\\n    </tr>\\n    <tr>\\n      <th>ADM</th>\\n      <td>Archer-Daniels-Midland Co</td>\\n      <td>Consumer Staples</td>\\n    </tr>\\n    <tr>\\n      <th>ARNC</th>\\n      <td>Arconic Inc.</td>\\n      <td>Industrials</td>\\n    </tr>\\n    <tr>\\n      <th>AJG</th>\\n      <td>Arthur J. Gallagher &amp; Co.</td>\\n      <td>Financials</td>\\n    </tr>\\n    <tr>\\n      <th>AIZ</th>\\n      <td>Assurant Inc.</td>\\n      <td>Financials</td>\\n    </tr>\\n    <tr>\\n      <th>T</th>\\n      <td>AT&amp;T Inc.</td>\\n      <td>Telecommunication Services</td>\\n    </tr>\\n    <tr>\\n      <th>ADSK</th>\\n      <td>Autodesk Inc.</td>\\n      <td>Information Technology</td>\\n    </tr>\\n    <tr>\\n      <th>ADP</th>\\n      <td>Automatic Data Processing</td>\\n      <td>Information Technology</td>\\n    </tr>\\n    <tr>\\n      <th>AZO</th>\\n      <td>AutoZone Inc</td>\\n      <td>Consumer Discretionary</td>\\n    </tr>\\n    <tr>\\n      <th>AVB</th>\\n      <td>AvalonBay Communities, Inc.</td>\\n      <td>Real Estate</td>\\n    </tr>\\n    <tr>\\n      <th>AVY</th>\\n      <td>Avery Dennison Corp</td>\\n      <td>Materials</td>\\n    </tr>\\n    <tr>\\n      <th>BHGE</th>\\n      <td>Baker Hughes, a GE Company</td>\\n      <td>Energy</td>\\n    </tr>\\n    <tr>\\n      <th>BLL</th>\\n      <td>Ball Corp</td>\\n      <td>Materials</td>\\n    </tr>\\n    <tr>\\n      <th>BAC</th>\\n      <td>Bank of America Corp</td>\\n      <td>Financials</td>\\n    </tr>\\n    <tr>\\n      <th>BAX</th>\\n      <td>Baxter International Inc.</td>\\n      <td>Health Care</td>\\n    </tr>\\n    <tr>\\n      <th>BBT</th>\\n      <td>BB&amp;T Corporation</td>\\n      <td>Financials</td>\\n    </tr>\\n    <tr>\\n      <th>BDX</th>\\n      <td>Becton Dickinson</td>\\n      <td>Health Care</td>\\n    </tr>\\n    <tr>\\n      <th>BRK.B</th>\\n      <td>Berkshire Hathaway</td>\\n      <td>Financials</td>\\n    </tr>\\n    <tr>\\n      <th>BBY</th>\\n      <td>Best Buy Co. Inc.</td>\\n      <td>Consumer Discretionary</td>\\n    </tr>\\n    <tr>\\n      <th>BIIB</th>\\n      <td>Biogen Inc.</td>\\n      <td>Health Care</td>\\n    </tr>\\n    <tr>\\n      <th>BLK</th>\\n      <td>BlackRock</td>\\n      <td>Financials</td>\\n    </tr>\\n    <tr>\\n      <th>HRB</th>\\n      <td>Block H&amp;R</td>\\n      <td>Financials</td>\\n    </tr>\\n    <tr>\\n      <th>BA</th>\\n      <td>Boeing Company</td>\\n      <td>Industrials</td>\\n    </tr>\\n    <tr>\\n      <th>BKNG</th>\\n      <td>Booking Holdings Inc</td>\\n      <td>Consumer Discretionary</td>\\n    </tr>\\n    <tr>\\n      <th>BWA</th>\\n      <td>BorgWarner</td>\\n      <td>Consumer Discretionary</td>\\n    </tr>\\n    <tr>\\n      <th>BXP</th>\\n      <td>Boston Properties</td>\\n      <td>Real Estate</td>\\n    </tr>\\n    <tr>\\n      <th>BSX</th>\\n      <td>Boston Scientific</td>\\n      <td>Health Care</td>\\n    </tr>\\n    <tr>\\n      <th>BHF</th>\\n      <td>Brighthouse Financial Inc</td>\\n      <td>Financials</td>\\n    </tr>\\n    <tr>\\n      <th>BMY</th>\\n      <td>Bristol-Myers Squibb</td>\\n      <td>Health Care</td>\\n    </tr>\\n    <tr>\\n      <th>AVGO</th>\\n      <td>Broadcom</td>\\n      <td>Information Technology</td>\\n    </tr>\\n    <tr>\\n      <th>BF.B</th>\\n      <td>Brown-Forman Corp.</td>\\n      <td>Consumer Staples</td>\\n    </tr>\\n    <tr>\\n      <th>CHRW</th>\\n      <td>C. H. Robinson Worldwide</td>\\n      <td>Industrials</td>\\n    </tr>\\n    <tr>\\n      <th>CA</th>\\n      <td>CA, Inc.</td>\\n      <td>Information Technology</td>\\n    </tr>\\n    <tr>\\n      <th>COG</th>\\n      <td>Cabot Oil &amp; Gas</td>\\n      <td>Energy</td>\\n    </tr>\\n    <tr>\\n      <th>CDNS</th>\\n      <td>Cadence Design Systems</td>\\n      <td>Information Technology</td>\\n    </tr>\\n    <tr>\\n      <th>CPB</th>\\n      <td>Campbell Soup</td>\\n      <td>Consumer Staples</td>\\n    </tr>\\n    <tr>\\n      <th>COF</th>\\n      <td>Capital One Financial</td>\\n      <td>Financials</td>\\n    </tr>\\n    <tr>\\n      <th>CAH</th>\\n      <td>Cardinal Health Inc.</td>\\n      <td>Health Care</td>\\n    </tr>\\n    <tr>\\n      <th>KMX</th>\\n      <td>Carmax Inc</td>\\n      <td>Consumer Discretionary</td>\\n    </tr>\\n    <tr>\\n      <th>CCL</th>\\n      <td>Carnival Corp.</td>\\n      <td>Consumer Discretionary</td>\\n    </tr>\\n    <tr>\\n      <th>CAT</th>\\n      <td>Caterpillar Inc.</td>\\n      <td>Industrials</td>\\n    </tr>\\n    <tr>\\n      <th>CBOE</th>\\n      <td>Cboe Global Markets</td>\\n      <td>Financials</td>\\n    </tr>\\n    <tr>\\n      <th>CBRE</th>\\n      <td>CBRE Group</td>\\n      <td>Real Estate</td>\\n    </tr>\\n    <tr>\\n      <th>CBS</th>\\n      <td>CBS Corp.</td>\\n      <td>Consumer Discretionary</td>\\n    </tr>\\n    <tr>\\n      <th>CELG</th>\\n      <td>Celgene Corp.</td>\\n      <td>Health Care</td>\\n    </tr>\\n    <tr>\\n      <th>CNC</th>\\n      <td>Centene Corporation</td>\\n      <td>Health Care</td>\\n    </tr>\\n    <tr>\\n      <th>CNP</th>\\n      <td>CenterPoint Energy</td>\\n      <td>Utilities</td>\\n    </tr>\\n    <tr>\\n      <th>CTL</th>\\n      <td>CenturyLink Inc</td>\\n      <td>Telecommunication Services</td>\\n    </tr>\\n    <tr>\\n      <th>CERN</th>\\n      <td>Cerner</td>\\n      <td>Health Care</td>\\n    </tr>\\n    <tr>\\n      <th>CF</th>\\n      <td>CF Industries Holdings Inc</td>\\n      <td>Materials</td>\\n    </tr>\\n    <tr>\\n      <th>SCHW</th>\\n      <td>Charles Schwab Corporation</td>\\n      <td>Financials</td>\\n    </tr>\\n    <tr>\\n      <th>CHTR</th>\\n      <td>Charter Communications</td>\\n      <td>Consumer Discretionary</td>\\n    </tr>\\n    <tr>\\n      <th>CVX</th>\\n      <td>Chevron Corp.</td>\\n      <td>Energy</td>\\n    </tr>\\n    <tr>\\n      <th>CMG</th>\\n      <td>Chipotle Mexican Grill</td>\\n      <td>Consumer Discretionary</td>\\n    </tr>\\n    <tr>\\n      <th>CB</th>\\n      <td>Chubb Limited</td>\\n      <td>Financials</td>\\n    </tr>\\n    <tr>\\n      <th>CHD</th>\\n      <td>Church &amp; Dwight</td>\\n      <td>Consumer Staples</td>\\n    </tr>\\n    <tr>\\n      <th>CI</th>\\n      <td>CIGNA Corp.</td>\\n      <td>Health Care</td>\\n    </tr>\\n    <tr>\\n      <th>XEC</th>\\n      <td>Cimarex Energy</td>\\n      <td>Energy</td>\\n    </tr>\\n    <tr>\\n      <th>CINF</th>\\n      <td>Cincinnati Financial</td>\\n      <td>Financials</td>\\n    </tr>\\n    <tr>\\n      <th>CTAS</th>\\n      <td>Cintas Corporation</td>\\n      <td>Industrials</td>\\n    </tr>\\n    <tr>\\n      <th>CSCO</th>\\n      <td>Cisco Systems</td>\\n      <td>Information Technology</td>\\n    </tr>\\n    <tr>\\n      <th>C</th>\\n      <td>Citigroup Inc.</td>\\n      <td>Financials</td>\\n    </tr>\\n    <tr>\\n      <th>CFG</th>\\n      <td>Citizens Financial Group</td>\\n      <td>Financials</td>\\n    </tr>\\n    <tr>\\n      <th>CTXS</th>\\n      <td>Citrix Systems</td>\\n      <td>Information Technology</td>\\n    </tr>\\n    <tr>\\n      <th>CME</th>\\n      <td>CME Group Inc.</td>\\n      <td>Financials</td>\\n    </tr>\\n    <tr>\\n      <th>CMS</th>\\n      <td>CMS Energy</td>\\n      <td>Utilities</td>\\n    </tr>\\n    <tr>\\n      <th>KO</th>\\n      <td>Coca-Cola Company (The)</td>\\n      <td>Consumer Staples</td>\\n    </tr>\\n    <tr>\\n      <th>CTSH</th>\\n      <td>Cognizant Technology Solutions</td>\\n      <td>Information Technology</td>\\n    </tr>\\n    <tr>\\n      <th>CL</th>\\n      <td>Colgate-Palmolive</td>\\n      <td>Consumer Staples</td>\\n    </tr>\\n    <tr>\\n      <th>CMCSA</th>\\n      <td>Comcast Corp.</td>\\n      <td>Consumer Discretionary</td>\\n    </tr>\\n    <tr>\\n      <th>CMA</th>\\n      <td>Comerica Inc.</td>\\n      <td>Financials</td>\\n    </tr>\\n    <tr>\\n      <th>CAG</th>\\n      <td>Conagra Brands</td>\\n      <td>Consumer Staples</td>\\n    </tr>\\n    <tr>\\n      <th>CXO</th>\\n      <td>Concho Resources</td>\\n      <td>Energy</td>\\n    </tr>\\n    <tr>\\n      <th>COP</th>\\n      <td>ConocoPhillips</td>\\n      <td>Energy</td>\\n    </tr>\\n    <tr>\\n      <th>ED</th>\\n      <td>Consolidated Edison</td>\\n      <td>Utilities</td>\\n    </tr>\\n    <tr>\\n      <th>STZ</th>\\n      <td>Constellation Brands</td>\\n      <td>Consumer Staples</td>\\n    </tr>\\n    <tr>\\n      <th>GLW</th>\\n      <td>Corning Inc.</td>\\n      <td>Information Technology</td>\\n    </tr>\\n    <tr>\\n      <th>COST</th>\\n      <td>Costco Wholesale Corp.</td>\\n      <td>Consumer Staples</td>\\n    </tr>\\n    <tr>\\n      <th>COTY</th>\\n      <td>Coty, Inc</td>\\n      <td>Consumer Staples</td>\\n    </tr>\\n    <tr>\\n      <th>CCI</th>\\n      <td>Crown Castle International Corp.</td>\\n      <td>Real Estate</td>\\n    </tr>\\n    <tr>\\n      <th>CSRA</th>\\n      <td>CSRA Inc.</td>\\n      <td>Information Technology</td>\\n    </tr>\\n    <tr>\\n      <th>CSX</th>\\n      <td>CSX Corp.</td>\\n      <td>Industrials</td>\\n    </tr>\\n    <tr>\\n      <th>CMI</th>\\n      <td>Cummins Inc.</td>\\n      <td>Industrials</td>\\n    </tr>\\n    <tr>\\n      <th>CVS</th>\\n      <td>CVS Health</td>\\n      <td>Consumer Staples</td>\\n    </tr>\\n    <tr>\\n      <th>DHI</th>\\n      <td>D. R. Horton</td>\\n      <td>Consumer Discretionary</td>\\n    </tr>\\n    <tr>\\n      <th>DHR</th>\\n      <td>Danaher Corp.</td>\\n      <td>Health Care</td>\\n    </tr>\\n    <tr>\\n      <th>DRI</th>\\n      <td>Darden Restaurants</td>\\n      <td>Consumer Discretionary</td>\\n    </tr>\\n    <tr>\\n      <th>DVA</th>\\n      <td>DaVita Inc.</td>\\n      <td>Health Care</td>\\n    </tr>\\n    <tr>\\n      <th>DE</th>\\n      <td>Deere &amp; Co.</td>\\n      <td>Industrials</td>\\n    </tr>\\n    <tr>\\n      <th>DAL</th>\\n      <td>Delta Air Lines Inc.</td>\\n      <td>Industrials</td>\\n    </tr>\\n    <tr>\\n      <th>XRAY</th>\\n      <td>Dentsply Sirona</td>\\n      <td>Health Care</td>\\n    </tr>\\n    <tr>\\n      <th>DVN</th>\\n      <td>Devon Energy Corp.</td>\\n      <td>Energy</td>\\n    </tr>\\n    <tr>\\n      <th>DLR</th>\\n      <td>Digital Realty Trust Inc</td>\\n      <td>Real Estate</td>\\n    </tr>\\n    <tr>\\n      <th>DFS</th>\\n      <td>Discover Financial Services</td>\\n      <td>Financials</td>\\n    </tr>\\n    <tr>\\n      <th>DISCA</th>\\n      <td>Discovery Inc. Class A</td>\\n      <td>Consumer Discretionary</td>\\n    </tr>\\n    <tr>\\n      <th>DISCK</th>\\n      <td>Discovery Inc. Class C</td>\\n      <td>Consumer Discretionary</td>\\n    </tr>\\n    <tr>\\n      <th>DISH</th>\\n      <td>Dish Network</td>\\n      <td>Consumer Discretionary</td>\\n    </tr>\\n    <tr>\\n      <th>DG</th>\\n      <td>Dollar General</td>\\n      <td>Consumer Discretionary</td>\\n    </tr>\\n    <tr>\\n      <th>DLTR</th>\\n      <td>Dollar Tree</td>\\n      <td>Consumer Discretionary</td>\\n    </tr>\\n    <tr>\\n      <th>D</th>\\n      <td>Dominion Energy</td>\\n      <td>Utilities</td>\\n    </tr>\\n    <tr>\\n      <th>DOV</th>\\n      <td>Dover Corp.</td>\\n      <td>Industrials</td>\\n    </tr>\\n    <tr>\\n      <th>DWDP</th>\\n      <td>DowDuPont</td>\\n      <td>Materials</td>\\n    </tr>\\n    <tr>\\n      <th>DPS</th>\\n      <td>Dr Pepper Snapple Group</td>\\n      <td>Consumer Staples</td>\\n    </tr>\\n    <tr>\\n      <th>DTE</th>\\n      <td>DTE Energy Co.</td>\\n      <td>Utilities</td>\\n    </tr>\\n    <tr>\\n      <th>DUK</th>\\n      <td>Duke Energy</td>\\n      <td>Utilities</td>\\n    </tr>\\n    <tr>\\n      <th>DRE</th>\\n      <td>Duke Realty Corp</td>\\n      <td>Real Estate</td>\\n    </tr>\\n    <tr>\\n      <th>DXC</th>\\n      <td>DXC Technology</td>\\n      <td>Information Technology</td>\\n    </tr>\\n    <tr>\\n      <th>ETFC</th>\\n      <td>E*Trade</td>\\n      <td>Financials</td>\\n    </tr>\\n    <tr>\\n      <th>EMN</th>\\n      <td>Eastman Chemical</td>\\n      <td>Materials</td>\\n    </tr>\\n    <tr>\\n      <th>ETN</th>\\n      <td>Eaton Corporation</td>\\n      <td>Industrials</td>\\n    </tr>\\n    <tr>\\n      <th>EBAY</th>\\n      <td>eBay Inc.</td>\\n      <td>Information Technology</td>\\n    </tr>\\n    <tr>\\n      <th>ECL</th>\\n      <td>Ecolab Inc.</td>\\n      <td>Materials</td>\\n    </tr>\\n    <tr>\\n      <th>EIX</th>\\n      <td>Edison Int\\'l</td>\\n      <td>Utilities</td>\\n    </tr>\\n    <tr>\\n      <th>EW</th>\\n      <td>Edwards Lifesciences</td>\\n      <td>Health Care</td>\\n    </tr>\\n    <tr>\\n      <th>EA</th>\\n      <td>Electronic Arts</td>\\n      <td>Information Technology</td>\\n    </tr>\\n    <tr>\\n      <th>EMR</th>\\n      <td>Emerson Electric Company</td>\\n      <td>Industrials</td>\\n    </tr>\\n    <tr>\\n      <th>ETR</th>\\n      <td>Entergy Corp.</td>\\n      <td>Utilities</td>\\n    </tr>\\n    <tr>\\n      <th>EVHC</th>\\n      <td>Envision Healthcare</td>\\n      <td>Health Care</td>\\n    </tr>\\n    <tr>\\n      <th>EOG</th>\\n      <td>EOG Resources</td>\\n      <td>Energy</td>\\n    </tr>\\n    <tr>\\n      <th>EQT</th>\\n      <td>EQT Corporation</td>\\n      <td>Energy</td>\\n    </tr>\\n    <tr>\\n      <th>EFX</th>\\n      <td>Equifax Inc.</td>\\n      <td>Industrials</td>\\n    </tr>\\n    <tr>\\n      <th>EQIX</th>\\n      <td>Equinix</td>\\n      <td>Real Estate</td>\\n    </tr>\\n    <tr>\\n      <th>EQR</th>\\n      <td>Equity Residential</td>\\n      <td>Real Estate</td>\\n    </tr>\\n    <tr>\\n      <th>ESS</th>\\n      <td>Essex Property Trust, Inc.</td>\\n      <td>Real Estate</td>\\n    </tr>\\n    <tr>\\n      <th>EL</th>\\n      <td>Estee Lauder Cos.</td>\\n      <td>Consumer Staples</td>\\n    </tr>\\n    <tr>\\n      <th>RE</th>\\n      <td>Everest Re Group Ltd.</td>\\n      <td>Financials</td>\\n    </tr>\\n    <tr>\\n      <th>ES</th>\\n      <td>Eversource Energy</td>\\n      <td>Utilities</td>\\n    </tr>\\n    <tr>\\n      <th>EXC</th>\\n      <td>Exelon Corp.</td>\\n      <td>Utilities</td>\\n    </tr>\\n    <tr>\\n      <th>EXPE</th>\\n      <td>Expedia Inc.</td>\\n      <td>Consumer Discretionary</td>\\n    </tr>\\n    <tr>\\n      <th>EXPD</th>\\n      <td>Expeditors International</td>\\n      <td>Industrials</td>\\n    </tr>\\n    <tr>\\n      <th>ESRX</th>\\n      <td>Express Scripts</td>\\n      <td>Health Care</td>\\n    </tr>\\n    <tr>\\n      <th>EXR</th>\\n      <td>Extra Space Storage</td>\\n      <td>Real Estate</td>\\n    </tr>\\n    <tr>\\n      <th>XOM</th>\\n      <td>Exxon Mobil Corp.</td>\\n      <td>Energy</td>\\n    </tr>\\n    <tr>\\n      <th>FFIV</th>\\n      <td>F5 Networks</td>\\n      <td>Information Technology</td>\\n    </tr>\\n    <tr>\\n      <th>FB</th>\\n      <td>Facebook, Inc.</td>\\n      <td>Information Technology</td>\\n    </tr>\\n    <tr>\\n      <th>FAST</th>\\n      <td>Fastenal Co</td>\\n      <td>Industrials</td>\\n    </tr>\\n    <tr>\\n      <th>FRT</th>\\n      <td>Federal Realty Investment Trust</td>\\n      <td>Real Estate</td>\\n    </tr>\\n    <tr>\\n      <th>FDX</th>\\n      <td>FedEx Corporation</td>\\n      <td>Industrials</td>\\n    </tr>\\n    <tr>\\n      <th>FIS</th>\\n      <td>Fidelity National Information Services</td>\\n      <td>Information Technology</td>\\n    </tr>\\n    <tr>\\n      <th>FITB</th>\\n      <td>Fifth Third Bancorp</td>\\n      <td>Financials</td>\\n    </tr>\\n    <tr>\\n      <th>FE</th>\\n      <td>FirstEnergy Corp</td>\\n      <td>Utilities</td>\\n    </tr>\\n    <tr>\\n      <th>FISV</th>\\n      <td>Fiserv Inc</td>\\n      <td>Information Technology</td>\\n    </tr>\\n    <tr>\\n      <th>FLIR</th>\\n      <td>FLIR Systems</td>\\n      <td>Information Technology</td>\\n    </tr>\\n    <tr>\\n      <th>FLS</th>\\n      <td>Flowserve Corporation</td>\\n      <td>Industrials</td>\\n    </tr>\\n    <tr>\\n      <th>FLR</th>\\n      <td>Fluor Corp.</td>\\n      <td>Industrials</td>\\n    </tr>\\n    <tr>\\n      <th>FMC</th>\\n      <td>FMC Corporation</td>\\n      <td>Materials</td>\\n    </tr>\\n    <tr>\\n      <th>FL</th>\\n      <td>Foot Locker Inc</td>\\n      <td>Consumer Discretionary</td>\\n    </tr>\\n    <tr>\\n      <th>F</th>\\n      <td>Ford Motor</td>\\n      <td>Consumer Discretionary</td>\\n    </tr>\\n    <tr>\\n      <th>FTV</th>\\n      <td>Fortive Corp</td>\\n      <td>Industrials</td>\\n    </tr>\\n    <tr>\\n      <th>FBHS</th>\\n      <td>Fortune Brands Home &amp; Security</td>\\n      <td>Industrials</td>\\n    </tr>\\n    <tr>\\n      <th>BEN</th>\\n      <td>Franklin Resources</td>\\n      <td>Financials</td>\\n    </tr>\\n    <tr>\\n      <th>FCX</th>\\n      <td>Freeport-McMoRan Inc.</td>\\n      <td>Materials</td>\\n    </tr>\\n    <tr>\\n      <th>GPS</th>\\n      <td>Gap Inc.</td>\\n      <td>Consumer Discretionary</td>\\n    </tr>\\n    <tr>\\n      <th>GRMN</th>\\n      <td>Garmin Ltd.</td>\\n      <td>Consumer Discretionary</td>\\n    </tr>\\n    <tr>\\n      <th>IT</th>\\n      <td>Gartner Inc</td>\\n      <td>Information Technology</td>\\n    </tr>\\n    <tr>\\n      <th>GD</th>\\n      <td>General Dynamics</td>\\n      <td>Industrials</td>\\n    </tr>\\n    <tr>\\n      <th>GE</th>\\n      <td>General Electric</td>\\n      <td>Industrials</td>\\n    </tr>\\n    <tr>\\n      <th>GGP</th>\\n      <td>General Growth Properties Inc.</td>\\n      <td>Real Estate</td>\\n    </tr>\\n    <tr>\\n      <th>GIS</th>\\n      <td>General Mills</td>\\n      <td>Consumer Staples</td>\\n    </tr>\\n    <tr>\\n      <th>GM</th>\\n      <td>General Motors</td>\\n      <td>Consumer Discretionary</td>\\n    </tr>\\n    <tr>\\n      <th>GPC</th>\\n      <td>Genuine Parts</td>\\n      <td>Consumer Discretionary</td>\\n    </tr>\\n    <tr>\\n      <th>GILD</th>\\n      <td>Gilead Sciences</td>\\n      <td>Health Care</td>\\n    </tr>\\n    <tr>\\n      <th>GPN</th>\\n      <td>Global Payments Inc.</td>\\n      <td>Information Technology</td>\\n    </tr>\\n    <tr>\\n      <th>GS</th>\\n      <td>Goldman Sachs Group</td>\\n      <td>Financials</td>\\n    </tr>\\n    <tr>\\n      <th>GT</th>\\n      <td>Goodyear Tire &amp; Rubber</td>\\n      <td>Consumer Discretionary</td>\\n    </tr>\\n    <tr>\\n      <th>GWW</th>\\n      <td>Grainger (W.W.) Inc.</td>\\n      <td>Industrials</td>\\n    </tr>\\n    <tr>\\n      <th>HAL</th>\\n      <td>Halliburton Co.</td>\\n      <td>Energy</td>\\n    </tr>\\n    <tr>\\n      <th>HBI</th>\\n      <td>Hanesbrands Inc</td>\\n      <td>Consumer Discretionary</td>\\n    </tr>\\n    <tr>\\n      <th>HOG</th>\\n      <td>Harley-Davidson</td>\\n      <td>Consumer Discretionary</td>\\n    </tr>\\n    <tr>\\n      <th>HRS</th>\\n      <td>Harris Corporation</td>\\n      <td>Information Technology</td>\\n    </tr>\\n    <tr>\\n      <th>HIG</th>\\n      <td>Hartford Financial Svc.Gp.</td>\\n      <td>Financials</td>\\n    </tr>\\n    <tr>\\n      <th>HAS</th>\\n      <td>Hasbro Inc.</td>\\n      <td>Consumer Discretionary</td>\\n    </tr>\\n    <tr>\\n      <th>HCA</th>\\n      <td>HCA Holdings</td>\\n      <td>Health Care</td>\\n    </tr>\\n    <tr>\\n      <th>HCP</th>\\n      <td>HCP Inc.</td>\\n      <td>Real Estate</td>\\n    </tr>\\n    <tr>\\n      <th>HP</th>\\n      <td>Helmerich &amp; Payne</td>\\n      <td>Energy</td>\\n    </tr>\\n    <tr>\\n      <th>HSIC</th>\\n      <td>Henry Schein</td>\\n      <td>Health Care</td>\\n    </tr>\\n    <tr>\\n      <th>HES</th>\\n      <td>Hess Corporation</td>\\n      <td>Energy</td>\\n    </tr>\\n    <tr>\\n      <th>HPE</th>\\n      <td>Hewlett Packard Enterprise</td>\\n      <td>Information Technology</td>\\n    </tr>\\n    <tr>\\n      <th>HLT</th>\\n      <td>Hilton Worldwide Holdings Inc</td>\\n      <td>Consumer Discretionary</td>\\n    </tr>\\n    <tr>\\n      <th>HOLX</th>\\n      <td>Hologic</td>\\n      <td>Health Care</td>\\n    </tr>\\n    <tr>\\n      <th>HD</th>\\n      <td>Home Depot</td>\\n      <td>Consumer Discretionary</td>\\n    </tr>\\n    <tr>\\n      <th>HON</th>\\n      <td>Honeywell Int\\'l Inc.</td>\\n      <td>Industrials</td>\\n    </tr>\\n    <tr>\\n      <th>HRL</th>\\n      <td>Hormel Foods Corp.</td>\\n      <td>Consumer Staples</td>\\n    </tr>\\n    <tr>\\n      <th>HST</th>\\n      <td>Host Hotels &amp; Resorts</td>\\n      <td>Real Estate</td>\\n    </tr>\\n    <tr>\\n      <th>HPQ</th>\\n      <td>HP Inc.</td>\\n      <td>Information Technology</td>\\n    </tr>\\n    <tr>\\n      <th>HUM</th>\\n      <td>Humana Inc.</td>\\n      <td>Health Care</td>\\n    </tr>\\n    <tr>\\n      <th>HBAN</th>\\n      <td>Huntington Bancshares</td>\\n      <td>Financials</td>\\n    </tr>\\n    <tr>\\n      <th>HII</th>\\n      <td>Huntington Ingalls Industries</td>\\n      <td>Industrials</td>\\n    </tr>\\n    <tr>\\n      <th>IDXX</th>\\n      <td>IDEXX Laboratories</td>\\n      <td>Health Care</td>\\n    </tr>\\n    <tr>\\n      <th>INFO</th>\\n      <td>IHS Markit Ltd.</td>\\n      <td>Industrials</td>\\n    </tr>\\n    <tr>\\n      <th>ITW</th>\\n      <td>Illinois Tool Works</td>\\n      <td>Industrials</td>\\n    </tr>\\n    <tr>\\n      <th>ILMN</th>\\n      <td>Illumina Inc</td>\\n      <td>Health Care</td>\\n    </tr>\\n    <tr>\\n      <th>INCY</th>\\n      <td>Incyte</td>\\n      <td>Health Care</td>\\n    </tr>\\n    <tr>\\n      <th>IR</th>\\n      <td>Ingersoll-Rand PLC</td>\\n      <td>Industrials</td>\\n    </tr>\\n    <tr>\\n      <th>INTC</th>\\n      <td>Intel Corp.</td>\\n      <td>Information Technology</td>\\n    </tr>\\n    <tr>\\n      <th>ICE</th>\\n      <td>Intercontinental Exchange</td>\\n      <td>Financials</td>\\n    </tr>\\n    <tr>\\n      <th>IBM</th>\\n      <td>International Business Machines</td>\\n      <td>Information Technology</td>\\n    </tr>\\n    <tr>\\n      <th>IP</th>\\n      <td>International Paper</td>\\n      <td>Materials</td>\\n    </tr>\\n    <tr>\\n      <th>IPG</th>\\n      <td>Interpublic Group</td>\\n      <td>Consumer Discretionary</td>\\n    </tr>\\n    <tr>\\n      <th>IFF</th>\\n      <td>Intl Flavors &amp; Fragrances</td>\\n      <td>Materials</td>\\n    </tr>\\n    <tr>\\n      <th>INTU</th>\\n      <td>Intuit Inc.</td>\\n      <td>Information Technology</td>\\n    </tr>\\n    <tr>\\n      <th>ISRG</th>\\n      <td>Intuitive Surgical Inc.</td>\\n      <td>Health Care</td>\\n    </tr>\\n    <tr>\\n      <th>IVZ</th>\\n      <td>Invesco Ltd.</td>\\n      <td>Financials</td>\\n    </tr>\\n    <tr>\\n      <th>IPGP</th>\\n      <td>IPG Photonics Corp.</td>\\n      <td>Information Technology</td>\\n    </tr>\\n    <tr>\\n      <th>IQV</th>\\n      <td>IQVIA Holdings Inc.</td>\\n      <td>Health Care</td>\\n    </tr>\\n    <tr>\\n      <th>IRM</th>\\n      <td>Iron Mountain Incorporated</td>\\n      <td>Real Estate</td>\\n    </tr>\\n    <tr>\\n      <th>JBHT</th>\\n      <td>J. B. Hunt Transport Services</td>\\n      <td>Industrials</td>\\n    </tr>\\n    <tr>\\n      <th>JEC</th>\\n      <td>Jacobs Engineering Group</td>\\n      <td>Industrials</td>\\n    </tr>\\n    <tr>\\n      <th>SJM</th>\\n      <td>JM Smucker</td>\\n      <td>Consumer Staples</td>\\n    </tr>\\n    <tr>\\n      <th>JNJ</th>\\n      <td>Johnson &amp; Johnson</td>\\n      <td>Health Care</td>\\n    </tr>\\n    <tr>\\n      <th>JCI</th>\\n      <td>Johnson Controls International</td>\\n      <td>Industrials</td>\\n    </tr>\\n    <tr>\\n      <th>JPM</th>\\n      <td>JPMorgan Chase &amp; Co.</td>\\n      <td>Financials</td>\\n    </tr>\\n    <tr>\\n      <th>JNPR</th>\\n      <td>Juniper Networks</td>\\n      <td>Information Technology</td>\\n    </tr>\\n    <tr>\\n      <th>KSU</th>\\n      <td>Kansas City Southern</td>\\n      <td>Industrials</td>\\n    </tr>\\n    <tr>\\n      <th>K</th>\\n      <td>Kellogg Co.</td>\\n      <td>Consumer Staples</td>\\n    </tr>\\n    <tr>\\n      <th>KEY</th>\\n      <td>KeyCorp</td>\\n      <td>Financials</td>\\n    </tr>\\n    <tr>\\n      <th>KMB</th>\\n      <td>Kimberly-Clark</td>\\n      <td>Consumer Staples</td>\\n    </tr>\\n    <tr>\\n      <th>KIM</th>\\n      <td>Kimco Realty</td>\\n      <td>Real Estate</td>\\n    </tr>\\n    <tr>\\n      <th>KMI</th>\\n      <td>Kinder Morgan</td>\\n      <td>Energy</td>\\n    </tr>\\n    <tr>\\n      <th>KLAC</th>\\n      <td>KLA-Tencor Corp.</td>\\n      <td>Information Technology</td>\\n    </tr>\\n    <tr>\\n      <th>KSS</th>\\n      <td>Kohl\\'s Corp.</td>\\n      <td>Consumer Discretionary</td>\\n    </tr>\\n    <tr>\\n      <th>KHC</th>\\n      <td>Kraft Heinz Co</td>\\n      <td>Consumer Staples</td>\\n    </tr>\\n    <tr>\\n      <th>KR</th>\\n      <td>Kroger Co.</td>\\n      <td>Consumer Staples</td>\\n    </tr>\\n    <tr>\\n      <th>LB</th>\\n      <td>L Brands Inc.</td>\\n      <td>Consumer Discretionary</td>\\n    </tr>\\n    <tr>\\n      <th>LLL</th>\\n      <td>L-3 Communications Holdings</td>\\n      <td>Industrials</td>\\n    </tr>\\n    <tr>\\n      <th>LH</th>\\n      <td>Laboratory Corp. of America Holding</td>\\n      <td>Health Care</td>\\n    </tr>\\n    <tr>\\n      <th>LRCX</th>\\n      <td>Lam Research</td>\\n      <td>Information Technology</td>\\n    </tr>\\n    <tr>\\n      <th>LEG</th>\\n      <td>Leggett &amp; Platt</td>\\n      <td>Consumer Discretionary</td>\\n    </tr>\\n    <tr>\\n      <th>LEN</th>\\n      <td>Lennar Corp.</td>\\n      <td>Consumer Discretionary</td>\\n    </tr>\\n    <tr>\\n      <th>LUK</th>\\n      <td>Leucadia National Corp.</td>\\n      <td>Financials</td>\\n    </tr>\\n    <tr>\\n      <th>LLY</th>\\n      <td>Lilly (Eli) &amp; Co.</td>\\n      <td>Health Care</td>\\n    </tr>\\n    <tr>\\n      <th>LNC</th>\\n      <td>Lincoln National</td>\\n      <td>Financials</td>\\n    </tr>\\n    <tr>\\n      <th>LKQ</th>\\n      <td>LKQ Corporation</td>\\n      <td>Consumer Discretionary</td>\\n    </tr>\\n    <tr>\\n      <th>LMT</th>\\n      <td>Lockheed Martin Corp.</td>\\n      <td>Industrials</td>\\n    </tr>\\n    <tr>\\n      <th>L</th>\\n      <td>Loews Corp.</td>\\n      <td>Financials</td>\\n    </tr>\\n    <tr>\\n      <th>LOW</th>\\n      <td>Lowe\\'s Cos.</td>\\n      <td>Consumer Discretionary</td>\\n    </tr>\\n    <tr>\\n      <th>LYB</th>\\n      <td>LyondellBasell</td>\\n      <td>Materials</td>\\n    </tr>\\n    <tr>\\n      <th>MTB</th>\\n      <td>M&amp;T Bank Corp.</td>\\n      <td>Financials</td>\\n    </tr>\\n    <tr>\\n      <th>MAC</th>\\n      <td>Macerich</td>\\n      <td>Real Estate</td>\\n    </tr>\\n    <tr>\\n      <th>M</th>\\n      <td>Macy\\'s Inc.</td>\\n      <td>Consumer Discretionary</td>\\n    </tr>\\n    <tr>\\n      <th>MRO</th>\\n      <td>Marathon Oil Corp.</td>\\n      <td>Energy</td>\\n    </tr>\\n    <tr>\\n      <th>MPC</th>\\n      <td>Marathon Petroleum</td>\\n      <td>Energy</td>\\n    </tr>\\n    <tr>\\n      <th>MAR</th>\\n      <td>Marriott Int\\'l.</td>\\n      <td>Consumer Discretionary</td>\\n    </tr>\\n    <tr>\\n      <th>MMC</th>\\n      <td>Marsh &amp; McLennan</td>\\n      <td>Financials</td>\\n    </tr>\\n    <tr>\\n      <th>MLM</th>\\n      <td>Martin Marietta Materials</td>\\n      <td>Materials</td>\\n    </tr>\\n    <tr>\\n      <th>MAS</th>\\n      <td>Masco Corp.</td>\\n      <td>Industrials</td>\\n    </tr>\\n    <tr>\\n      <th>MA</th>\\n      <td>Mastercard Inc.</td>\\n      <td>Information Technology</td>\\n    </tr>\\n    <tr>\\n      <th>MAT</th>\\n      <td>Mattel Inc.</td>\\n      <td>Consumer Discretionary</td>\\n    </tr>\\n    <tr>\\n      <th>MKC</th>\\n      <td>McCormick &amp; Co.</td>\\n      <td>Consumer Staples</td>\\n    </tr>\\n    <tr>\\n      <th>MCD</th>\\n      <td>McDonald\\'s Corp.</td>\\n      <td>Consumer Discretionary</td>\\n    </tr>\\n    <tr>\\n      <th>MCK</th>\\n      <td>McKesson Corp.</td>\\n      <td>Health Care</td>\\n    </tr>\\n    <tr>\\n      <th>MDT</th>\\n      <td>Medtronic plc</td>\\n      <td>Health Care</td>\\n    </tr>\\n    <tr>\\n      <th>MRK</th>\\n      <td>Merck &amp; Co.</td>\\n      <td>Health Care</td>\\n    </tr>\\n    <tr>\\n      <th>MET</th>\\n      <td>MetLife Inc.</td>\\n      <td>Financials</td>\\n    </tr>\\n    <tr>\\n      <th>MTD</th>\\n      <td>Mettler Toledo</td>\\n      <td>Health Care</td>\\n    </tr>\\n    <tr>\\n      <th>MGM</th>\\n      <td>MGM Resorts International</td>\\n      <td>Consumer Discretionary</td>\\n    </tr>\\n    <tr>\\n      <th>KORS</th>\\n      <td>Michael Kors Holdings</td>\\n      <td>Consumer Discretionary</td>\\n    </tr>\\n    <tr>\\n      <th>MCHP</th>\\n      <td>Microchip Technology</td>\\n      <td>Information Technology</td>\\n    </tr>\\n    <tr>\\n      <th>MU</th>\\n      <td>Micron Technology</td>\\n      <td>Information Technology</td>\\n    </tr>\\n    <tr>\\n      <th>MSFT</th>\\n      <td>Microsoft Corp.</td>\\n      <td>Information Technology</td>\\n    </tr>\\n    <tr>\\n      <th>MAA</th>\\n      <td>Mid-America Apartments</td>\\n      <td>Real Estate</td>\\n    </tr>\\n    <tr>\\n      <th>MHK</th>\\n      <td>Mohawk Industries</td>\\n      <td>Consumer Discretionary</td>\\n    </tr>\\n    <tr>\\n      <th>TAP</th>\\n      <td>Molson Coors Brewing Company</td>\\n      <td>Consumer Staples</td>\\n    </tr>\\n    <tr>\\n      <th>MDLZ</th>\\n      <td>Mondelez International</td>\\n      <td>Consumer Staples</td>\\n    </tr>\\n    <tr>\\n      <th>MON</th>\\n      <td>Monsanto Co.</td>\\n      <td>Materials</td>\\n    </tr>\\n    <tr>\\n      <th>MNST</th>\\n      <td>Monster Beverage</td>\\n      <td>Consumer Staples</td>\\n    </tr>\\n    <tr>\\n      <th>MCO</th>\\n      <td>Moody\\'s Corp</td>\\n      <td>Financials</td>\\n    </tr>\\n    <tr>\\n      <th>MS</th>\\n      <td>Morgan Stanley</td>\\n      <td>Financials</td>\\n    </tr>\\n    <tr>\\n      <th>MSI</th>\\n      <td>Motorola Solutions Inc.</td>\\n      <td>Information Technology</td>\\n    </tr>\\n    <tr>\\n      <th>MYL</th>\\n      <td>Mylan N.V.</td>\\n      <td>Health Care</td>\\n    </tr>\\n    <tr>\\n      <th>NDAQ</th>\\n      <td>Nasdaq, Inc.</td>\\n      <td>Financials</td>\\n    </tr>\\n    <tr>\\n      <th>NOV</th>\\n      <td>National Oilwell Varco Inc.</td>\\n      <td>Energy</td>\\n    </tr>\\n    <tr>\\n      <th>NAVI</th>\\n      <td>Navient</td>\\n      <td>Financials</td>\\n    </tr>\\n    <tr>\\n      <th>NKTR</th>\\n      <td>Nektar Therapeutics</td>\\n      <td>Health Care</td>\\n    </tr>\\n    <tr>\\n      <th>NTAP</th>\\n      <td>NetApp</td>\\n      <td>Information Technology</td>\\n    </tr>\\n    <tr>\\n      <th>NFLX</th>\\n      <td>Netflix Inc.</td>\\n      <td>Information Technology</td>\\n    </tr>\\n    <tr>\\n      <th>NWL</th>\\n      <td>Newell Brands</td>\\n      <td>Consumer Discretionary</td>\\n    </tr>\\n    <tr>\\n      <th>NFX</th>\\n      <td>Newfield Exploration Co</td>\\n      <td>Energy</td>\\n    </tr>\\n    <tr>\\n      <th>NEM</th>\\n      <td>Newmont Mining Corporation</td>\\n      <td>Materials</td>\\n    </tr>\\n    <tr>\\n      <th>NWSA</th>\\n      <td>News Corp. Class A</td>\\n      <td>Consumer Discretionary</td>\\n    </tr>\\n    <tr>\\n      <th>NWS</th>\\n      <td>News Corp. Class B</td>\\n      <td>Consumer Discretionary</td>\\n    </tr>\\n    <tr>\\n      <th>NEE</th>\\n      <td>NextEra Energy</td>\\n      <td>Utilities</td>\\n    </tr>\\n    <tr>\\n      <th>NLSN</th>\\n      <td>Nielsen Holdings</td>\\n      <td>Industrials</td>\\n    </tr>\\n    <tr>\\n      <th>NKE</th>\\n      <td>Nike</td>\\n      <td>Consumer Discretionary</td>\\n    </tr>\\n    <tr>\\n      <th>NI</th>\\n      <td>NiSource Inc.</td>\\n      <td>Utilities</td>\\n    </tr>\\n    <tr>\\n      <th>NBL</th>\\n      <td>Noble Energy Inc</td>\\n      <td>Energy</td>\\n    </tr>\\n    <tr>\\n      <th>JWN</th>\\n      <td>Nordstrom</td>\\n      <td>Consumer Discretionary</td>\\n    </tr>\\n    <tr>\\n      <th>NSC</th>\\n      <td>Norfolk Southern Corp.</td>\\n      <td>Industrials</td>\\n    </tr>\\n    <tr>\\n      <th>NTRS</th>\\n      <td>Northern Trust Corp.</td>\\n      <td>Financials</td>\\n    </tr>\\n    <tr>\\n      <th>NOC</th>\\n      <td>Northrop Grumman Corp.</td>\\n      <td>Industrials</td>\\n    </tr>\\n    <tr>\\n      <th>NCLH</th>\\n      <td>Norwegian Cruise Line</td>\\n      <td>Consumer Discretionary</td>\\n    </tr>\\n    <tr>\\n      <th>NRG</th>\\n      <td>NRG Energy</td>\\n      <td>Utilities</td>\\n    </tr>\\n    <tr>\\n      <th>NUE</th>\\n      <td>Nucor Corp.</td>\\n      <td>Materials</td>\\n    </tr>\\n    <tr>\\n      <th>NVDA</th>\\n      <td>Nvidia Corporation</td>\\n      <td>Information Technology</td>\\n    </tr>\\n    <tr>\\n      <th>ORLY</th>\\n      <td>O\\'Reilly Automotive</td>\\n      <td>Consumer Discretionary</td>\\n    </tr>\\n    <tr>\\n      <th>OXY</th>\\n      <td>Occidental Petroleum</td>\\n      <td>Energy</td>\\n    </tr>\\n    <tr>\\n      <th>OMC</th>\\n      <td>Omnicom Group</td>\\n      <td>Consumer Discretionary</td>\\n    </tr>\\n    <tr>\\n      <th>OKE</th>\\n      <td>ONEOK</td>\\n      <td>Energy</td>\\n    </tr>\\n    <tr>\\n      <th>ORCL</th>\\n      <td>Oracle Corp.</td>\\n      <td>Information Technology</td>\\n    </tr>\\n    <tr>\\n      <th>PCAR</th>\\n      <td>PACCAR Inc.</td>\\n      <td>Industrials</td>\\n    </tr>\\n    <tr>\\n      <th>PKG</th>\\n      <td>Packaging Corporation of America</td>\\n      <td>Materials</td>\\n    </tr>\\n    <tr>\\n      <th>PH</th>\\n      <td>Parker-Hannifin</td>\\n      <td>Industrials</td>\\n    </tr>\\n    <tr>\\n      <th>PAYX</th>\\n      <td>Paychex Inc.</td>\\n      <td>Information Technology</td>\\n    </tr>\\n    <tr>\\n      <th>PYPL</th>\\n      <td>PayPal</td>\\n      <td>Information Technology</td>\\n    </tr>\\n    <tr>\\n      <th>PNR</th>\\n      <td>Pentair Ltd.</td>\\n      <td>Industrials</td>\\n    </tr>\\n    <tr>\\n      <th>PBCT</th>\\n      <td>People\\'s United Financial</td>\\n      <td>Financials</td>\\n    </tr>\\n    <tr>\\n      <th>PEP</th>\\n      <td>PepsiCo Inc.</td>\\n      <td>Consumer Staples</td>\\n    </tr>\\n    <tr>\\n      <th>PKI</th>\\n      <td>PerkinElmer</td>\\n      <td>Health Care</td>\\n    </tr>\\n    <tr>\\n      <th>PRGO</th>\\n      <td>Perrigo</td>\\n      <td>Health Care</td>\\n    </tr>\\n    <tr>\\n      <th>PFE</th>\\n      <td>Pfizer Inc.</td>\\n      <td>Health Care</td>\\n    </tr>\\n    <tr>\\n      <th>PCG</th>\\n      <td>PG&amp;E Corp.</td>\\n      <td>Utilities</td>\\n    </tr>\\n    <tr>\\n      <th>PM</th>\\n      <td>Philip Morris International</td>\\n      <td>Consumer Staples</td>\\n    </tr>\\n    <tr>\\n      <th>PSX</th>\\n      <td>Phillips 66</td>\\n      <td>Energy</td>\\n    </tr>\\n    <tr>\\n      <th>PNW</th>\\n      <td>Pinnacle West Capital</td>\\n      <td>Utilities</td>\\n    </tr>\\n    <tr>\\n      <th>PXD</th>\\n      <td>Pioneer Natural Resources</td>\\n      <td>Energy</td>\\n    </tr>\\n    <tr>\\n      <th>PNC</th>\\n      <td>PNC Financial Services</td>\\n      <td>Financials</td>\\n    </tr>\\n    <tr>\\n      <th>RL</th>\\n      <td>Polo Ralph Lauren Corp.</td>\\n      <td>Consumer Discretionary</td>\\n    </tr>\\n    <tr>\\n      <th>PPG</th>\\n      <td>PPG Industries</td>\\n      <td>Materials</td>\\n    </tr>\\n    <tr>\\n      <th>PPL</th>\\n      <td>PPL Corp.</td>\\n      <td>Utilities</td>\\n    </tr>\\n    <tr>\\n      <th>PX</th>\\n      <td>Praxair Inc.</td>\\n      <td>Materials</td>\\n    </tr>\\n    <tr>\\n      <th>PFG</th>\\n      <td>Principal Financial Group</td>\\n      <td>Financials</td>\\n    </tr>\\n    <tr>\\n      <th>PG</th>\\n      <td>Procter &amp; Gamble</td>\\n      <td>Consumer Staples</td>\\n    </tr>\\n    <tr>\\n      <th>PGR</th>\\n      <td>Progressive Corp.</td>\\n      <td>Financials</td>\\n    </tr>\\n    <tr>\\n      <th>PLD</th>\\n      <td>Prologis</td>\\n      <td>Real Estate</td>\\n    </tr>\\n    <tr>\\n      <th>PRU</th>\\n      <td>Prudential Financial</td>\\n      <td>Financials</td>\\n    </tr>\\n    <tr>\\n      <th>PEG</th>\\n      <td>Public Serv. Enterprise Inc.</td>\\n      <td>Utilities</td>\\n    </tr>\\n    <tr>\\n      <th>PSA</th>\\n      <td>Public Storage</td>\\n      <td>Real Estate</td>\\n    </tr>\\n    <tr>\\n      <th>PHM</th>\\n      <td>Pulte Homes Inc.</td>\\n      <td>Consumer Discretionary</td>\\n    </tr>\\n    <tr>\\n      <th>PVH</th>\\n      <td>PVH Corp.</td>\\n      <td>Consumer Discretionary</td>\\n    </tr>\\n    <tr>\\n      <th>QRVO</th>\\n      <td>Qorvo</td>\\n      <td>Information Technology</td>\\n    </tr>\\n    <tr>\\n      <th>QCOM</th>\\n      <td>QUALCOMM Inc.</td>\\n      <td>Information Technology</td>\\n    </tr>\\n    <tr>\\n      <th>PWR</th>\\n      <td>Quanta Services Inc.</td>\\n      <td>Industrials</td>\\n    </tr>\\n    <tr>\\n      <th>DGX</th>\\n      <td>Quest Diagnostics</td>\\n      <td>Health Care</td>\\n    </tr>\\n    <tr>\\n      <th>RRC</th>\\n      <td>Range Resources Corp.</td>\\n      <td>Energy</td>\\n    </tr>\\n    <tr>\\n      <th>RJF</th>\\n      <td>Raymond James Financial Inc.</td>\\n      <td>Financials</td>\\n    </tr>\\n    <tr>\\n      <th>RTN</th>\\n      <td>Raytheon Co.</td>\\n      <td>Industrials</td>\\n    </tr>\\n    <tr>\\n      <th>O</th>\\n      <td>Realty Income Corporation</td>\\n      <td>Real Estate</td>\\n    </tr>\\n    <tr>\\n      <th>RHT</th>\\n      <td>Red Hat Inc.</td>\\n      <td>Information Technology</td>\\n    </tr>\\n    <tr>\\n      <th>REG</th>\\n      <td>Regency Centers Corporation</td>\\n      <td>Real Estate</td>\\n    </tr>\\n    <tr>\\n      <th>REGN</th>\\n      <td>Regeneron</td>\\n      <td>Health Care</td>\\n    </tr>\\n    <tr>\\n      <th>RF</th>\\n      <td>Regions Financial Corp.</td>\\n      <td>Financials</td>\\n    </tr>\\n    <tr>\\n      <th>RSG</th>\\n      <td>Republic Services Inc</td>\\n      <td>Industrials</td>\\n    </tr>\\n    <tr>\\n      <th>RMD</th>\\n      <td>ResMed</td>\\n      <td>Health Care</td>\\n    </tr>\\n    <tr>\\n      <th>RHI</th>\\n      <td>Robert Half International</td>\\n      <td>Industrials</td>\\n    </tr>\\n    <tr>\\n      <th>ROK</th>\\n      <td>Rockwell Automation Inc.</td>\\n      <td>Industrials</td>\\n    </tr>\\n    <tr>\\n      <th>COL</th>\\n      <td>Rockwell Collins</td>\\n      <td>Industrials</td>\\n    </tr>\\n    <tr>\\n      <th>ROP</th>\\n      <td>Roper Technologies</td>\\n      <td>Industrials</td>\\n    </tr>\\n    <tr>\\n      <th>ROST</th>\\n      <td>Ross Stores</td>\\n      <td>Consumer Discretionary</td>\\n    </tr>\\n    <tr>\\n      <th>RCL</th>\\n      <td>Royal Caribbean Cruises Ltd</td>\\n      <td>Consumer Discretionary</td>\\n    </tr>\\n    <tr>\\n      <th>SPGI</th>\\n      <td>S&amp;P Global, Inc.</td>\\n      <td>Financials</td>\\n    </tr>\\n    <tr>\\n      <th>CRM</th>\\n      <td>Salesforce.com</td>\\n      <td>Information Technology</td>\\n    </tr>\\n    <tr>\\n      <th>SBAC</th>\\n      <td>SBA Communications</td>\\n      <td>Real Estate</td>\\n    </tr>\\n    <tr>\\n      <th>SCG</th>\\n      <td>SCANA Corp</td>\\n      <td>Utilities</td>\\n    </tr>\\n    <tr>\\n      <th>SLB</th>\\n      <td>Schlumberger Ltd.</td>\\n      <td>Energy</td>\\n    </tr>\\n    <tr>\\n      <th>STX</th>\\n      <td>Seagate Technology</td>\\n      <td>Information Technology</td>\\n    </tr>\\n    <tr>\\n      <th>SEE</th>\\n      <td>Sealed Air</td>\\n      <td>Materials</td>\\n    </tr>\\n    <tr>\\n      <th>SRE</th>\\n      <td>Sempra Energy</td>\\n      <td>Utilities</td>\\n    </tr>\\n    <tr>\\n      <th>SHW</th>\\n      <td>Sherwin-Williams</td>\\n      <td>Materials</td>\\n    </tr>\\n    <tr>\\n      <th>SPG</th>\\n      <td>Simon Property Group Inc</td>\\n      <td>Real Estate</td>\\n    </tr>\\n    <tr>\\n      <th>SWKS</th>\\n      <td>Skyworks Solutions</td>\\n      <td>Information Technology</td>\\n    </tr>\\n    <tr>\\n      <th>SLG</th>\\n      <td>SL Green Realty</td>\\n      <td>Real Estate</td>\\n    </tr>\\n    <tr>\\n      <th>SNA</th>\\n      <td>Snap-On Inc.</td>\\n      <td>Consumer Discretionary</td>\\n    </tr>\\n    <tr>\\n      <th>SO</th>\\n      <td>Southern Co.</td>\\n      <td>Utilities</td>\\n    </tr>\\n    <tr>\\n      <th>LUV</th>\\n      <td>Southwest Airlines</td>\\n      <td>Industrials</td>\\n    </tr>\\n    <tr>\\n      <th>SWK</th>\\n      <td>Stanley Black &amp; Decker</td>\\n      <td>Consumer Discretionary</td>\\n    </tr>\\n    <tr>\\n      <th>SBUX</th>\\n      <td>Starbucks Corp.</td>\\n      <td>Consumer Discretionary</td>\\n    </tr>\\n    <tr>\\n      <th>STT</th>\\n      <td>State Street Corp.</td>\\n      <td>Financials</td>\\n    </tr>\\n    <tr>\\n      <th>SRCL</th>\\n      <td>Stericycle Inc</td>\\n      <td>Industrials</td>\\n    </tr>\\n    <tr>\\n      <th>SYK</th>\\n      <td>Stryker Corp.</td>\\n      <td>Health Care</td>\\n    </tr>\\n    <tr>\\n      <th>STI</th>\\n      <td>SunTrust Banks</td>\\n      <td>Financials</td>\\n    </tr>\\n    <tr>\\n      <th>SIVB</th>\\n      <td>SVB Financial</td>\\n      <td>Financials</td>\\n    </tr>\\n    <tr>\\n      <th>SYMC</th>\\n      <td>Symantec Corp.</td>\\n      <td>Information Technology</td>\\n    </tr>\\n    <tr>\\n      <th>SYF</th>\\n      <td>Synchrony Financial</td>\\n      <td>Financials</td>\\n    </tr>\\n    <tr>\\n      <th>SNPS</th>\\n      <td>Synopsys Inc.</td>\\n      <td>Information Technology</td>\\n    </tr>\\n    <tr>\\n      <th>SYY</th>\\n      <td>Sysco Corp.</td>\\n      <td>Consumer Staples</td>\\n    </tr>\\n    <tr>\\n      <th>TROW</th>\\n      <td>T. Rowe Price Group</td>\\n      <td>Financials</td>\\n    </tr>\\n    <tr>\\n      <th>TTWO</th>\\n      <td>Take-Two Interactive</td>\\n      <td>Information Technology</td>\\n    </tr>\\n    <tr>\\n      <th>TPR</th>\\n      <td>Tapestry, Inc.</td>\\n      <td>Consumer Discretionary</td>\\n    </tr>\\n    <tr>\\n      <th>TGT</th>\\n      <td>Target Corp.</td>\\n      <td>Consumer Discretionary</td>\\n    </tr>\\n    <tr>\\n      <th>TEL</th>\\n      <td>TE Connectivity Ltd.</td>\\n      <td>Information Technology</td>\\n    </tr>\\n    <tr>\\n      <th>FTI</th>\\n      <td>TechnipFMC</td>\\n      <td>Energy</td>\\n    </tr>\\n    <tr>\\n      <th>TXN</th>\\n      <td>Texas Instruments</td>\\n      <td>Information Technology</td>\\n    </tr>\\n    <tr>\\n      <th>TXT</th>\\n      <td>Textron Inc.</td>\\n      <td>Industrials</td>\\n    </tr>\\n    <tr>\\n      <th>BK</th>\\n      <td>The Bank of New York Mellon Corp.</td>\\n      <td>Financials</td>\\n    </tr>\\n    <tr>\\n      <th>CLX</th>\\n      <td>The Clorox Company</td>\\n      <td>Consumer Staples</td>\\n    </tr>\\n    <tr>\\n      <th>COO</th>\\n      <td>The Cooper Companies</td>\\n      <td>Health Care</td>\\n    </tr>\\n    <tr>\\n      <th>HSY</th>\\n      <td>The Hershey Company</td>\\n      <td>Consumer Staples</td>\\n    </tr>\\n    <tr>\\n      <th>MOS</th>\\n      <td>The Mosaic Company</td>\\n      <td>Materials</td>\\n    </tr>\\n    <tr>\\n      <th>TRV</th>\\n      <td>The Travelers Companies Inc.</td>\\n      <td>Financials</td>\\n    </tr>\\n    <tr>\\n      <th>DIS</th>\\n      <td>The Walt Disney Company</td>\\n      <td>Consumer Discretionary</td>\\n    </tr>\\n    <tr>\\n      <th>TMO</th>\\n      <td>Thermo Fisher Scientific</td>\\n      <td>Health Care</td>\\n    </tr>\\n    <tr>\\n      <th>TIF</th>\\n      <td>Tiffany &amp; Co.</td>\\n      <td>Consumer Discretionary</td>\\n    </tr>\\n    <tr>\\n      <th>TWX</th>\\n      <td>Time Warner Inc.</td>\\n      <td>Consumer Discretionary</td>\\n    </tr>\\n    <tr>\\n      <th>TJX</th>\\n      <td>TJX Companies Inc.</td>\\n      <td>Consumer Discretionary</td>\\n    </tr>\\n    <tr>\\n      <th>TMK</th>\\n      <td>Torchmark Corp.</td>\\n      <td>Financials</td>\\n    </tr>\\n    <tr>\\n      <th>TSS</th>\\n      <td>Total System Services</td>\\n      <td>Information Technology</td>\\n    </tr>\\n    <tr>\\n      <th>TSCO</th>\\n      <td>Tractor Supply Company</td>\\n      <td>Consumer Discretionary</td>\\n    </tr>\\n    <tr>\\n      <th>TDG</th>\\n      <td>TransDigm Group</td>\\n      <td>Industrials</td>\\n    </tr>\\n    <tr>\\n      <th>TRIP</th>\\n      <td>TripAdvisor</td>\\n      <td>Consumer Discretionary</td>\\n    </tr>\\n    <tr>\\n      <th>FOXA</th>\\n      <td>Twenty-First Century Fox Class A</td>\\n      <td>Consumer Discretionary</td>\\n    </tr>\\n    <tr>\\n      <th>FOX</th>\\n      <td>Twenty-First Century Fox Class B</td>\\n      <td>Consumer Discretionary</td>\\n    </tr>\\n    <tr>\\n      <th>TSN</th>\\n      <td>Tyson Foods</td>\\n      <td>Consumer Staples</td>\\n    </tr>\\n    <tr>\\n      <th>USB</th>\\n      <td>U.S. Bancorp</td>\\n      <td>Financials</td>\\n    </tr>\\n    <tr>\\n      <th>UDR</th>\\n      <td>UDR Inc</td>\\n      <td>Real Estate</td>\\n    </tr>\\n    <tr>\\n      <th>ULTA</th>\\n      <td>Ulta Beauty</td>\\n      <td>Consumer Discretionary</td>\\n    </tr>\\n    <tr>\\n      <th>UAA</th>\\n      <td>Under Armour Class A</td>\\n      <td>Consumer Discretionary</td>\\n    </tr>\\n    <tr>\\n      <th>UA</th>\\n      <td>Under Armour Class C</td>\\n      <td>Consumer Discretionary</td>\\n    </tr>\\n    <tr>\\n      <th>UNP</th>\\n      <td>Union Pacific</td>\\n      <td>Industrials</td>\\n    </tr>\\n    <tr>\\n      <th>UAL</th>\\n      <td>United Continental Holdings</td>\\n      <td>Industrials</td>\\n    </tr>\\n    <tr>\\n      <th>UNH</th>\\n      <td>United Health Group Inc.</td>\\n      <td>Health Care</td>\\n    </tr>\\n    <tr>\\n      <th>UPS</th>\\n      <td>United Parcel Service</td>\\n      <td>Industrials</td>\\n    </tr>\\n    <tr>\\n      <th>URI</th>\\n      <td>United Rentals, Inc.</td>\\n      <td>Industrials</td>\\n    </tr>\\n    <tr>\\n      <th>UTX</th>\\n      <td>United Technologies</td>\\n      <td>Industrials</td>\\n    </tr>\\n    <tr>\\n      <th>UHS</th>\\n      <td>Universal Health Services, Inc.</td>\\n      <td>Health Care</td>\\n    </tr>\\n    <tr>\\n      <th>UNM</th>\\n      <td>Unum Group</td>\\n      <td>Financials</td>\\n    </tr>\\n    <tr>\\n      <th>VFC</th>\\n      <td>V.F. Corp.</td>\\n      <td>Consumer Discretionary</td>\\n    </tr>\\n    <tr>\\n      <th>VLO</th>\\n      <td>Valero Energy</td>\\n      <td>Energy</td>\\n    </tr>\\n    <tr>\\n      <th>VAR</th>\\n      <td>Varian Medical Systems</td>\\n      <td>Health Care</td>\\n    </tr>\\n    <tr>\\n      <th>VTR</th>\\n      <td>Ventas Inc</td>\\n      <td>Real Estate</td>\\n    </tr>\\n    <tr>\\n      <th>VRSN</th>\\n      <td>Verisign Inc.</td>\\n      <td>Information Technology</td>\\n    </tr>\\n    <tr>\\n      <th>VRSK</th>\\n      <td>Verisk Analytics</td>\\n      <td>Industrials</td>\\n    </tr>\\n    <tr>\\n      <th>VZ</th>\\n      <td>Verizon Communications</td>\\n      <td>Telecommunication Services</td>\\n    </tr>\\n    <tr>\\n      <th>VRTX</th>\\n      <td>Vertex Pharmaceuticals Inc</td>\\n      <td>Health Care</td>\\n    </tr>\\n    <tr>\\n      <th>VIAB</th>\\n      <td>Viacom Inc.</td>\\n      <td>Consumer Discretionary</td>\\n    </tr>\\n    <tr>\\n      <th>V</th>\\n      <td>Visa Inc.</td>\\n      <td>Information Technology</td>\\n    </tr>\\n    <tr>\\n      <th>VNO</th>\\n      <td>Vornado Realty Trust</td>\\n      <td>Real Estate</td>\\n    </tr>\\n    <tr>\\n      <th>VMC</th>\\n      <td>Vulcan Materials</td>\\n      <td>Materials</td>\\n    </tr>\\n    <tr>\\n      <th>WMT</th>\\n      <td>Wal-Mart Stores</td>\\n      <td>Consumer Staples</td>\\n    </tr>\\n    <tr>\\n      <th>WBA</th>\\n      <td>Walgreens Boots Alliance</td>\\n      <td>Consumer Staples</td>\\n    </tr>\\n    <tr>\\n      <th>WM</th>\\n      <td>Waste Management Inc.</td>\\n      <td>Industrials</td>\\n    </tr>\\n    <tr>\\n      <th>WAT</th>\\n      <td>Waters Corporation</td>\\n      <td>Health Care</td>\\n    </tr>\\n    <tr>\\n      <th>WEC</th>\\n      <td>Wec Energy Group Inc</td>\\n      <td>Utilities</td>\\n    </tr>\\n    <tr>\\n      <th>WFC</th>\\n      <td>Wells Fargo</td>\\n      <td>Financials</td>\\n    </tr>\\n    <tr>\\n      <th>WELL</th>\\n      <td>Welltower Inc.</td>\\n      <td>Real Estate</td>\\n    </tr>\\n    <tr>\\n      <th>WDC</th>\\n      <td>Western Digital</td>\\n      <td>Information Technology</td>\\n    </tr>\\n    <tr>\\n      <th>WU</th>\\n      <td>Western Union Co</td>\\n      <td>Information Technology</td>\\n    </tr>\\n    <tr>\\n      <th>WRK</th>\\n      <td>WestRock Company</td>\\n      <td>Materials</td>\\n    </tr>\\n    <tr>\\n      <th>WY</th>\\n      <td>Weyerhaeuser Corp.</td>\\n      <td>Real Estate</td>\\n    </tr>\\n    <tr>\\n      <th>WHR</th>\\n      <td>Whirlpool Corp.</td>\\n      <td>Consumer Discretionary</td>\\n    </tr>\\n    <tr>\\n      <th>WMB</th>\\n      <td>Williams Cos.</td>\\n      <td>Energy</td>\\n    </tr>\\n    <tr>\\n      <th>WLTW</th>\\n      <td>Willis Towers Watson</td>\\n      <td>Financials</td>\\n    </tr>\\n    <tr>\\n      <th>WYN</th>\\n      <td>Wyndham Worldwide</td>\\n      <td>Consumer Discretionary</td>\\n    </tr>\\n    <tr>\\n      <th>WYNN</th>\\n      <td>Wynn Resorts Ltd</td>\\n      <td>Consumer Discretionary</td>\\n    </tr>\\n    <tr>\\n      <th>XEL</th>\\n      <td>Xcel Energy Inc</td>\\n      <td>Utilities</td>\\n    </tr>\\n    <tr>\\n      <th>XRX</th>\\n      <td>Xerox Corp.</td>\\n      <td>Information Technology</td>\\n    </tr>\\n    <tr>\\n      <th>XLNX</th>\\n      <td>Xilinx Inc</td>\\n      <td>Information Technology</td>\\n    </tr>\\n    <tr>\\n      <th>XL</th>\\n      <td>XL Capital</td>\\n      <td>Financials</td>\\n    </tr>\\n    <tr>\\n      <th>XYL</th>\\n      <td>Xylem Inc.</td>\\n      <td>Industrials</td>\\n    </tr>\\n    <tr>\\n      <th>YUM</th>\\n      <td>Yum! Brands Inc</td>\\n      <td>Consumer Discretionary</td>\\n    </tr>\\n    <tr>\\n      <th>ZBH</th>\\n      <td>Zimmer Biomet Holdings</td>\\n      <td>Health Care</td>\\n    </tr>\\n    <tr>\\n      <th>ZION</th>\\n      <td>Zions Bancorp</td>\\n      <td>Financials</td>\\n    </tr>\\n    <tr>\\n      <th>ZTS</th>\\n      <td>Zoetis</td>\\n      <td>Health Care</td>\\n    </tr>\\n  </tbody>\\n</table>'"
      ]
     },
     "execution_count": 36,
     "metadata": {},
     "output_type": "execute_result"
    }
   ],
   "source": [
    "top500_html =top500_df.to_html()\n",
    "top500_html"
   ]
  },
  {
   "cell_type": "code",
   "execution_count": 37,
   "metadata": {},
   "outputs": [
    {
     "data": {
      "text/plain": [
       "str"
      ]
     },
     "execution_count": 37,
     "metadata": {},
     "output_type": "execute_result"
    }
   ],
   "source": [
    "type(top500_html"
   ]
  },
  {
   "cell_type": "code",
   "execution_count": 40,
   "metadata": {},
   "outputs": [
    {
     "data": {
      "text/plain": [
       "'<table border=\"1\" class=\"dataframe\">  <thead>    <tr style=\"text-align: right;\">      <th></th>      <th>Name</th>      <th>Sector</th>    </tr>    <tr>      <th>Symbol</th>      <th></th>      <th></th>    </tr>  </thead>  <tbody>    <tr>      <th>MMM</th>      <td>3M Company</td>      <td>Industrials</td>    </tr>    <tr>      <th>AOS</th>      <td>A.O. Smith Corp</td>      <td>Industrials</td>    </tr>    <tr>      <th>ABT</th>      <td>Abbott Laboratories</td>      <td>Health Care</td>    </tr>    <tr>      <th>ABBV</th>      <td>AbbVie Inc.</td>      <td>Health Care</td>    </tr>    <tr>      <th>ACN</th>      <td>Accenture plc</td>      <td>Information Technology</td>    </tr>    <tr>      <th>ATVI</th>      <td>Activision Blizzard</td>      <td>Information Technology</td>    </tr>    <tr>      <th>AYI</th>      <td>Acuity Brands Inc</td>      <td>Industrials</td>    </tr>    <tr>      <th>ADBE</th>      <td>Adobe Systems Inc</td>      <td>Information Technology</td>    </tr>    <tr>      <th>AAP</th>      <td>Advance Auto Parts</td>      <td>Consumer Discretionary</td>    </tr>    <tr>      <th>AMD</th>      <td>Advanced Micro Devices Inc</td>      <td>Information Technology</td>    </tr>    <tr>      <th>AES</th>      <td>AES Corp</td>      <td>Utilities</td>    </tr>    <tr>      <th>AET</th>      <td>Aetna Inc</td>      <td>Health Care</td>    </tr>    <tr>      <th>AMG</th>      <td>Affiliated Managers Group Inc</td>      <td>Financials</td>    </tr>    <tr>      <th>AFL</th>      <td>AFLAC Inc</td>      <td>Financials</td>    </tr>    <tr>      <th>A</th>      <td>Agilent Technologies Inc</td>      <td>Health Care</td>    </tr>    <tr>      <th>APD</th>      <td>Air Products &amp; Chemicals Inc</td>      <td>Materials</td>    </tr>    <tr>      <th>AKAM</th>      <td>Akamai Technologies Inc</td>      <td>Information Technology</td>    </tr>    <tr>      <th>ALK</th>      <td>Alaska Air Group Inc</td>      <td>Industrials</td>    </tr>    <tr>      <th>ALB</th>      <td>Albemarle Corp</td>      <td>Materials</td>    </tr>    <tr>      <th>ARE</th>      <td>Alexandria Real Estate Equities Inc</td>      <td>Real Estate</td>    </tr>    <tr>      <th>ALXN</th>      <td>Alexion Pharmaceuticals</td>      <td>Health Care</td>    </tr>    <tr>      <th>ALGN</th>      <td>Align Technology</td>      <td>Health Care</td>    </tr>    <tr>      <th>ALLE</th>      <td>Allegion</td>      <td>Industrials</td>    </tr>    <tr>      <th>AGN</th>      <td>Allergan, Plc</td>      <td>Health Care</td>    </tr>    <tr>      <th>ADS</th>      <td>Alliance Data Systems</td>      <td>Information Technology</td>    </tr>    <tr>      <th>LNT</th>      <td>Alliant Energy Corp</td>      <td>Utilities</td>    </tr>    <tr>      <th>ALL</th>      <td>Allstate Corp</td>      <td>Financials</td>    </tr>    <tr>      <th>GOOGL</th>      <td>Alphabet Inc Class A</td>      <td>Information Technology</td>    </tr>    <tr>      <th>GOOG</th>      <td>Alphabet Inc Class C</td>      <td>Information Technology</td>    </tr>    <tr>      <th>MO</th>      <td>Altria Group Inc</td>      <td>Consumer Staples</td>    </tr>    <tr>      <th>AMZN</th>      <td>Amazon.com Inc.</td>      <td>Consumer Discretionary</td>    </tr>    <tr>      <th>AEE</th>      <td>Ameren Corp</td>      <td>Utilities</td>    </tr>    <tr>      <th>AAL</th>      <td>American Airlines Group</td>      <td>Industrials</td>    </tr>    <tr>      <th>AEP</th>      <td>American Electric Power</td>      <td>Utilities</td>    </tr>    <tr>      <th>AXP</th>      <td>American Express Co</td>      <td>Financials</td>    </tr>    <tr>      <th>AIG</th>      <td>American International Group, Inc.</td>      <td>Financials</td>    </tr>    <tr>      <th>AMT</th>      <td>American Tower Corp A</td>      <td>Real Estate</td>    </tr>    <tr>      <th>AWK</th>      <td>American Water Works Company Inc</td>      <td>Utilities</td>    </tr>    <tr>      <th>AMP</th>      <td>Ameriprise Financial</td>      <td>Financials</td>    </tr>    <tr>      <th>ABC</th>      <td>AmerisourceBergen Corp</td>      <td>Health Care</td>    </tr>    <tr>      <th>AME</th>      <td>AMETEK Inc.</td>      <td>Industrials</td>    </tr>    <tr>      <th>AMGN</th>      <td>Amgen Inc.</td>      <td>Health Care</td>    </tr>    <tr>      <th>APH</th>      <td>Amphenol Corp</td>      <td>Information Technology</td>    </tr>    <tr>      <th>APC</th>      <td>Anadarko Petroleum Corp</td>      <td>Energy</td>    </tr>    <tr>      <th>ADI</th>      <td>Analog Devices, Inc.</td>      <td>Information Technology</td>    </tr>    <tr>      <th>ANDV</th>      <td>Andeavor</td>      <td>Energy</td>    </tr>    <tr>      <th>ANSS</th>      <td>ANSYS</td>      <td>Information Technology</td>    </tr>    <tr>      <th>ANTM</th>      <td>Anthem Inc.</td>      <td>Health Care</td>    </tr>    <tr>      <th>AON</th>      <td>Aon plc</td>      <td>Financials</td>    </tr>    <tr>      <th>APA</th>      <td>Apache Corporation</td>      <td>Energy</td>    </tr>    <tr>      <th>AIV</th>      <td>Apartment Investment &amp; Management</td>      <td>Real Estate</td>    </tr>    <tr>      <th>AAPL</th>      <td>Apple Inc.</td>      <td>Information Technology</td>    </tr>    <tr>      <th>AMAT</th>      <td>Applied Materials Inc.</td>      <td>Information Technology</td>    </tr>    <tr>      <th>APTV</th>      <td>Aptiv Plc</td>      <td>Consumer Discretionary</td>    </tr>    <tr>      <th>ADM</th>      <td>Archer-Daniels-Midland Co</td>      <td>Consumer Staples</td>    </tr>    <tr>      <th>ARNC</th>      <td>Arconic Inc.</td>      <td>Industrials</td>    </tr>    <tr>      <th>AJG</th>      <td>Arthur J. Gallagher &amp; Co.</td>      <td>Financials</td>    </tr>    <tr>      <th>AIZ</th>      <td>Assurant Inc.</td>      <td>Financials</td>    </tr>    <tr>      <th>T</th>      <td>AT&amp;T Inc.</td>      <td>Telecommunication Services</td>    </tr>    <tr>      <th>ADSK</th>      <td>Autodesk Inc.</td>      <td>Information Technology</td>    </tr>    <tr>      <th>ADP</th>      <td>Automatic Data Processing</td>      <td>Information Technology</td>    </tr>    <tr>      <th>AZO</th>      <td>AutoZone Inc</td>      <td>Consumer Discretionary</td>    </tr>    <tr>      <th>AVB</th>      <td>AvalonBay Communities, Inc.</td>      <td>Real Estate</td>    </tr>    <tr>      <th>AVY</th>      <td>Avery Dennison Corp</td>      <td>Materials</td>    </tr>    <tr>      <th>BHGE</th>      <td>Baker Hughes, a GE Company</td>      <td>Energy</td>    </tr>    <tr>      <th>BLL</th>      <td>Ball Corp</td>      <td>Materials</td>    </tr>    <tr>      <th>BAC</th>      <td>Bank of America Corp</td>      <td>Financials</td>    </tr>    <tr>      <th>BAX</th>      <td>Baxter International Inc.</td>      <td>Health Care</td>    </tr>    <tr>      <th>BBT</th>      <td>BB&amp;T Corporation</td>      <td>Financials</td>    </tr>    <tr>      <th>BDX</th>      <td>Becton Dickinson</td>      <td>Health Care</td>    </tr>    <tr>      <th>BRK.B</th>      <td>Berkshire Hathaway</td>      <td>Financials</td>    </tr>    <tr>      <th>BBY</th>      <td>Best Buy Co. Inc.</td>      <td>Consumer Discretionary</td>    </tr>    <tr>      <th>BIIB</th>      <td>Biogen Inc.</td>      <td>Health Care</td>    </tr>    <tr>      <th>BLK</th>      <td>BlackRock</td>      <td>Financials</td>    </tr>    <tr>      <th>HRB</th>      <td>Block H&amp;R</td>      <td>Financials</td>    </tr>    <tr>      <th>BA</th>      <td>Boeing Company</td>      <td>Industrials</td>    </tr>    <tr>      <th>BKNG</th>      <td>Booking Holdings Inc</td>      <td>Consumer Discretionary</td>    </tr>    <tr>      <th>BWA</th>      <td>BorgWarner</td>      <td>Consumer Discretionary</td>    </tr>    <tr>      <th>BXP</th>      <td>Boston Properties</td>      <td>Real Estate</td>    </tr>    <tr>      <th>BSX</th>      <td>Boston Scientific</td>      <td>Health Care</td>    </tr>    <tr>      <th>BHF</th>      <td>Brighthouse Financial Inc</td>      <td>Financials</td>    </tr>    <tr>      <th>BMY</th>      <td>Bristol-Myers Squibb</td>      <td>Health Care</td>    </tr>    <tr>      <th>AVGO</th>      <td>Broadcom</td>      <td>Information Technology</td>    </tr>    <tr>      <th>BF.B</th>      <td>Brown-Forman Corp.</td>      <td>Consumer Staples</td>    </tr>    <tr>      <th>CHRW</th>      <td>C. H. Robinson Worldwide</td>      <td>Industrials</td>    </tr>    <tr>      <th>CA</th>      <td>CA, Inc.</td>      <td>Information Technology</td>    </tr>    <tr>      <th>COG</th>      <td>Cabot Oil &amp; Gas</td>      <td>Energy</td>    </tr>    <tr>      <th>CDNS</th>      <td>Cadence Design Systems</td>      <td>Information Technology</td>    </tr>    <tr>      <th>CPB</th>      <td>Campbell Soup</td>      <td>Consumer Staples</td>    </tr>    <tr>      <th>COF</th>      <td>Capital One Financial</td>      <td>Financials</td>    </tr>    <tr>      <th>CAH</th>      <td>Cardinal Health Inc.</td>      <td>Health Care</td>    </tr>    <tr>      <th>KMX</th>      <td>Carmax Inc</td>      <td>Consumer Discretionary</td>    </tr>    <tr>      <th>CCL</th>      <td>Carnival Corp.</td>      <td>Consumer Discretionary</td>    </tr>    <tr>      <th>CAT</th>      <td>Caterpillar Inc.</td>      <td>Industrials</td>    </tr>    <tr>      <th>CBOE</th>      <td>Cboe Global Markets</td>      <td>Financials</td>    </tr>    <tr>      <th>CBRE</th>      <td>CBRE Group</td>      <td>Real Estate</td>    </tr>    <tr>      <th>CBS</th>      <td>CBS Corp.</td>      <td>Consumer Discretionary</td>    </tr>    <tr>      <th>CELG</th>      <td>Celgene Corp.</td>      <td>Health Care</td>    </tr>    <tr>      <th>CNC</th>      <td>Centene Corporation</td>      <td>Health Care</td>    </tr>    <tr>      <th>CNP</th>      <td>CenterPoint Energy</td>      <td>Utilities</td>    </tr>    <tr>      <th>CTL</th>      <td>CenturyLink Inc</td>      <td>Telecommunication Services</td>    </tr>    <tr>      <th>CERN</th>      <td>Cerner</td>      <td>Health Care</td>    </tr>    <tr>      <th>CF</th>      <td>CF Industries Holdings Inc</td>      <td>Materials</td>    </tr>    <tr>      <th>SCHW</th>      <td>Charles Schwab Corporation</td>      <td>Financials</td>    </tr>    <tr>      <th>CHTR</th>      <td>Charter Communications</td>      <td>Consumer Discretionary</td>    </tr>    <tr>      <th>CVX</th>      <td>Chevron Corp.</td>      <td>Energy</td>    </tr>    <tr>      <th>CMG</th>      <td>Chipotle Mexican Grill</td>      <td>Consumer Discretionary</td>    </tr>    <tr>      <th>CB</th>      <td>Chubb Limited</td>      <td>Financials</td>    </tr>    <tr>      <th>CHD</th>      <td>Church &amp; Dwight</td>      <td>Consumer Staples</td>    </tr>    <tr>      <th>CI</th>      <td>CIGNA Corp.</td>      <td>Health Care</td>    </tr>    <tr>      <th>XEC</th>      <td>Cimarex Energy</td>      <td>Energy</td>    </tr>    <tr>      <th>CINF</th>      <td>Cincinnati Financial</td>      <td>Financials</td>    </tr>    <tr>      <th>CTAS</th>      <td>Cintas Corporation</td>      <td>Industrials</td>    </tr>    <tr>      <th>CSCO</th>      <td>Cisco Systems</td>      <td>Information Technology</td>    </tr>    <tr>      <th>C</th>      <td>Citigroup Inc.</td>      <td>Financials</td>    </tr>    <tr>      <th>CFG</th>      <td>Citizens Financial Group</td>      <td>Financials</td>    </tr>    <tr>      <th>CTXS</th>      <td>Citrix Systems</td>      <td>Information Technology</td>    </tr>    <tr>      <th>CME</th>      <td>CME Group Inc.</td>      <td>Financials</td>    </tr>    <tr>      <th>CMS</th>      <td>CMS Energy</td>      <td>Utilities</td>    </tr>    <tr>      <th>KO</th>      <td>Coca-Cola Company (The)</td>      <td>Consumer Staples</td>    </tr>    <tr>      <th>CTSH</th>      <td>Cognizant Technology Solutions</td>      <td>Information Technology</td>    </tr>    <tr>      <th>CL</th>      <td>Colgate-Palmolive</td>      <td>Consumer Staples</td>    </tr>    <tr>      <th>CMCSA</th>      <td>Comcast Corp.</td>      <td>Consumer Discretionary</td>    </tr>    <tr>      <th>CMA</th>      <td>Comerica Inc.</td>      <td>Financials</td>    </tr>    <tr>      <th>CAG</th>      <td>Conagra Brands</td>      <td>Consumer Staples</td>    </tr>    <tr>      <th>CXO</th>      <td>Concho Resources</td>      <td>Energy</td>    </tr>    <tr>      <th>COP</th>      <td>ConocoPhillips</td>      <td>Energy</td>    </tr>    <tr>      <th>ED</th>      <td>Consolidated Edison</td>      <td>Utilities</td>    </tr>    <tr>      <th>STZ</th>      <td>Constellation Brands</td>      <td>Consumer Staples</td>    </tr>    <tr>      <th>GLW</th>      <td>Corning Inc.</td>      <td>Information Technology</td>    </tr>    <tr>      <th>COST</th>      <td>Costco Wholesale Corp.</td>      <td>Consumer Staples</td>    </tr>    <tr>      <th>COTY</th>      <td>Coty, Inc</td>      <td>Consumer Staples</td>    </tr>    <tr>      <th>CCI</th>      <td>Crown Castle International Corp.</td>      <td>Real Estate</td>    </tr>    <tr>      <th>CSRA</th>      <td>CSRA Inc.</td>      <td>Information Technology</td>    </tr>    <tr>      <th>CSX</th>      <td>CSX Corp.</td>      <td>Industrials</td>    </tr>    <tr>      <th>CMI</th>      <td>Cummins Inc.</td>      <td>Industrials</td>    </tr>    <tr>      <th>CVS</th>      <td>CVS Health</td>      <td>Consumer Staples</td>    </tr>    <tr>      <th>DHI</th>      <td>D. R. Horton</td>      <td>Consumer Discretionary</td>    </tr>    <tr>      <th>DHR</th>      <td>Danaher Corp.</td>      <td>Health Care</td>    </tr>    <tr>      <th>DRI</th>      <td>Darden Restaurants</td>      <td>Consumer Discretionary</td>    </tr>    <tr>      <th>DVA</th>      <td>DaVita Inc.</td>      <td>Health Care</td>    </tr>    <tr>      <th>DE</th>      <td>Deere &amp; Co.</td>      <td>Industrials</td>    </tr>    <tr>      <th>DAL</th>      <td>Delta Air Lines Inc.</td>      <td>Industrials</td>    </tr>    <tr>      <th>XRAY</th>      <td>Dentsply Sirona</td>      <td>Health Care</td>    </tr>    <tr>      <th>DVN</th>      <td>Devon Energy Corp.</td>      <td>Energy</td>    </tr>    <tr>      <th>DLR</th>      <td>Digital Realty Trust Inc</td>      <td>Real Estate</td>    </tr>    <tr>      <th>DFS</th>      <td>Discover Financial Services</td>      <td>Financials</td>    </tr>    <tr>      <th>DISCA</th>      <td>Discovery Inc. Class A</td>      <td>Consumer Discretionary</td>    </tr>    <tr>      <th>DISCK</th>      <td>Discovery Inc. Class C</td>      <td>Consumer Discretionary</td>    </tr>    <tr>      <th>DISH</th>      <td>Dish Network</td>      <td>Consumer Discretionary</td>    </tr>    <tr>      <th>DG</th>      <td>Dollar General</td>      <td>Consumer Discretionary</td>    </tr>    <tr>      <th>DLTR</th>      <td>Dollar Tree</td>      <td>Consumer Discretionary</td>    </tr>    <tr>      <th>D</th>      <td>Dominion Energy</td>      <td>Utilities</td>    </tr>    <tr>      <th>DOV</th>      <td>Dover Corp.</td>      <td>Industrials</td>    </tr>    <tr>      <th>DWDP</th>      <td>DowDuPont</td>      <td>Materials</td>    </tr>    <tr>      <th>DPS</th>      <td>Dr Pepper Snapple Group</td>      <td>Consumer Staples</td>    </tr>    <tr>      <th>DTE</th>      <td>DTE Energy Co.</td>      <td>Utilities</td>    </tr>    <tr>      <th>DUK</th>      <td>Duke Energy</td>      <td>Utilities</td>    </tr>    <tr>      <th>DRE</th>      <td>Duke Realty Corp</td>      <td>Real Estate</td>    </tr>    <tr>      <th>DXC</th>      <td>DXC Technology</td>      <td>Information Technology</td>    </tr>    <tr>      <th>ETFC</th>      <td>E*Trade</td>      <td>Financials</td>    </tr>    <tr>      <th>EMN</th>      <td>Eastman Chemical</td>      <td>Materials</td>    </tr>    <tr>      <th>ETN</th>      <td>Eaton Corporation</td>      <td>Industrials</td>    </tr>    <tr>      <th>EBAY</th>      <td>eBay Inc.</td>      <td>Information Technology</td>    </tr>    <tr>      <th>ECL</th>      <td>Ecolab Inc.</td>      <td>Materials</td>    </tr>    <tr>      <th>EIX</th>      <td>Edison Int\\'l</td>      <td>Utilities</td>    </tr>    <tr>      <th>EW</th>      <td>Edwards Lifesciences</td>      <td>Health Care</td>    </tr>    <tr>      <th>EA</th>      <td>Electronic Arts</td>      <td>Information Technology</td>    </tr>    <tr>      <th>EMR</th>      <td>Emerson Electric Company</td>      <td>Industrials</td>    </tr>    <tr>      <th>ETR</th>      <td>Entergy Corp.</td>      <td>Utilities</td>    </tr>    <tr>      <th>EVHC</th>      <td>Envision Healthcare</td>      <td>Health Care</td>    </tr>    <tr>      <th>EOG</th>      <td>EOG Resources</td>      <td>Energy</td>    </tr>    <tr>      <th>EQT</th>      <td>EQT Corporation</td>      <td>Energy</td>    </tr>    <tr>      <th>EFX</th>      <td>Equifax Inc.</td>      <td>Industrials</td>    </tr>    <tr>      <th>EQIX</th>      <td>Equinix</td>      <td>Real Estate</td>    </tr>    <tr>      <th>EQR</th>      <td>Equity Residential</td>      <td>Real Estate</td>    </tr>    <tr>      <th>ESS</th>      <td>Essex Property Trust, Inc.</td>      <td>Real Estate</td>    </tr>    <tr>      <th>EL</th>      <td>Estee Lauder Cos.</td>      <td>Consumer Staples</td>    </tr>    <tr>      <th>RE</th>      <td>Everest Re Group Ltd.</td>      <td>Financials</td>    </tr>    <tr>      <th>ES</th>      <td>Eversource Energy</td>      <td>Utilities</td>    </tr>    <tr>      <th>EXC</th>      <td>Exelon Corp.</td>      <td>Utilities</td>    </tr>    <tr>      <th>EXPE</th>      <td>Expedia Inc.</td>      <td>Consumer Discretionary</td>    </tr>    <tr>      <th>EXPD</th>      <td>Expeditors International</td>      <td>Industrials</td>    </tr>    <tr>      <th>ESRX</th>      <td>Express Scripts</td>      <td>Health Care</td>    </tr>    <tr>      <th>EXR</th>      <td>Extra Space Storage</td>      <td>Real Estate</td>    </tr>    <tr>      <th>XOM</th>      <td>Exxon Mobil Corp.</td>      <td>Energy</td>    </tr>    <tr>      <th>FFIV</th>      <td>F5 Networks</td>      <td>Information Technology</td>    </tr>    <tr>      <th>FB</th>      <td>Facebook, Inc.</td>      <td>Information Technology</td>    </tr>    <tr>      <th>FAST</th>      <td>Fastenal Co</td>      <td>Industrials</td>    </tr>    <tr>      <th>FRT</th>      <td>Federal Realty Investment Trust</td>      <td>Real Estate</td>    </tr>    <tr>      <th>FDX</th>      <td>FedEx Corporation</td>      <td>Industrials</td>    </tr>    <tr>      <th>FIS</th>      <td>Fidelity National Information Services</td>      <td>Information Technology</td>    </tr>    <tr>      <th>FITB</th>      <td>Fifth Third Bancorp</td>      <td>Financials</td>    </tr>    <tr>      <th>FE</th>      <td>FirstEnergy Corp</td>      <td>Utilities</td>    </tr>    <tr>      <th>FISV</th>      <td>Fiserv Inc</td>      <td>Information Technology</td>    </tr>    <tr>      <th>FLIR</th>      <td>FLIR Systems</td>      <td>Information Technology</td>    </tr>    <tr>      <th>FLS</th>      <td>Flowserve Corporation</td>      <td>Industrials</td>    </tr>    <tr>      <th>FLR</th>      <td>Fluor Corp.</td>      <td>Industrials</td>    </tr>    <tr>      <th>FMC</th>      <td>FMC Corporation</td>      <td>Materials</td>    </tr>    <tr>      <th>FL</th>      <td>Foot Locker Inc</td>      <td>Consumer Discretionary</td>    </tr>    <tr>      <th>F</th>      <td>Ford Motor</td>      <td>Consumer Discretionary</td>    </tr>    <tr>      <th>FTV</th>      <td>Fortive Corp</td>      <td>Industrials</td>    </tr>    <tr>      <th>FBHS</th>      <td>Fortune Brands Home &amp; Security</td>      <td>Industrials</td>    </tr>    <tr>      <th>BEN</th>      <td>Franklin Resources</td>      <td>Financials</td>    </tr>    <tr>      <th>FCX</th>      <td>Freeport-McMoRan Inc.</td>      <td>Materials</td>    </tr>    <tr>      <th>GPS</th>      <td>Gap Inc.</td>      <td>Consumer Discretionary</td>    </tr>    <tr>      <th>GRMN</th>      <td>Garmin Ltd.</td>      <td>Consumer Discretionary</td>    </tr>    <tr>      <th>IT</th>      <td>Gartner Inc</td>      <td>Information Technology</td>    </tr>    <tr>      <th>GD</th>      <td>General Dynamics</td>      <td>Industrials</td>    </tr>    <tr>      <th>GE</th>      <td>General Electric</td>      <td>Industrials</td>    </tr>    <tr>      <th>GGP</th>      <td>General Growth Properties Inc.</td>      <td>Real Estate</td>    </tr>    <tr>      <th>GIS</th>      <td>General Mills</td>      <td>Consumer Staples</td>    </tr>    <tr>      <th>GM</th>      <td>General Motors</td>      <td>Consumer Discretionary</td>    </tr>    <tr>      <th>GPC</th>      <td>Genuine Parts</td>      <td>Consumer Discretionary</td>    </tr>    <tr>      <th>GILD</th>      <td>Gilead Sciences</td>      <td>Health Care</td>    </tr>    <tr>      <th>GPN</th>      <td>Global Payments Inc.</td>      <td>Information Technology</td>    </tr>    <tr>      <th>GS</th>      <td>Goldman Sachs Group</td>      <td>Financials</td>    </tr>    <tr>      <th>GT</th>      <td>Goodyear Tire &amp; Rubber</td>      <td>Consumer Discretionary</td>    </tr>    <tr>      <th>GWW</th>      <td>Grainger (W.W.) Inc.</td>      <td>Industrials</td>    </tr>    <tr>      <th>HAL</th>      <td>Halliburton Co.</td>      <td>Energy</td>    </tr>    <tr>      <th>HBI</th>      <td>Hanesbrands Inc</td>      <td>Consumer Discretionary</td>    </tr>    <tr>      <th>HOG</th>      <td>Harley-Davidson</td>      <td>Consumer Discretionary</td>    </tr>    <tr>      <th>HRS</th>      <td>Harris Corporation</td>      <td>Information Technology</td>    </tr>    <tr>      <th>HIG</th>      <td>Hartford Financial Svc.Gp.</td>      <td>Financials</td>    </tr>    <tr>      <th>HAS</th>      <td>Hasbro Inc.</td>      <td>Consumer Discretionary</td>    </tr>    <tr>      <th>HCA</th>      <td>HCA Holdings</td>      <td>Health Care</td>    </tr>    <tr>      <th>HCP</th>      <td>HCP Inc.</td>      <td>Real Estate</td>    </tr>    <tr>      <th>HP</th>      <td>Helmerich &amp; Payne</td>      <td>Energy</td>    </tr>    <tr>      <th>HSIC</th>      <td>Henry Schein</td>      <td>Health Care</td>    </tr>    <tr>      <th>HES</th>      <td>Hess Corporation</td>      <td>Energy</td>    </tr>    <tr>      <th>HPE</th>      <td>Hewlett Packard Enterprise</td>      <td>Information Technology</td>    </tr>    <tr>      <th>HLT</th>      <td>Hilton Worldwide Holdings Inc</td>      <td>Consumer Discretionary</td>    </tr>    <tr>      <th>HOLX</th>      <td>Hologic</td>      <td>Health Care</td>    </tr>    <tr>      <th>HD</th>      <td>Home Depot</td>      <td>Consumer Discretionary</td>    </tr>    <tr>      <th>HON</th>      <td>Honeywell Int\\'l Inc.</td>      <td>Industrials</td>    </tr>    <tr>      <th>HRL</th>      <td>Hormel Foods Corp.</td>      <td>Consumer Staples</td>    </tr>    <tr>      <th>HST</th>      <td>Host Hotels &amp; Resorts</td>      <td>Real Estate</td>    </tr>    <tr>      <th>HPQ</th>      <td>HP Inc.</td>      <td>Information Technology</td>    </tr>    <tr>      <th>HUM</th>      <td>Humana Inc.</td>      <td>Health Care</td>    </tr>    <tr>      <th>HBAN</th>      <td>Huntington Bancshares</td>      <td>Financials</td>    </tr>    <tr>      <th>HII</th>      <td>Huntington Ingalls Industries</td>      <td>Industrials</td>    </tr>    <tr>      <th>IDXX</th>      <td>IDEXX Laboratories</td>      <td>Health Care</td>    </tr>    <tr>      <th>INFO</th>      <td>IHS Markit Ltd.</td>      <td>Industrials</td>    </tr>    <tr>      <th>ITW</th>      <td>Illinois Tool Works</td>      <td>Industrials</td>    </tr>    <tr>      <th>ILMN</th>      <td>Illumina Inc</td>      <td>Health Care</td>    </tr>    <tr>      <th>INCY</th>      <td>Incyte</td>      <td>Health Care</td>    </tr>    <tr>      <th>IR</th>      <td>Ingersoll-Rand PLC</td>      <td>Industrials</td>    </tr>    <tr>      <th>INTC</th>      <td>Intel Corp.</td>      <td>Information Technology</td>    </tr>    <tr>      <th>ICE</th>      <td>Intercontinental Exchange</td>      <td>Financials</td>    </tr>    <tr>      <th>IBM</th>      <td>International Business Machines</td>      <td>Information Technology</td>    </tr>    <tr>      <th>IP</th>      <td>International Paper</td>      <td>Materials</td>    </tr>    <tr>      <th>IPG</th>      <td>Interpublic Group</td>      <td>Consumer Discretionary</td>    </tr>    <tr>      <th>IFF</th>      <td>Intl Flavors &amp; Fragrances</td>      <td>Materials</td>    </tr>    <tr>      <th>INTU</th>      <td>Intuit Inc.</td>      <td>Information Technology</td>    </tr>    <tr>      <th>ISRG</th>      <td>Intuitive Surgical Inc.</td>      <td>Health Care</td>    </tr>    <tr>      <th>IVZ</th>      <td>Invesco Ltd.</td>      <td>Financials</td>    </tr>    <tr>      <th>IPGP</th>      <td>IPG Photonics Corp.</td>      <td>Information Technology</td>    </tr>    <tr>      <th>IQV</th>      <td>IQVIA Holdings Inc.</td>      <td>Health Care</td>    </tr>    <tr>      <th>IRM</th>      <td>Iron Mountain Incorporated</td>      <td>Real Estate</td>    </tr>    <tr>      <th>JBHT</th>      <td>J. B. Hunt Transport Services</td>      <td>Industrials</td>    </tr>    <tr>      <th>JEC</th>      <td>Jacobs Engineering Group</td>      <td>Industrials</td>    </tr>    <tr>      <th>SJM</th>      <td>JM Smucker</td>      <td>Consumer Staples</td>    </tr>    <tr>      <th>JNJ</th>      <td>Johnson &amp; Johnson</td>      <td>Health Care</td>    </tr>    <tr>      <th>JCI</th>      <td>Johnson Controls International</td>      <td>Industrials</td>    </tr>    <tr>      <th>JPM</th>      <td>JPMorgan Chase &amp; Co.</td>      <td>Financials</td>    </tr>    <tr>      <th>JNPR</th>      <td>Juniper Networks</td>      <td>Information Technology</td>    </tr>    <tr>      <th>KSU</th>      <td>Kansas City Southern</td>      <td>Industrials</td>    </tr>    <tr>      <th>K</th>      <td>Kellogg Co.</td>      <td>Consumer Staples</td>    </tr>    <tr>      <th>KEY</th>      <td>KeyCorp</td>      <td>Financials</td>    </tr>    <tr>      <th>KMB</th>      <td>Kimberly-Clark</td>      <td>Consumer Staples</td>    </tr>    <tr>      <th>KIM</th>      <td>Kimco Realty</td>      <td>Real Estate</td>    </tr>    <tr>      <th>KMI</th>      <td>Kinder Morgan</td>      <td>Energy</td>    </tr>    <tr>      <th>KLAC</th>      <td>KLA-Tencor Corp.</td>      <td>Information Technology</td>    </tr>    <tr>      <th>KSS</th>      <td>Kohl\\'s Corp.</td>      <td>Consumer Discretionary</td>    </tr>    <tr>      <th>KHC</th>      <td>Kraft Heinz Co</td>      <td>Consumer Staples</td>    </tr>    <tr>      <th>KR</th>      <td>Kroger Co.</td>      <td>Consumer Staples</td>    </tr>    <tr>      <th>LB</th>      <td>L Brands Inc.</td>      <td>Consumer Discretionary</td>    </tr>    <tr>      <th>LLL</th>      <td>L-3 Communications Holdings</td>      <td>Industrials</td>    </tr>    <tr>      <th>LH</th>      <td>Laboratory Corp. of America Holding</td>      <td>Health Care</td>    </tr>    <tr>      <th>LRCX</th>      <td>Lam Research</td>      <td>Information Technology</td>    </tr>    <tr>      <th>LEG</th>      <td>Leggett &amp; Platt</td>      <td>Consumer Discretionary</td>    </tr>    <tr>      <th>LEN</th>      <td>Lennar Corp.</td>      <td>Consumer Discretionary</td>    </tr>    <tr>      <th>LUK</th>      <td>Leucadia National Corp.</td>      <td>Financials</td>    </tr>    <tr>      <th>LLY</th>      <td>Lilly (Eli) &amp; Co.</td>      <td>Health Care</td>    </tr>    <tr>      <th>LNC</th>      <td>Lincoln National</td>      <td>Financials</td>    </tr>    <tr>      <th>LKQ</th>      <td>LKQ Corporation</td>      <td>Consumer Discretionary</td>    </tr>    <tr>      <th>LMT</th>      <td>Lockheed Martin Corp.</td>      <td>Industrials</td>    </tr>    <tr>      <th>L</th>      <td>Loews Corp.</td>      <td>Financials</td>    </tr>    <tr>      <th>LOW</th>      <td>Lowe\\'s Cos.</td>      <td>Consumer Discretionary</td>    </tr>    <tr>      <th>LYB</th>      <td>LyondellBasell</td>      <td>Materials</td>    </tr>    <tr>      <th>MTB</th>      <td>M&amp;T Bank Corp.</td>      <td>Financials</td>    </tr>    <tr>      <th>MAC</th>      <td>Macerich</td>      <td>Real Estate</td>    </tr>    <tr>      <th>M</th>      <td>Macy\\'s Inc.</td>      <td>Consumer Discretionary</td>    </tr>    <tr>      <th>MRO</th>      <td>Marathon Oil Corp.</td>      <td>Energy</td>    </tr>    <tr>      <th>MPC</th>      <td>Marathon Petroleum</td>      <td>Energy</td>    </tr>    <tr>      <th>MAR</th>      <td>Marriott Int\\'l.</td>      <td>Consumer Discretionary</td>    </tr>    <tr>      <th>MMC</th>      <td>Marsh &amp; McLennan</td>      <td>Financials</td>    </tr>    <tr>      <th>MLM</th>      <td>Martin Marietta Materials</td>      <td>Materials</td>    </tr>    <tr>      <th>MAS</th>      <td>Masco Corp.</td>      <td>Industrials</td>    </tr>    <tr>      <th>MA</th>      <td>Mastercard Inc.</td>      <td>Information Technology</td>    </tr>    <tr>      <th>MAT</th>      <td>Mattel Inc.</td>      <td>Consumer Discretionary</td>    </tr>    <tr>      <th>MKC</th>      <td>McCormick &amp; Co.</td>      <td>Consumer Staples</td>    </tr>    <tr>      <th>MCD</th>      <td>McDonald\\'s Corp.</td>      <td>Consumer Discretionary</td>    </tr>    <tr>      <th>MCK</th>      <td>McKesson Corp.</td>      <td>Health Care</td>    </tr>    <tr>      <th>MDT</th>      <td>Medtronic plc</td>      <td>Health Care</td>    </tr>    <tr>      <th>MRK</th>      <td>Merck &amp; Co.</td>      <td>Health Care</td>    </tr>    <tr>      <th>MET</th>      <td>MetLife Inc.</td>      <td>Financials</td>    </tr>    <tr>      <th>MTD</th>      <td>Mettler Toledo</td>      <td>Health Care</td>    </tr>    <tr>      <th>MGM</th>      <td>MGM Resorts International</td>      <td>Consumer Discretionary</td>    </tr>    <tr>      <th>KORS</th>      <td>Michael Kors Holdings</td>      <td>Consumer Discretionary</td>    </tr>    <tr>      <th>MCHP</th>      <td>Microchip Technology</td>      <td>Information Technology</td>    </tr>    <tr>      <th>MU</th>      <td>Micron Technology</td>      <td>Information Technology</td>    </tr>    <tr>      <th>MSFT</th>      <td>Microsoft Corp.</td>      <td>Information Technology</td>    </tr>    <tr>      <th>MAA</th>      <td>Mid-America Apartments</td>      <td>Real Estate</td>    </tr>    <tr>      <th>MHK</th>      <td>Mohawk Industries</td>      <td>Consumer Discretionary</td>    </tr>    <tr>      <th>TAP</th>      <td>Molson Coors Brewing Company</td>      <td>Consumer Staples</td>    </tr>    <tr>      <th>MDLZ</th>      <td>Mondelez International</td>      <td>Consumer Staples</td>    </tr>    <tr>      <th>MON</th>      <td>Monsanto Co.</td>      <td>Materials</td>    </tr>    <tr>      <th>MNST</th>      <td>Monster Beverage</td>      <td>Consumer Staples</td>    </tr>    <tr>      <th>MCO</th>      <td>Moody\\'s Corp</td>      <td>Financials</td>    </tr>    <tr>      <th>MS</th>      <td>Morgan Stanley</td>      <td>Financials</td>    </tr>    <tr>      <th>MSI</th>      <td>Motorola Solutions Inc.</td>      <td>Information Technology</td>    </tr>    <tr>      <th>MYL</th>      <td>Mylan N.V.</td>      <td>Health Care</td>    </tr>    <tr>      <th>NDAQ</th>      <td>Nasdaq, Inc.</td>      <td>Financials</td>    </tr>    <tr>      <th>NOV</th>      <td>National Oilwell Varco Inc.</td>      <td>Energy</td>    </tr>    <tr>      <th>NAVI</th>      <td>Navient</td>      <td>Financials</td>    </tr>    <tr>      <th>NKTR</th>      <td>Nektar Therapeutics</td>      <td>Health Care</td>    </tr>    <tr>      <th>NTAP</th>      <td>NetApp</td>      <td>Information Technology</td>    </tr>    <tr>      <th>NFLX</th>      <td>Netflix Inc.</td>      <td>Information Technology</td>    </tr>    <tr>      <th>NWL</th>      <td>Newell Brands</td>      <td>Consumer Discretionary</td>    </tr>    <tr>      <th>NFX</th>      <td>Newfield Exploration Co</td>      <td>Energy</td>    </tr>    <tr>      <th>NEM</th>      <td>Newmont Mining Corporation</td>      <td>Materials</td>    </tr>    <tr>      <th>NWSA</th>      <td>News Corp. Class A</td>      <td>Consumer Discretionary</td>    </tr>    <tr>      <th>NWS</th>      <td>News Corp. Class B</td>      <td>Consumer Discretionary</td>    </tr>    <tr>      <th>NEE</th>      <td>NextEra Energy</td>      <td>Utilities</td>    </tr>    <tr>      <th>NLSN</th>      <td>Nielsen Holdings</td>      <td>Industrials</td>    </tr>    <tr>      <th>NKE</th>      <td>Nike</td>      <td>Consumer Discretionary</td>    </tr>    <tr>      <th>NI</th>      <td>NiSource Inc.</td>      <td>Utilities</td>    </tr>    <tr>      <th>NBL</th>      <td>Noble Energy Inc</td>      <td>Energy</td>    </tr>    <tr>      <th>JWN</th>      <td>Nordstrom</td>      <td>Consumer Discretionary</td>    </tr>    <tr>      <th>NSC</th>      <td>Norfolk Southern Corp.</td>      <td>Industrials</td>    </tr>    <tr>      <th>NTRS</th>      <td>Northern Trust Corp.</td>      <td>Financials</td>    </tr>    <tr>      <th>NOC</th>      <td>Northrop Grumman Corp.</td>      <td>Industrials</td>    </tr>    <tr>      <th>NCLH</th>      <td>Norwegian Cruise Line</td>      <td>Consumer Discretionary</td>    </tr>    <tr>      <th>NRG</th>      <td>NRG Energy</td>      <td>Utilities</td>    </tr>    <tr>      <th>NUE</th>      <td>Nucor Corp.</td>      <td>Materials</td>    </tr>    <tr>      <th>NVDA</th>      <td>Nvidia Corporation</td>      <td>Information Technology</td>    </tr>    <tr>      <th>ORLY</th>      <td>O\\'Reilly Automotive</td>      <td>Consumer Discretionary</td>    </tr>    <tr>      <th>OXY</th>      <td>Occidental Petroleum</td>      <td>Energy</td>    </tr>    <tr>      <th>OMC</th>      <td>Omnicom Group</td>      <td>Consumer Discretionary</td>    </tr>    <tr>      <th>OKE</th>      <td>ONEOK</td>      <td>Energy</td>    </tr>    <tr>      <th>ORCL</th>      <td>Oracle Corp.</td>      <td>Information Technology</td>    </tr>    <tr>      <th>PCAR</th>      <td>PACCAR Inc.</td>      <td>Industrials</td>    </tr>    <tr>      <th>PKG</th>      <td>Packaging Corporation of America</td>      <td>Materials</td>    </tr>    <tr>      <th>PH</th>      <td>Parker-Hannifin</td>      <td>Industrials</td>    </tr>    <tr>      <th>PAYX</th>      <td>Paychex Inc.</td>      <td>Information Technology</td>    </tr>    <tr>      <th>PYPL</th>      <td>PayPal</td>      <td>Information Technology</td>    </tr>    <tr>      <th>PNR</th>      <td>Pentair Ltd.</td>      <td>Industrials</td>    </tr>    <tr>      <th>PBCT</th>      <td>People\\'s United Financial</td>      <td>Financials</td>    </tr>    <tr>      <th>PEP</th>      <td>PepsiCo Inc.</td>      <td>Consumer Staples</td>    </tr>    <tr>      <th>PKI</th>      <td>PerkinElmer</td>      <td>Health Care</td>    </tr>    <tr>      <th>PRGO</th>      <td>Perrigo</td>      <td>Health Care</td>    </tr>    <tr>      <th>PFE</th>      <td>Pfizer Inc.</td>      <td>Health Care</td>    </tr>    <tr>      <th>PCG</th>      <td>PG&amp;E Corp.</td>      <td>Utilities</td>    </tr>    <tr>      <th>PM</th>      <td>Philip Morris International</td>      <td>Consumer Staples</td>    </tr>    <tr>      <th>PSX</th>      <td>Phillips 66</td>      <td>Energy</td>    </tr>    <tr>      <th>PNW</th>      <td>Pinnacle West Capital</td>      <td>Utilities</td>    </tr>    <tr>      <th>PXD</th>      <td>Pioneer Natural Resources</td>      <td>Energy</td>    </tr>    <tr>      <th>PNC</th>      <td>PNC Financial Services</td>      <td>Financials</td>    </tr>    <tr>      <th>RL</th>      <td>Polo Ralph Lauren Corp.</td>      <td>Consumer Discretionary</td>    </tr>    <tr>      <th>PPG</th>      <td>PPG Industries</td>      <td>Materials</td>    </tr>    <tr>      <th>PPL</th>      <td>PPL Corp.</td>      <td>Utilities</td>    </tr>    <tr>      <th>PX</th>      <td>Praxair Inc.</td>      <td>Materials</td>    </tr>    <tr>      <th>PFG</th>      <td>Principal Financial Group</td>      <td>Financials</td>    </tr>    <tr>      <th>PG</th>      <td>Procter &amp; Gamble</td>      <td>Consumer Staples</td>    </tr>    <tr>      <th>PGR</th>      <td>Progressive Corp.</td>      <td>Financials</td>    </tr>    <tr>      <th>PLD</th>      <td>Prologis</td>      <td>Real Estate</td>    </tr>    <tr>      <th>PRU</th>      <td>Prudential Financial</td>      <td>Financials</td>    </tr>    <tr>      <th>PEG</th>      <td>Public Serv. Enterprise Inc.</td>      <td>Utilities</td>    </tr>    <tr>      <th>PSA</th>      <td>Public Storage</td>      <td>Real Estate</td>    </tr>    <tr>      <th>PHM</th>      <td>Pulte Homes Inc.</td>      <td>Consumer Discretionary</td>    </tr>    <tr>      <th>PVH</th>      <td>PVH Corp.</td>      <td>Consumer Discretionary</td>    </tr>    <tr>      <th>QRVO</th>      <td>Qorvo</td>      <td>Information Technology</td>    </tr>    <tr>      <th>QCOM</th>      <td>QUALCOMM Inc.</td>      <td>Information Technology</td>    </tr>    <tr>      <th>PWR</th>      <td>Quanta Services Inc.</td>      <td>Industrials</td>    </tr>    <tr>      <th>DGX</th>      <td>Quest Diagnostics</td>      <td>Health Care</td>    </tr>    <tr>      <th>RRC</th>      <td>Range Resources Corp.</td>      <td>Energy</td>    </tr>    <tr>      <th>RJF</th>      <td>Raymond James Financial Inc.</td>      <td>Financials</td>    </tr>    <tr>      <th>RTN</th>      <td>Raytheon Co.</td>      <td>Industrials</td>    </tr>    <tr>      <th>O</th>      <td>Realty Income Corporation</td>      <td>Real Estate</td>    </tr>    <tr>      <th>RHT</th>      <td>Red Hat Inc.</td>      <td>Information Technology</td>    </tr>    <tr>      <th>REG</th>      <td>Regency Centers Corporation</td>      <td>Real Estate</td>    </tr>    <tr>      <th>REGN</th>      <td>Regeneron</td>      <td>Health Care</td>    </tr>    <tr>      <th>RF</th>      <td>Regions Financial Corp.</td>      <td>Financials</td>    </tr>    <tr>      <th>RSG</th>      <td>Republic Services Inc</td>      <td>Industrials</td>    </tr>    <tr>      <th>RMD</th>      <td>ResMed</td>      <td>Health Care</td>    </tr>    <tr>      <th>RHI</th>      <td>Robert Half International</td>      <td>Industrials</td>    </tr>    <tr>      <th>ROK</th>      <td>Rockwell Automation Inc.</td>      <td>Industrials</td>    </tr>    <tr>      <th>COL</th>      <td>Rockwell Collins</td>      <td>Industrials</td>    </tr>    <tr>      <th>ROP</th>      <td>Roper Technologies</td>      <td>Industrials</td>    </tr>    <tr>      <th>ROST</th>      <td>Ross Stores</td>      <td>Consumer Discretionary</td>    </tr>    <tr>      <th>RCL</th>      <td>Royal Caribbean Cruises Ltd</td>      <td>Consumer Discretionary</td>    </tr>    <tr>      <th>SPGI</th>      <td>S&amp;P Global, Inc.</td>      <td>Financials</td>    </tr>    <tr>      <th>CRM</th>      <td>Salesforce.com</td>      <td>Information Technology</td>    </tr>    <tr>      <th>SBAC</th>      <td>SBA Communications</td>      <td>Real Estate</td>    </tr>    <tr>      <th>SCG</th>      <td>SCANA Corp</td>      <td>Utilities</td>    </tr>    <tr>      <th>SLB</th>      <td>Schlumberger Ltd.</td>      <td>Energy</td>    </tr>    <tr>      <th>STX</th>      <td>Seagate Technology</td>      <td>Information Technology</td>    </tr>    <tr>      <th>SEE</th>      <td>Sealed Air</td>      <td>Materials</td>    </tr>    <tr>      <th>SRE</th>      <td>Sempra Energy</td>      <td>Utilities</td>    </tr>    <tr>      <th>SHW</th>      <td>Sherwin-Williams</td>      <td>Materials</td>    </tr>    <tr>      <th>SPG</th>      <td>Simon Property Group Inc</td>      <td>Real Estate</td>    </tr>    <tr>      <th>SWKS</th>      <td>Skyworks Solutions</td>      <td>Information Technology</td>    </tr>    <tr>      <th>SLG</th>      <td>SL Green Realty</td>      <td>Real Estate</td>    </tr>    <tr>      <th>SNA</th>      <td>Snap-On Inc.</td>      <td>Consumer Discretionary</td>    </tr>    <tr>      <th>SO</th>      <td>Southern Co.</td>      <td>Utilities</td>    </tr>    <tr>      <th>LUV</th>      <td>Southwest Airlines</td>      <td>Industrials</td>    </tr>    <tr>      <th>SWK</th>      <td>Stanley Black &amp; Decker</td>      <td>Consumer Discretionary</td>    </tr>    <tr>      <th>SBUX</th>      <td>Starbucks Corp.</td>      <td>Consumer Discretionary</td>    </tr>    <tr>      <th>STT</th>      <td>State Street Corp.</td>      <td>Financials</td>    </tr>    <tr>      <th>SRCL</th>      <td>Stericycle Inc</td>      <td>Industrials</td>    </tr>    <tr>      <th>SYK</th>      <td>Stryker Corp.</td>      <td>Health Care</td>    </tr>    <tr>      <th>STI</th>      <td>SunTrust Banks</td>      <td>Financials</td>    </tr>    <tr>      <th>SIVB</th>      <td>SVB Financial</td>      <td>Financials</td>    </tr>    <tr>      <th>SYMC</th>      <td>Symantec Corp.</td>      <td>Information Technology</td>    </tr>    <tr>      <th>SYF</th>      <td>Synchrony Financial</td>      <td>Financials</td>    </tr>    <tr>      <th>SNPS</th>      <td>Synopsys Inc.</td>      <td>Information Technology</td>    </tr>    <tr>      <th>SYY</th>      <td>Sysco Corp.</td>      <td>Consumer Staples</td>    </tr>    <tr>      <th>TROW</th>      <td>T. Rowe Price Group</td>      <td>Financials</td>    </tr>    <tr>      <th>TTWO</th>      <td>Take-Two Interactive</td>      <td>Information Technology</td>    </tr>    <tr>      <th>TPR</th>      <td>Tapestry, Inc.</td>      <td>Consumer Discretionary</td>    </tr>    <tr>      <th>TGT</th>      <td>Target Corp.</td>      <td>Consumer Discretionary</td>    </tr>    <tr>      <th>TEL</th>      <td>TE Connectivity Ltd.</td>      <td>Information Technology</td>    </tr>    <tr>      <th>FTI</th>      <td>TechnipFMC</td>      <td>Energy</td>    </tr>    <tr>      <th>TXN</th>      <td>Texas Instruments</td>      <td>Information Technology</td>    </tr>    <tr>      <th>TXT</th>      <td>Textron Inc.</td>      <td>Industrials</td>    </tr>    <tr>      <th>BK</th>      <td>The Bank of New York Mellon Corp.</td>      <td>Financials</td>    </tr>    <tr>      <th>CLX</th>      <td>The Clorox Company</td>      <td>Consumer Staples</td>    </tr>    <tr>      <th>COO</th>      <td>The Cooper Companies</td>      <td>Health Care</td>    </tr>    <tr>      <th>HSY</th>      <td>The Hershey Company</td>      <td>Consumer Staples</td>    </tr>    <tr>      <th>MOS</th>      <td>The Mosaic Company</td>      <td>Materials</td>    </tr>    <tr>      <th>TRV</th>      <td>The Travelers Companies Inc.</td>      <td>Financials</td>    </tr>    <tr>      <th>DIS</th>      <td>The Walt Disney Company</td>      <td>Consumer Discretionary</td>    </tr>    <tr>      <th>TMO</th>      <td>Thermo Fisher Scientific</td>      <td>Health Care</td>    </tr>    <tr>      <th>TIF</th>      <td>Tiffany &amp; Co.</td>      <td>Consumer Discretionary</td>    </tr>    <tr>      <th>TWX</th>      <td>Time Warner Inc.</td>      <td>Consumer Discretionary</td>    </tr>    <tr>      <th>TJX</th>      <td>TJX Companies Inc.</td>      <td>Consumer Discretionary</td>    </tr>    <tr>      <th>TMK</th>      <td>Torchmark Corp.</td>      <td>Financials</td>    </tr>    <tr>      <th>TSS</th>      <td>Total System Services</td>      <td>Information Technology</td>    </tr>    <tr>      <th>TSCO</th>      <td>Tractor Supply Company</td>      <td>Consumer Discretionary</td>    </tr>    <tr>      <th>TDG</th>      <td>TransDigm Group</td>      <td>Industrials</td>    </tr>    <tr>      <th>TRIP</th>      <td>TripAdvisor</td>      <td>Consumer Discretionary</td>    </tr>    <tr>      <th>FOXA</th>      <td>Twenty-First Century Fox Class A</td>      <td>Consumer Discretionary</td>    </tr>    <tr>      <th>FOX</th>      <td>Twenty-First Century Fox Class B</td>      <td>Consumer Discretionary</td>    </tr>    <tr>      <th>TSN</th>      <td>Tyson Foods</td>      <td>Consumer Staples</td>    </tr>    <tr>      <th>USB</th>      <td>U.S. Bancorp</td>      <td>Financials</td>    </tr>    <tr>      <th>UDR</th>      <td>UDR Inc</td>      <td>Real Estate</td>    </tr>    <tr>      <th>ULTA</th>      <td>Ulta Beauty</td>      <td>Consumer Discretionary</td>    </tr>    <tr>      <th>UAA</th>      <td>Under Armour Class A</td>      <td>Consumer Discretionary</td>    </tr>    <tr>      <th>UA</th>      <td>Under Armour Class C</td>      <td>Consumer Discretionary</td>    </tr>    <tr>      <th>UNP</th>      <td>Union Pacific</td>      <td>Industrials</td>    </tr>    <tr>      <th>UAL</th>      <td>United Continental Holdings</td>      <td>Industrials</td>    </tr>    <tr>      <th>UNH</th>      <td>United Health Group Inc.</td>      <td>Health Care</td>    </tr>    <tr>      <th>UPS</th>      <td>United Parcel Service</td>      <td>Industrials</td>    </tr>    <tr>      <th>URI</th>      <td>United Rentals, Inc.</td>      <td>Industrials</td>    </tr>    <tr>      <th>UTX</th>      <td>United Technologies</td>      <td>Industrials</td>    </tr>    <tr>      <th>UHS</th>      <td>Universal Health Services, Inc.</td>      <td>Health Care</td>    </tr>    <tr>      <th>UNM</th>      <td>Unum Group</td>      <td>Financials</td>    </tr>    <tr>      <th>VFC</th>      <td>V.F. Corp.</td>      <td>Consumer Discretionary</td>    </tr>    <tr>      <th>VLO</th>      <td>Valero Energy</td>      <td>Energy</td>    </tr>    <tr>      <th>VAR</th>      <td>Varian Medical Systems</td>      <td>Health Care</td>    </tr>    <tr>      <th>VTR</th>      <td>Ventas Inc</td>      <td>Real Estate</td>    </tr>    <tr>      <th>VRSN</th>      <td>Verisign Inc.</td>      <td>Information Technology</td>    </tr>    <tr>      <th>VRSK</th>      <td>Verisk Analytics</td>      <td>Industrials</td>    </tr>    <tr>      <th>VZ</th>      <td>Verizon Communications</td>      <td>Telecommunication Services</td>    </tr>    <tr>      <th>VRTX</th>      <td>Vertex Pharmaceuticals Inc</td>      <td>Health Care</td>    </tr>    <tr>      <th>VIAB</th>      <td>Viacom Inc.</td>      <td>Consumer Discretionary</td>    </tr>    <tr>      <th>V</th>      <td>Visa Inc.</td>      <td>Information Technology</td>    </tr>    <tr>      <th>VNO</th>      <td>Vornado Realty Trust</td>      <td>Real Estate</td>    </tr>    <tr>      <th>VMC</th>      <td>Vulcan Materials</td>      <td>Materials</td>    </tr>    <tr>      <th>WMT</th>      <td>Wal-Mart Stores</td>      <td>Consumer Staples</td>    </tr>    <tr>      <th>WBA</th>      <td>Walgreens Boots Alliance</td>      <td>Consumer Staples</td>    </tr>    <tr>      <th>WM</th>      <td>Waste Management Inc.</td>      <td>Industrials</td>    </tr>    <tr>      <th>WAT</th>      <td>Waters Corporation</td>      <td>Health Care</td>    </tr>    <tr>      <th>WEC</th>      <td>Wec Energy Group Inc</td>      <td>Utilities</td>    </tr>    <tr>      <th>WFC</th>      <td>Wells Fargo</td>      <td>Financials</td>    </tr>    <tr>      <th>WELL</th>      <td>Welltower Inc.</td>      <td>Real Estate</td>    </tr>    <tr>      <th>WDC</th>      <td>Western Digital</td>      <td>Information Technology</td>    </tr>    <tr>      <th>WU</th>      <td>Western Union Co</td>      <td>Information Technology</td>    </tr>    <tr>      <th>WRK</th>      <td>WestRock Company</td>      <td>Materials</td>    </tr>    <tr>      <th>WY</th>      <td>Weyerhaeuser Corp.</td>      <td>Real Estate</td>    </tr>    <tr>      <th>WHR</th>      <td>Whirlpool Corp.</td>      <td>Consumer Discretionary</td>    </tr>    <tr>      <th>WMB</th>      <td>Williams Cos.</td>      <td>Energy</td>    </tr>    <tr>      <th>WLTW</th>      <td>Willis Towers Watson</td>      <td>Financials</td>    </tr>    <tr>      <th>WYN</th>      <td>Wyndham Worldwide</td>      <td>Consumer Discretionary</td>    </tr>    <tr>      <th>WYNN</th>      <td>Wynn Resorts Ltd</td>      <td>Consumer Discretionary</td>    </tr>    <tr>      <th>XEL</th>      <td>Xcel Energy Inc</td>      <td>Utilities</td>    </tr>    <tr>      <th>XRX</th>      <td>Xerox Corp.</td>      <td>Information Technology</td>    </tr>    <tr>      <th>XLNX</th>      <td>Xilinx Inc</td>      <td>Information Technology</td>    </tr>    <tr>      <th>XL</th>      <td>XL Capital</td>      <td>Financials</td>    </tr>    <tr>      <th>XYL</th>      <td>Xylem Inc.</td>      <td>Industrials</td>    </tr>    <tr>      <th>YUM</th>      <td>Yum! Brands Inc</td>      <td>Consumer Discretionary</td>    </tr>    <tr>      <th>ZBH</th>      <td>Zimmer Biomet Holdings</td>      <td>Health Care</td>    </tr>    <tr>      <th>ZION</th>      <td>Zions Bancorp</td>      <td>Financials</td>    </tr>    <tr>      <th>ZTS</th>      <td>Zoetis</td>      <td>Health Care</td>    </tr>  </tbody></table>'"
      ]
     },
     "execution_count": 40,
     "metadata": {},
     "output_type": "execute_result"
    }
   ],
   "source": [
    "top500_html=top500_html.replace('\\t','')\n",
    "top500_html"
   ]
  },
  {
   "cell_type": "code",
   "execution_count": null,
   "metadata": {},
   "outputs": [],
   "source": [
    "html_dict = {}\n"
   ]
  },
  {
   "cell_type": "code",
   "execution_count": 43,
   "metadata": {},
   "outputs": [],
   "source": [
    "top500_df\n",
    "top500_dict=top500_df.to_dict('records')\n",
    "# top500_dict\n"
   ]
  },
  {
   "cell_type": "code",
   "execution_count": 44,
   "metadata": {},
   "outputs": [],
   "source": [
    "# path2= os.path.join('Data', 'output', 'financial_ind2018.csv')\n",
    "# top500_2018.to_csv(path2)"
   ]
  },
  {
   "cell_type": "markdown",
   "metadata": {},
   "source": [
    "## Web scraping rom S& P site (latest News & Announcements)"
   ]
  },
  {
   "cell_type": "code",
   "execution_count": 18,
   "metadata": {},
   "outputs": [],
   "source": [
    "browser=Browser('chrome', headless =True)"
   ]
  },
  {
   "cell_type": "code",
   "execution_count": 38,
   "metadata": {},
   "outputs": [
    {
     "data": {
      "text/plain": [
       "dict"
      ]
     },
     "execution_count": 38,
     "metadata": {},
     "output_type": "execute_result"
    }
   ],
   "source": [
    "indices= {}\n",
    "type(indices)"
   ]
  },
  {
   "cell_type": "code",
   "execution_count": 39,
   "metadata": {},
   "outputs": [],
   "source": [
    "# Visit the following URL\n",
    "news_url = \"https://us.spindices.com/\"\n",
    "browser.visit(news_url)\n",
    "time.sleep(1)\n",
    "# Create BeautifulSoup object; parse with 'html'\n",
    "news_soup = bs(browser.html, 'html.parser')"
   ]
  },
  {
   "cell_type": "code",
   "execution_count": 20,
   "metadata": {},
   "outputs": [],
   "source": [
    "news=news_soup.find('div',class_=\"index-slide\")\n",
    "\n"
   ]
  },
  {
   "cell_type": "code",
   "execution_count": 61,
   "metadata": {},
   "outputs": [],
   "source": [
    "news_title_lst=[]\n",
    "news_link_lst=[]\n",
    "news_date_lst=[]"
   ]
  },
  {
   "cell_type": "code",
   "execution_count": 62,
   "metadata": {},
   "outputs": [],
   "source": [
    "for list in news:\n",
    "    news_item = list.find_all('li')\n",
    "    for each in news_item:\n",
    "        link=result.find('a')['href']\n",
    "        print('\\n---------------------------------------------------------------------------------')\n",
    "        print(link.text)\n",
    "        title_text = result.find('a')\n",
    "        print(title_text.text)\n",
    "        print('\\n---------------------------------------------------------------------------------')\n",
    "        date=result.find('span')\n",
    "        print('***************************')\n",
    "        print(date.text)\n",
    "#     news_titdatele_lst.append(title)\n",
    "#     news_date_lst.append(paragraph)"
   ]
  },
  {
   "cell_type": "code",
   "execution_count": 63,
   "metadata": {},
   "outputs": [],
   "source": [
    "names_stockmarket=[]\n",
    "values=[]\n",
    "daily_changes=[]"
   ]
  },
  {
   "cell_type": "code",
   "execution_count": 64,
   "metadata": {},
   "outputs": [
    {
     "name": "stdout",
     "output_type": "stream",
     "text": [
      "S&P 500\n",
      "3,380.16\n",
      "0.18% ▲\n",
      "S&P GIVI Global\n",
      "288.66\n",
      "-0.27% ▼\n",
      "S&P 500 Bond\n",
      "500.37\n",
      "-0.23% ▼\n",
      "DJCI\n",
      "266.91\n",
      "0.19% ▲\n",
      "DJIA\n",
      "29,398.08\n",
      "-0.09% ▼\n",
      "S&P Global BMI (USD)\n",
      "285.76\n",
      "0.02% ▲\n",
      "S&P 500 Dynamic VIX...\n",
      "1,530.88\n",
      "-0.34% ▼\n",
      "S&P GSCI\n",
      "2,339.17\n",
      "0.57% ▲\n",
      "S&P GIVI US\n",
      "400.33\n",
      "-0.17% ▼\n",
      "S&P 500 Low Vol\n",
      "9,969.07\n",
      "0.66% ▲\n",
      "S&P Global 1200\n",
      "2,702.89\n",
      "0.07% ▲\n",
      "S&P/IFCI Composite...\n",
      "804.39\n",
      "-0.31% ▼\n",
      "S&P/LSTA US Leveraged...\n",
      "2,278.85\n",
      "0.01% ▲\n",
      "S&P Developed BMI (USD)\n",
      "541.51\n",
      "-0.17% ▼\n",
      "S&P 500 Low Vol (CAD)\n",
      "11,278.41\n",
      "0.56% ▲\n",
      "S&P United States REIT...\n",
      "365.84\n",
      "1.16% ▲\n"
     ]
    }
   ],
   "source": [
    "# S& P Indices\n",
    "indices=news_soup.find_all('div',class_=\"index-detail\")\n",
    "for indices_x in indices:\n",
    "    name = indices_x.find('h5').text\n",
    "    print(name)\n",
    "    names_stockmarket.append(name)\n",
    "    value = indices_x.find('span', class_ = \"return-value\").text\n",
    "    print(value)\n",
    "    values.append(value)\n",
    "    daily_change =indices_x.find('span', {\"class\": [\"daily-change up\", \"daily-change down\"]}).text.replace(\" \", \"\")\n",
    "    print(daily_change)\n",
    "    daily_changes.append(daily_change)\n"
   ]
  },
  {
   "cell_type": "code",
   "execution_count": 65,
   "metadata": {},
   "outputs": [
    {
     "data": {
      "text/plain": [
       "['S&P 500',\n",
       " 'S&P GIVI Global',\n",
       " 'S&P 500 Bond',\n",
       " 'DJCI',\n",
       " 'DJIA',\n",
       " 'S&P Global BMI (USD)',\n",
       " 'S&P 500 Dynamic VIX...',\n",
       " 'S&P GSCI',\n",
       " 'S&P GIVI US',\n",
       " 'S&P 500 Low Vol',\n",
       " 'S&P Global 1200',\n",
       " 'S&P/IFCI Composite...',\n",
       " 'S&P/LSTA US Leveraged...',\n",
       " 'S&P Developed BMI (USD)',\n",
       " 'S&P 500 Low Vol (CAD)',\n",
       " 'S&P United States REIT...']"
      ]
     },
     "execution_count": 65,
     "metadata": {},
     "output_type": "execute_result"
    }
   ],
   "source": [
    "names_stockmarket"
   ]
  },
  {
   "cell_type": "code",
   "execution_count": 66,
   "metadata": {},
   "outputs": [
    {
     "data": {
      "text/plain": [
       "['3,380.16',\n",
       " '288.66',\n",
       " '500.37',\n",
       " '266.91',\n",
       " '29,398.08',\n",
       " '285.76',\n",
       " '1,530.88',\n",
       " '2,339.17',\n",
       " '400.33',\n",
       " '9,969.07',\n",
       " '2,702.89',\n",
       " '804.39',\n",
       " '2,278.85',\n",
       " '541.51',\n",
       " '11,278.41',\n",
       " '365.84']"
      ]
     },
     "execution_count": 66,
     "metadata": {},
     "output_type": "execute_result"
    }
   ],
   "source": [
    "values"
   ]
  },
  {
   "cell_type": "code",
   "execution_count": 67,
   "metadata": {},
   "outputs": [
    {
     "data": {
      "text/plain": [
       "['0.18%\\xa0▲',\n",
       " '-0.27%\\xa0▼',\n",
       " '-0.23%\\xa0▼',\n",
       " '0.19%\\xa0▲',\n",
       " '-0.09%\\xa0▼',\n",
       " '0.02%\\xa0▲',\n",
       " '-0.34%\\xa0▼',\n",
       " '0.57%\\xa0▲',\n",
       " '-0.17%\\xa0▼',\n",
       " '0.66%\\xa0▲',\n",
       " '0.07%\\xa0▲',\n",
       " '-0.31%\\xa0▼',\n",
       " '0.01%\\xa0▲',\n",
       " '-0.17%\\xa0▼',\n",
       " '0.56%\\xa0▲',\n",
       " '1.16%\\xa0▲']"
      ]
     },
     "execution_count": 67,
     "metadata": {},
     "output_type": "execute_result"
    }
   ],
   "source": [
    "daily_changes"
   ]
  },
  {
   "cell_type": "code",
   "execution_count": 68,
   "metadata": {},
   "outputs": [],
   "source": [
    "daily_changes=[s.replace('\\xa0', '') for s in daily_changes]"
   ]
  },
  {
   "cell_type": "code",
   "execution_count": 69,
   "metadata": {},
   "outputs": [
    {
     "data": {
      "text/plain": [
       "['0.18%▲',\n",
       " '-0.27%▼',\n",
       " '-0.23%▼',\n",
       " '0.19%▲',\n",
       " '-0.09%▼',\n",
       " '0.02%▲',\n",
       " '-0.34%▼',\n",
       " '0.57%▲',\n",
       " '-0.17%▼',\n",
       " '0.66%▲',\n",
       " '0.07%▲',\n",
       " '-0.31%▼',\n",
       " '0.01%▲',\n",
       " '-0.17%▼',\n",
       " '0.56%▲',\n",
       " '1.16%▲']"
      ]
     },
     "execution_count": 69,
     "metadata": {},
     "output_type": "execute_result"
    }
   ],
   "source": [
    "daily_changes"
   ]
  },
  {
   "cell_type": "code",
   "execution_count": 81,
   "metadata": {},
   "outputs": [],
   "source": [
    "myDict = {}"
   ]
  },
  {
   "cell_type": "code",
   "execution_count": 82,
   "metadata": {},
   "outputs": [],
   "source": [
    "myDict[\"names\"] = names_stockmarket"
   ]
  },
  {
   "cell_type": "code",
   "execution_count": 83,
   "metadata": {},
   "outputs": [],
   "source": [
    "myDict[\"value\"] = values"
   ]
  },
  {
   "cell_type": "code",
   "execution_count": 84,
   "metadata": {},
   "outputs": [],
   "source": [
    "myDict[\"daily_change\"] = daily_changes"
   ]
  },
  {
   "cell_type": "code",
   "execution_count": 85,
   "metadata": {},
   "outputs": [
    {
     "data": {
      "text/plain": [
       "{'names': ['S&P 500',\n",
       "  'S&P GIVI Global',\n",
       "  'S&P 500 Bond',\n",
       "  'DJCI',\n",
       "  'DJIA',\n",
       "  'S&P Global BMI (USD)',\n",
       "  'S&P 500 Dynamic VIX...',\n",
       "  'S&P GSCI',\n",
       "  'S&P GIVI US',\n",
       "  'S&P 500 Low Vol',\n",
       "  'S&P Global 1200',\n",
       "  'S&P/IFCI Composite...',\n",
       "  'S&P/LSTA US Leveraged...',\n",
       "  'S&P Developed BMI (USD)',\n",
       "  'S&P 500 Low Vol (CAD)',\n",
       "  'S&P United States REIT...'],\n",
       " 'value': ['3,380.16',\n",
       "  '288.66',\n",
       "  '500.37',\n",
       "  '266.91',\n",
       "  '29,398.08',\n",
       "  '285.76',\n",
       "  '1,530.88',\n",
       "  '2,339.17',\n",
       "  '400.33',\n",
       "  '9,969.07',\n",
       "  '2,702.89',\n",
       "  '804.39',\n",
       "  '2,278.85',\n",
       "  '541.51',\n",
       "  '11,278.41',\n",
       "  '365.84'],\n",
       " 'daily_change': ['0.18%▲',\n",
       "  '-0.27%▼',\n",
       "  '-0.23%▼',\n",
       "  '0.19%▲',\n",
       "  '-0.09%▼',\n",
       "  '0.02%▲',\n",
       "  '-0.34%▼',\n",
       "  '0.57%▲',\n",
       "  '-0.17%▼',\n",
       "  '0.66%▲',\n",
       "  '0.07%▲',\n",
       "  '-0.31%▼',\n",
       "  '0.01%▲',\n",
       "  '-0.17%▼',\n",
       "  '0.56%▲',\n",
       "  '1.16%▲']}"
      ]
     },
     "execution_count": 85,
     "metadata": {},
     "output_type": "execute_result"
    }
   ],
   "source": [
    "myDict"
   ]
  },
  {
   "cell_type": "code",
   "execution_count": 88,
   "metadata": {},
   "outputs": [
    {
     "data": {
      "text/plain": [
       "dict"
      ]
     },
     "execution_count": 88,
     "metadata": {},
     "output_type": "execute_result"
    }
   ],
   "source": [
    "type(myDict)"
   ]
  },
  {
   "cell_type": "markdown",
   "metadata": {},
   "source": [
    "## Connect to Mongo DB (Localhost"
   ]
  },
  {
   "cell_type": "code",
   "execution_count": 89,
   "metadata": {},
   "outputs": [],
   "source": [
    "conn = 'mongodb://localhost:27017'\n",
    "client = pymongo.MongoClient(conn)\n",
    "db = client.DataBase_stocks"
   ]
  },
  {
   "cell_type": "code",
   "execution_count": 96,
   "metadata": {},
   "outputs": [
    {
     "ename": "TypeError",
     "evalue": "document must be an instance of dict, bson.son.SON, bson.raw_bson.RawBSONDocument, or a type that inherits from collections.MutableMapping",
     "output_type": "error",
     "traceback": [
      "\u001b[1;31m---------------------------------------------------------------------------\u001b[0m",
      "\u001b[1;31mTypeError\u001b[0m                                 Traceback (most recent call last)",
      "\u001b[1;32m<ipython-input-96-79c100422497>\u001b[0m in \u001b[0;36m<module>\u001b[1;34m\u001b[0m\n\u001b[1;32m----> 1\u001b[1;33m \u001b[0mdb\u001b[0m\u001b[1;33m.\u001b[0m\u001b[0mindices\u001b[0m\u001b[1;33m.\u001b[0m\u001b[0minsert_many\u001b[0m\u001b[1;33m(\u001b[0m\u001b[0mmyDict\u001b[0m\u001b[1;33m)\u001b[0m\u001b[1;33m\u001b[0m\u001b[1;33m\u001b[0m\u001b[0m\n\u001b[0m",
      "\u001b[1;32m~\\Anaconda3\\envs\\PandasLearn\\lib\\site-packages\\pymongo\\collection.py\u001b[0m in \u001b[0;36minsert_many\u001b[1;34m(self, documents, ordered, bypass_document_validation, session)\u001b[0m\n\u001b[0;32m    755\u001b[0m         \u001b[0mwrite_concern\u001b[0m \u001b[1;33m=\u001b[0m \u001b[0mself\u001b[0m\u001b[1;33m.\u001b[0m\u001b[0m_write_concern_for\u001b[0m\u001b[1;33m(\u001b[0m\u001b[0msession\u001b[0m\u001b[1;33m)\u001b[0m\u001b[1;33m\u001b[0m\u001b[1;33m\u001b[0m\u001b[0m\n\u001b[0;32m    756\u001b[0m         \u001b[0mblk\u001b[0m \u001b[1;33m=\u001b[0m \u001b[0m_Bulk\u001b[0m\u001b[1;33m(\u001b[0m\u001b[0mself\u001b[0m\u001b[1;33m,\u001b[0m \u001b[0mordered\u001b[0m\u001b[1;33m,\u001b[0m \u001b[0mbypass_document_validation\u001b[0m\u001b[1;33m)\u001b[0m\u001b[1;33m\u001b[0m\u001b[1;33m\u001b[0m\u001b[0m\n\u001b[1;32m--> 757\u001b[1;33m         \u001b[0mblk\u001b[0m\u001b[1;33m.\u001b[0m\u001b[0mops\u001b[0m \u001b[1;33m=\u001b[0m \u001b[1;33m[\u001b[0m\u001b[0mdoc\u001b[0m \u001b[1;32mfor\u001b[0m \u001b[0mdoc\u001b[0m \u001b[1;32min\u001b[0m \u001b[0mgen\u001b[0m\u001b[1;33m(\u001b[0m\u001b[1;33m)\u001b[0m\u001b[1;33m]\u001b[0m\u001b[1;33m\u001b[0m\u001b[1;33m\u001b[0m\u001b[0m\n\u001b[0m\u001b[0;32m    758\u001b[0m         \u001b[0mblk\u001b[0m\u001b[1;33m.\u001b[0m\u001b[0mexecute\u001b[0m\u001b[1;33m(\u001b[0m\u001b[0mwrite_concern\u001b[0m\u001b[1;33m,\u001b[0m \u001b[0msession\u001b[0m\u001b[1;33m=\u001b[0m\u001b[0msession\u001b[0m\u001b[1;33m)\u001b[0m\u001b[1;33m\u001b[0m\u001b[1;33m\u001b[0m\u001b[0m\n\u001b[0;32m    759\u001b[0m         \u001b[1;32mreturn\u001b[0m \u001b[0mInsertManyResult\u001b[0m\u001b[1;33m(\u001b[0m\u001b[0minserted_ids\u001b[0m\u001b[1;33m,\u001b[0m \u001b[0mwrite_concern\u001b[0m\u001b[1;33m.\u001b[0m\u001b[0macknowledged\u001b[0m\u001b[1;33m)\u001b[0m\u001b[1;33m\u001b[0m\u001b[1;33m\u001b[0m\u001b[0m\n",
      "\u001b[1;32m~\\Anaconda3\\envs\\PandasLearn\\lib\\site-packages\\pymongo\\collection.py\u001b[0m in \u001b[0;36m<listcomp>\u001b[1;34m(.0)\u001b[0m\n\u001b[0;32m    755\u001b[0m         \u001b[0mwrite_concern\u001b[0m \u001b[1;33m=\u001b[0m \u001b[0mself\u001b[0m\u001b[1;33m.\u001b[0m\u001b[0m_write_concern_for\u001b[0m\u001b[1;33m(\u001b[0m\u001b[0msession\u001b[0m\u001b[1;33m)\u001b[0m\u001b[1;33m\u001b[0m\u001b[1;33m\u001b[0m\u001b[0m\n\u001b[0;32m    756\u001b[0m         \u001b[0mblk\u001b[0m \u001b[1;33m=\u001b[0m \u001b[0m_Bulk\u001b[0m\u001b[1;33m(\u001b[0m\u001b[0mself\u001b[0m\u001b[1;33m,\u001b[0m \u001b[0mordered\u001b[0m\u001b[1;33m,\u001b[0m \u001b[0mbypass_document_validation\u001b[0m\u001b[1;33m)\u001b[0m\u001b[1;33m\u001b[0m\u001b[1;33m\u001b[0m\u001b[0m\n\u001b[1;32m--> 757\u001b[1;33m         \u001b[0mblk\u001b[0m\u001b[1;33m.\u001b[0m\u001b[0mops\u001b[0m \u001b[1;33m=\u001b[0m \u001b[1;33m[\u001b[0m\u001b[0mdoc\u001b[0m \u001b[1;32mfor\u001b[0m \u001b[0mdoc\u001b[0m \u001b[1;32min\u001b[0m \u001b[0mgen\u001b[0m\u001b[1;33m(\u001b[0m\u001b[1;33m)\u001b[0m\u001b[1;33m]\u001b[0m\u001b[1;33m\u001b[0m\u001b[1;33m\u001b[0m\u001b[0m\n\u001b[0m\u001b[0;32m    758\u001b[0m         \u001b[0mblk\u001b[0m\u001b[1;33m.\u001b[0m\u001b[0mexecute\u001b[0m\u001b[1;33m(\u001b[0m\u001b[0mwrite_concern\u001b[0m\u001b[1;33m,\u001b[0m \u001b[0msession\u001b[0m\u001b[1;33m=\u001b[0m\u001b[0msession\u001b[0m\u001b[1;33m)\u001b[0m\u001b[1;33m\u001b[0m\u001b[1;33m\u001b[0m\u001b[0m\n\u001b[0;32m    759\u001b[0m         \u001b[1;32mreturn\u001b[0m \u001b[0mInsertManyResult\u001b[0m\u001b[1;33m(\u001b[0m\u001b[0minserted_ids\u001b[0m\u001b[1;33m,\u001b[0m \u001b[0mwrite_concern\u001b[0m\u001b[1;33m.\u001b[0m\u001b[0macknowledged\u001b[0m\u001b[1;33m)\u001b[0m\u001b[1;33m\u001b[0m\u001b[1;33m\u001b[0m\u001b[0m\n",
      "\u001b[1;32m~\\Anaconda3\\envs\\PandasLearn\\lib\\site-packages\\pymongo\\collection.py\u001b[0m in \u001b[0;36mgen\u001b[1;34m()\u001b[0m\n\u001b[0;32m    746\u001b[0m             \u001b[1;34m\"\"\"A generator that validates documents and handles _ids.\"\"\"\u001b[0m\u001b[1;33m\u001b[0m\u001b[1;33m\u001b[0m\u001b[0m\n\u001b[0;32m    747\u001b[0m             \u001b[1;32mfor\u001b[0m \u001b[0mdocument\u001b[0m \u001b[1;32min\u001b[0m \u001b[0mdocuments\u001b[0m\u001b[1;33m:\u001b[0m\u001b[1;33m\u001b[0m\u001b[1;33m\u001b[0m\u001b[0m\n\u001b[1;32m--> 748\u001b[1;33m                 \u001b[0mcommon\u001b[0m\u001b[1;33m.\u001b[0m\u001b[0mvalidate_is_document_type\u001b[0m\u001b[1;33m(\u001b[0m\u001b[1;34m\"document\"\u001b[0m\u001b[1;33m,\u001b[0m \u001b[0mdocument\u001b[0m\u001b[1;33m)\u001b[0m\u001b[1;33m\u001b[0m\u001b[1;33m\u001b[0m\u001b[0m\n\u001b[0m\u001b[0;32m    749\u001b[0m                 \u001b[1;32mif\u001b[0m \u001b[1;32mnot\u001b[0m \u001b[0misinstance\u001b[0m\u001b[1;33m(\u001b[0m\u001b[0mdocument\u001b[0m\u001b[1;33m,\u001b[0m \u001b[0mRawBSONDocument\u001b[0m\u001b[1;33m)\u001b[0m\u001b[1;33m:\u001b[0m\u001b[1;33m\u001b[0m\u001b[1;33m\u001b[0m\u001b[0m\n\u001b[0;32m    750\u001b[0m                     \u001b[1;32mif\u001b[0m \u001b[1;34m\"_id\"\u001b[0m \u001b[1;32mnot\u001b[0m \u001b[1;32min\u001b[0m \u001b[0mdocument\u001b[0m\u001b[1;33m:\u001b[0m\u001b[1;33m\u001b[0m\u001b[1;33m\u001b[0m\u001b[0m\n",
      "\u001b[1;32m~\\Anaconda3\\envs\\PandasLearn\\lib\\site-packages\\pymongo\\common.py\u001b[0m in \u001b[0;36mvalidate_is_document_type\u001b[1;34m(option, value)\u001b[0m\n\u001b[0;32m    481\u001b[0m                         \u001b[1;34m\"bson.raw_bson.RawBSONDocument, or \"\u001b[0m\u001b[1;33m\u001b[0m\u001b[1;33m\u001b[0m\u001b[0m\n\u001b[0;32m    482\u001b[0m                         \u001b[1;34m\"a type that inherits from \"\u001b[0m\u001b[1;33m\u001b[0m\u001b[1;33m\u001b[0m\u001b[0m\n\u001b[1;32m--> 483\u001b[1;33m                         \"collections.MutableMapping\" % (option,))\n\u001b[0m\u001b[0;32m    484\u001b[0m \u001b[1;33m\u001b[0m\u001b[0m\n\u001b[0;32m    485\u001b[0m \u001b[1;33m\u001b[0m\u001b[0m\n",
      "\u001b[1;31mTypeError\u001b[0m: document must be an instance of dict, bson.son.SON, bson.raw_bson.RawBSONDocument, or a type that inherits from collections.MutableMapping"
     ]
    }
   ],
   "source": [
    "db.indices.insert_many(myDict)"
   ]
  },
  {
   "cell_type": "markdown",
   "metadata": {},
   "source": [
    "Pushing S&P 500 company details to Mongo Collection name:all_company"
   ]
  },
  {
   "cell_type": "code",
   "execution_count": 45,
   "metadata": {},
   "outputs": [
    {
     "data": {
      "text/plain": [
       "<pymongo.results.InsertManyResult at 0x199a67ec708>"
      ]
     },
     "execution_count": 45,
     "metadata": {},
     "output_type": "execute_result"
    }
   ],
   "source": [
    "db.all_company.insert_many(top500_dict)"
   ]
  },
  {
   "cell_type": "markdown",
   "metadata": {},
   "source": [
    "Pushing Financial metadata for each year. Collection name top500_2014/2015/2016/2017/2018"
   ]
  },
  {
   "cell_type": "code",
   "execution_count": 46,
   "metadata": {},
   "outputs": [
    {
     "data": {
      "text/plain": [
       "<pymongo.results.InsertManyResult at 0x199a68819c8>"
      ]
     },
     "execution_count": 46,
     "metadata": {},
     "output_type": "execute_result"
    }
   ],
   "source": [
    "db.top500_2014.insert_many(financial2014_dict)"
   ]
  },
  {
   "cell_type": "code",
   "execution_count": 47,
   "metadata": {},
   "outputs": [
    {
     "data": {
      "text/plain": [
       "<pymongo.results.InsertManyResult at 0x199a6eb4208>"
      ]
     },
     "execution_count": 47,
     "metadata": {},
     "output_type": "execute_result"
    }
   ],
   "source": [
    "db.top500_2015.insert_many(financial2015_dict)"
   ]
  },
  {
   "cell_type": "code",
   "execution_count": 48,
   "metadata": {},
   "outputs": [
    {
     "data": {
      "text/plain": [
       "<pymongo.results.InsertManyResult at 0x199a6983408>"
      ]
     },
     "execution_count": 48,
     "metadata": {},
     "output_type": "execute_result"
    }
   ],
   "source": [
    "db.top500_2016.insert_many(financial2016_dict)"
   ]
  },
  {
   "cell_type": "code",
   "execution_count": 49,
   "metadata": {},
   "outputs": [
    {
     "data": {
      "text/plain": [
       "<pymongo.results.InsertManyResult at 0x199a6e8fac8>"
      ]
     },
     "execution_count": 49,
     "metadata": {},
     "output_type": "execute_result"
    }
   ],
   "source": [
    "db.top500_2017.insert_many(financial2017_dict)"
   ]
  },
  {
   "cell_type": "code",
   "execution_count": 50,
   "metadata": {},
   "outputs": [
    {
     "data": {
      "text/plain": [
       "<pymongo.results.InsertManyResult at 0x199a99eff88>"
      ]
     },
     "execution_count": 50,
     "metadata": {},
     "output_type": "execute_result"
    }
   ],
   "source": [
    "db.top500_2018.insert_many(financial2018_dict)"
   ]
  },
  {
   "cell_type": "markdown",
   "metadata": {},
   "source": [
    "Data Base name: stockDB. Collection : all_stocks"
   ]
  },
  {
   "cell_type": "code",
   "execution_count": 51,
   "metadata": {},
   "outputs": [
    {
     "data": {
      "text/plain": [
       "<pymongo.results.InsertManyResult at 0x199a67ed808>"
      ]
     },
     "execution_count": 51,
     "metadata": {},
     "output_type": "execute_result"
    }
   ],
   "source": [
    "db.all_stock.insert_many(stock_dict)"
   ]
  },
  {
   "cell_type": "code",
   "execution_count": null,
   "metadata": {},
   "outputs": [],
   "source": []
  }
 ],
 "metadata": {
  "kernelspec": {
   "display_name": "Python [conda env:PandasLearn] *",
   "language": "python",
   "name": "conda-env-PandasLearn-py"
  },
  "language_info": {
   "codemirror_mode": {
    "name": "ipython",
    "version": 3
   },
   "file_extension": ".py",
   "mimetype": "text/x-python",
   "name": "python",
   "nbconvert_exporter": "python",
   "pygments_lexer": "ipython3",
   "version": "3.7.4"
  },
  "nteract": {
   "version": "0.12.3"
  }
 },
 "nbformat": 4,
 "nbformat_minor": 2
}
